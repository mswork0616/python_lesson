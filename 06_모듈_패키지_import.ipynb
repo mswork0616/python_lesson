{
 "cells": [
  {
   "cell_type": "markdown",
   "id": "74c24fef",
   "metadata": {},
   "source": [
    "# 모듈\n",
    "- 독립적인 기능을 가지고 재사용가능한 프로그램\n",
    "- 파이썬에서 모듈은 재사용 가능한 함수 , 클래스등을 작성한 소스 파일을 의미\n",
    "    - .py 로 저장한 하나의 파일이 하나의 모듈\n",
    "    - 소스파일에 저장된 함수나 클래스들을 다른 python 프로그램에서 사용가능\n",
    "    - ∴ 모듈은 라이브러리로 볼 수 있음\n",
    "- 모듈의 종류\n",
    "    - 표준 모듈 : 파이썬에 내장된 모듈\n",
    "    - 3rd Party 모듈 : 특정 개발업체나 개발자들이 만들어 배포하는 모듈\n",
    "    - 사용자 작성 모듈 : 개발자가 재사용을 위해 직접 만든 모듈"
   ]
  },
  {
   "cell_type": "markdown",
   "id": "a0b30a92",
   "metadata": {},
   "source": [
    "## import\n",
    "- 내가 사용할 모듈/힘수/클래스를 메모리에 올리는 작업\n",
    "- 내장함수 이외의 모듈을 사용하기 위해서 모듈의 내용을 import 구문을 이용해 loading"
   ]
  },
  {
   "cell_type": "code",
   "execution_count": 1,
   "id": "6305eabf",
   "metadata": {},
   "outputs": [],
   "source": [
    "# utils.py의 함수/클래스를 사용\n",
    "#  -> 다른 모듈에 있는 함수/클래스를 사용하겠다."
   ]
  },
  {
   "cell_type": "code",
   "execution_count": 2,
   "id": "e9895c13",
   "metadata": {},
   "outputs": [],
   "source": [
    "# utils 모듈을 import\n",
    "# import 수정한 내용은 import 불가 (현재 실행을 종료하고 다시 실행)\n",
    "# jupyter notebook 경우 Kernel > Restart\n",
    "import utils"
   ]
  },
  {
   "cell_type": "code",
   "execution_count": 3,
   "id": "e763f5b4",
   "metadata": {},
   "outputs": [
    {
     "name": "stdout",
     "output_type": "stream",
     "text": [
      "30 60\n"
     ]
    }
   ],
   "source": [
    "# 모듈을 import하고 모듈 내 함수나 클래스 사용\n",
    "#  => 모듈.함수() 모듈.클래스()\n",
    "v = utils.plus(10, 20)\n",
    "v2 = utils.sum_values(10, 20, 30)\n",
    "print(v, v2)"
   ]
  },
  {
   "cell_type": "code",
   "execution_count": 4,
   "id": "e28735b6",
   "metadata": {},
   "outputs": [
    {
     "name": "stdout",
     "output_type": "stream",
     "text": [
      "이름: 홍길동\n"
     ]
    }
   ],
   "source": [
    "p = utils.Person('홍길동')\n",
    "print(p)"
   ]
  },
  {
   "cell_type": "markdown",
   "id": "70af0b1f",
   "metadata": {},
   "source": [
    "## 기본구문"
   ]
  },
  {
   "cell_type": "code",
   "execution_count": 5,
   "id": "060c4fab",
   "metadata": {},
   "outputs": [
    {
     "name": "stdout",
     "output_type": "stream",
     "text": [
      "300 이름: 유관순\n"
     ]
    }
   ],
   "source": [
    "# 모듈 내 특정 함수/클래스만 import\n",
    "# from 모듈명 import 대상1, 대상2, ...\n",
    "# from 모듈명 import *\n",
    "from utils import plus, Person\n",
    "v = plus(100, 200)\n",
    "p = Person('유관순')\n",
    "print(v, p)"
   ]
  },
  {
   "cell_type": "code",
   "execution_count": 6,
   "id": "f775f1a5",
   "metadata": {},
   "outputs": [],
   "source": [
    "# from a.b.c.d.e import f\n",
    "# 패키지 : a, b, c, d / 모듈 : e"
   ]
  },
  {
   "cell_type": "code",
   "execution_count": 7,
   "id": "27925652",
   "metadata": {},
   "outputs": [],
   "source": [
    "# import 한 것에 별칭(alias)\n",
    "# (from 모듈) import 대상 as 별칭\n",
    "from utils import plus as pl, Person as P"
   ]
  },
  {
   "cell_type": "code",
   "execution_count": 8,
   "id": "64c95088",
   "metadata": {},
   "outputs": [
    {
     "data": {
      "text/plain": [
       "300"
      ]
     },
     "execution_count": 8,
     "metadata": {},
     "output_type": "execute_result"
    }
   ],
   "source": [
    "pl(100, 200) # 별칭으로 호출"
   ]
  },
  {
   "cell_type": "code",
   "execution_count": 9,
   "id": "d4c9141f",
   "metadata": {},
   "outputs": [
    {
     "name": "stdout",
     "output_type": "stream",
     "text": [
      "이름: 홍길동\n"
     ]
    }
   ],
   "source": [
    "p = P('홍길동')\n",
    "print(p)"
   ]
  },
  {
   "cell_type": "code",
   "execution_count": 10,
   "id": "2d7f3dbb",
   "metadata": {},
   "outputs": [
    {
     "data": {
      "text/plain": [
       "3"
      ]
     },
     "execution_count": 10,
     "metadata": {},
     "output_type": "execute_result"
    }
   ],
   "source": [
    "import utils as ut\n",
    "ut.plus(1, 2)"
   ]
  },
  {
   "cell_type": "code",
   "execution_count": 11,
   "id": "90d175fb",
   "metadata": {},
   "outputs": [
    {
     "data": {
      "text/plain": [
       "15"
      ]
     },
     "execution_count": 11,
     "metadata": {},
     "output_type": "execute_result"
    }
   ],
   "source": [
    "ut.sum_values(1, 2, 3, 4, 5)"
   ]
  },
  {
   "cell_type": "code",
   "execution_count": 12,
   "id": "7a35aef2",
   "metadata": {},
   "outputs": [
    {
     "name": "stdout",
     "output_type": "stream",
     "text": [
      "my_package.calc.plus\n",
      "my_package.calc.minus\n",
      "my_package.calc.multiply\n",
      "my_package.calc.divide\n",
      "30 -10 200 0.5\n"
     ]
    }
   ],
   "source": [
    "# 패키지  내 모듈 import\n",
    "# from 패키지 import 모듈\n",
    "from my_package import calc # my_package 디렉토리 아래 clac.py 파일\n",
    "v1 = calc.plus(10, 20)\n",
    "v2 = calc.minus(10, 20)\n",
    "v3 = calc.multiply(10, 20)\n",
    "v4 = calc.divide(10, 20)\n",
    "print(v1, v2, v3, v4)"
   ]
  },
  {
   "cell_type": "code",
   "execution_count": 13,
   "id": "c0b8f37f",
   "metadata": {},
   "outputs": [],
   "source": [
    "# 패키지 내 모듈 안의 함수\n",
    "# from 패키지.모듈 import 함수명\n",
    "from my_package.calc import divide as di, multiply as mp"
   ]
  },
  {
   "cell_type": "code",
   "execution_count": 14,
   "id": "4d1d2d7e",
   "metadata": {},
   "outputs": [
    {
     "name": "stdout",
     "output_type": "stream",
     "text": [
      "my_package.calc.divide\n"
     ]
    },
    {
     "data": {
      "text/plain": [
       "20.0"
      ]
     },
     "execution_count": 14,
     "metadata": {},
     "output_type": "execute_result"
    }
   ],
   "source": [
    "di(100, 5)"
   ]
  },
  {
   "cell_type": "code",
   "execution_count": 15,
   "id": "caf141da",
   "metadata": {},
   "outputs": [
    {
     "name": "stdout",
     "output_type": "stream",
     "text": [
      "my_package.calc.multiply\n"
     ]
    },
    {
     "data": {
      "text/plain": [
       "2000"
      ]
     },
     "execution_count": 15,
     "metadata": {},
     "output_type": "execute_result"
    }
   ],
   "source": [
    "mp(100, 20)"
   ]
  },
  {
   "cell_type": "code",
   "execution_count": 16,
   "id": "67d1e922",
   "metadata": {},
   "outputs": [
    {
     "ename": "ModuleNotFoundError",
     "evalue": "No module named 'your_package'",
     "output_type": "error",
     "traceback": [
      "\u001b[1;31m---------------------------------------------------------------------------\u001b[0m",
      "\u001b[1;31mModuleNotFoundError\u001b[0m                       Traceback (most recent call last)",
      "\u001b[1;32m~\\AppData\\Local\\Temp/ipykernel_21048/1511341637.py\u001b[0m in \u001b[0;36m<module>\u001b[1;34m\u001b[0m\n\u001b[1;32m----> 1\u001b[1;33m \u001b[1;32mfrom\u001b[0m \u001b[0myour_package\u001b[0m \u001b[1;32mimport\u001b[0m \u001b[0mcalc2\u001b[0m\u001b[1;33m\u001b[0m\u001b[1;33m\u001b[0m\u001b[0m\n\u001b[0m\u001b[0;32m      2\u001b[0m \u001b[1;33m\u001b[0m\u001b[0m\n\u001b[0;32m      3\u001b[0m \u001b[1;31m# 현재 작업디렉토리(현재 모듈이 실행되는 경로)/your_package\u001b[0m\u001b[1;33m\u001b[0m\u001b[1;33m\u001b[0m\u001b[0m\n\u001b[0;32m      4\u001b[0m \u001b[1;31m# your_package는 다른 경로에 저장 ∴ 바로 import 불가\u001b[0m\u001b[1;33m\u001b[0m\u001b[1;33m\u001b[0m\u001b[0m\n\u001b[0;32m      5\u001b[0m \u001b[1;31m# OS의 환경변수에 PYHTONPATH 변수명으로 LIB(패키지들)가 저장된 디렉토리를 설정\u001b[0m\u001b[1;33m\u001b[0m\u001b[1;33m\u001b[0m\u001b[0m\n",
      "\u001b[1;31mModuleNotFoundError\u001b[0m: No module named 'your_package'"
     ]
    }
   ],
   "source": [
    "from your_package import calc2\n",
    "\n",
    "# 현재 작업디렉토리(현재 모듈이 실행되는 경로)/your_package\n",
    "# your_package는 다른 경로에 저장 ∴ 바로 import 불가\n",
    "# OS의 환경변수에 PYHTONPATH 변수명으로 LIB(패키지들)가 저장된 디렉토리를 설정\n",
    "# PYTHON에 내장 된 함수나 패키지들 pip/conda install 설치한 패키지들은 import 가능"
   ]
  },
  {
   "cell_type": "code",
   "execution_count": 17,
   "id": "492d47e1",
   "metadata": {
    "scrolled": false
   },
   "outputs": [],
   "source": [
    "import utils # utils 내부의 함수와 클래스가 필요함 나오는 결과값은 불필요"
   ]
  },
  {
   "cell_type": "code",
   "execution_count": 18,
   "id": "6a3d5209",
   "metadata": {},
   "outputs": [
    {
     "name": "stdout",
     "output_type": "stream",
     "text": [
      "__main__\n"
     ]
    }
   ],
   "source": [
    "# __name__ 변수\n",
    "# 모듈이 import되어 실행될 경우 : 모듈명 문자열로 들어간다.\n",
    "# 모듈이 메인으로 실행될 경우 (python.py): '__main__'이 포함 됨\n",
    "# 모듈이 __main__인 경우에만 실행하게 하고 아닌 경우는 미실행하게 할 것\n",
    "\n",
    "print(__name__)"
   ]
  }
 ],
 "metadata": {
  "kernelspec": {
   "display_name": "Python 3 (ipykernel)",
   "language": "python",
   "name": "python3"
  },
  "language_info": {
   "codemirror_mode": {
    "name": "ipython",
    "version": 3
   },
   "file_extension": ".py",
   "mimetype": "text/x-python",
   "name": "python",
   "nbconvert_exporter": "python",
   "pygments_lexer": "ipython3",
   "version": "3.9.7"
  }
 },
 "nbformat": 4,
 "nbformat_minor": 5
}

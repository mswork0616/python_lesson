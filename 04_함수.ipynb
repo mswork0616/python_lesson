{
 "cells": [
  {
   "cell_type": "code",
   "execution_count": 1,
   "id": "5ae13314",
   "metadata": {},
   "outputs": [
    {
     "name": "stdout",
     "output_type": "stream",
     "text": [
      "hello world\n",
      "hello world\n"
     ]
    }
   ],
   "source": [
    "s = input() # input 함수 호출\n",
    "print(s) # print 함수 호출"
   ]
  },
  {
   "cell_type": "code",
   "execution_count": 2,
   "id": "ca920da9",
   "metadata": {},
   "outputs": [
    {
     "name": "stdout",
     "output_type": "stream",
     "text": [
      "100\n"
     ]
    }
   ],
   "source": [
    "i = int('100') # '100' : argument(인수) => 피연산자\n",
    "print(i) # i의 100 -> int() 함수의 반환값"
   ]
  },
  {
   "cell_type": "code",
   "execution_count": 3,
   "id": "41289301",
   "metadata": {},
   "outputs": [
    {
     "name": "stdout",
     "output_type": "stream",
     "text": [
      "test\n",
      "test\n",
      "None\n"
     ]
    }
   ],
   "source": [
    "print('test')\n",
    "j = print('test')\n",
    "print(j) # print는 None 값"
   ]
  },
  {
   "cell_type": "markdown",
   "id": "d51c2595",
   "metadata": {},
   "source": [
    "# 함수(Function)\n",
    "- 사용자 정의 연산자\n",
    "- 구문\n",
    "```python\n",
    "#[]: 옵션, ... 여러개\n",
    "def 함수이름([매개변수, ...]):\n",
    "    실행 구문들을 순서대로 작성\n",
    "    ...\n",
    "    [return value]\n",
    "```\n",
    "- 함수 이름\n",
    "    - 규칙 : 변수와 동일\n",
    "    - 관례 : 변수와 동이 (snake 표기)"
   ]
  },
  {
   "cell_type": "code",
   "execution_count": 4,
   "id": "16c98d29",
   "metadata": {},
   "outputs": [],
   "source": [
    "# 함수 정의\n",
    "# 정의된 함수는 사용하기 위해 반드시 메모리에 로딩되어야 함. => 실행, import\n",
    "def say_hello():\n",
    "    print('안녕하세요')\n",
    "    print('hello~')"
   ]
  },
  {
   "cell_type": "code",
   "execution_count": 5,
   "id": "028b569b",
   "metadata": {},
   "outputs": [
    {
     "name": "stdout",
     "output_type": "stream",
     "text": [
      "안녕하세요\n",
      "hello~\n"
     ]
    }
   ],
   "source": [
    "# 호출 : 함수명([argument])\n",
    "# return 값이 잇는 함수 호출 : 변수 = 함수명([argument]) \n",
    "say_hello()"
   ]
  },
  {
   "cell_type": "code",
   "execution_count": 6,
   "id": "7254980c",
   "metadata": {},
   "outputs": [],
   "source": [
    "# 매개변수가 있는 함수\n",
    "def say_hello2(name): # name : 매개변수(parameter) -> 호출한 곳으로 부터 전달된 값(argument)을 받을 변수\n",
    "    greeting = f'{name}님 반갑습니다.'\n",
    "    print(greeting)"
   ]
  },
  {
   "cell_type": "code",
   "execution_count": 7,
   "id": "a1f7d5c6",
   "metadata": {},
   "outputs": [
    {
     "name": "stdout",
     "output_type": "stream",
     "text": [
      "홍길동님 반갑습니다.\n",
      "이순신님 반갑습니다.\n",
      "강감찬님 반갑습니다.\n"
     ]
    }
   ],
   "source": [
    "# 매개변수 가 있는 함수 호출 시 반드시 값이 있어야 한다.\n",
    "say_hello2('홍길동')\n",
    "say_hello2('이순신')\n",
    "say_hello2('강감찬')"
   ]
  },
  {
   "cell_type": "code",
   "execution_count": 8,
   "id": "449e8aa0",
   "metadata": {},
   "outputs": [],
   "source": [
    "# 반환값(return value)가 있는 함수\n",
    "def say_hello3(name, age):\n",
    "    greeting = f'{age}세 {name}님 환영합니다.'\n",
    "    return greeting # greeting변수릐 값(처리결과)를 호출한 곳으로 전달 => 리턴값\n",
    "                     # return : 호출한 곳으로 돌아가는 명령어."
   ]
  },
  {
   "cell_type": "code",
   "execution_count": 9,
   "id": "818ee9d1",
   "metadata": {},
   "outputs": [
    {
     "name": "stdout",
     "output_type": "stream",
     "text": [
      "20세 홍길동님 환영합니다.30세 이순신님 환영합니다.\n"
     ]
    }
   ],
   "source": [
    "g1 = say_hello3('홍길동', 20)\n",
    "g2 = say_hello3('이순신', 30)\n",
    "print(g1 + g2)"
   ]
  },
  {
   "cell_type": "code",
   "execution_count": 10,
   "id": "b22ca3fe",
   "metadata": {},
   "outputs": [],
   "source": [
    "# 매개변수는 여러개 선언이 가능, 리턴값은 1만 가능\n",
    "# 처리결과가 여러개인 경우 : 자료구조로 묶어서 전달\n",
    "# 두개의 값을 받아 사칙연산한 결과를 반환하는 함수\n",
    "def calc(num1, num2):\n",
    "    a = num1 + num2\n",
    "    b = num1 - num2\n",
    "    c = num1 * num2\n",
    "    d = None\n",
    "    if d != 0:\n",
    "        d = num1 / num2\n",
    "    \n",
    "#    return [a, b, c, d] # 리스트\n",
    "#    return a, b, c, d # 튜플\n",
    "    return {'plus':a, 'minus':b, 'multiply':c, 'divide':d}"
   ]
  },
  {
   "cell_type": "code",
   "execution_count": 11,
   "id": "21750656",
   "metadata": {},
   "outputs": [
    {
     "name": "stdout",
     "output_type": "stream",
     "text": [
      "{'plus': 15, 'minus': 5, 'multiply': 50, 'divide': 2.0}\n",
      "plus minus multiply divide\n"
     ]
    }
   ],
   "source": [
    "# 리스트 대입\n",
    "reusult = calc(10, 5)\n",
    "print(reusult)\n",
    "r1, r2, r3, r4 = calc(20, 10) \n",
    "print(r1, r2, r3, r4)"
   ]
  },
  {
   "cell_type": "code",
   "execution_count": 12,
   "id": "4a7ad970",
   "metadata": {},
   "outputs": [
    {
     "name": "stdout",
     "output_type": "stream",
     "text": [
      "{'plus': 15, 'minus': 5, 'multiply': 50, 'divide': 2.0}\n",
      "plus minus multiply divide\n"
     ]
    }
   ],
   "source": [
    "# 튜플 대입\n",
    "reusult1 = calc(10, 5)\n",
    "print(reusult1)\n",
    "ra, rb, rc, rd = calc(20, 10) \n",
    "print(ra, rb, rc, rd)"
   ]
  },
  {
   "cell_type": "code",
   "execution_count": 13,
   "id": "13d52edb",
   "metadata": {},
   "outputs": [
    {
     "name": "stdout",
     "output_type": "stream",
     "text": [
      "{'plus': 15, 'minus': 5, 'multiply': 50, 'divide': 2.0}\n",
      "plus : 15\n"
     ]
    }
   ],
   "source": [
    "# 딕셔너리 대입\n",
    "result2 = calc(10, 5)\n",
    "print(result2)\n",
    "re, rf, rg, rh = calc(20, 10) \n",
    "print('plus :', result2['plus'])"
   ]
  },
  {
   "cell_type": "code",
   "execution_count": 14,
   "id": "eed66a35",
   "metadata": {},
   "outputs": [
    {
     "ename": "NameError",
     "evalue": "name 'num1' is not defined",
     "output_type": "error",
     "traceback": [
      "\u001b[1;31m---------------------------------------------------------------------------\u001b[0m",
      "\u001b[1;31mNameError\u001b[0m                                 Traceback (most recent call last)",
      "\u001b[1;32m~\\AppData\\Local\\Temp/ipykernel_5408/4277572719.py\u001b[0m in \u001b[0;36m<module>\u001b[1;34m\u001b[0m\n\u001b[0;32m      1\u001b[0m \u001b[0mcalc\u001b[0m\u001b[1;33m(\u001b[0m\u001b[1;36m10\u001b[0m\u001b[1;33m,\u001b[0m \u001b[1;36m5\u001b[0m\u001b[1;33m)\u001b[0m\u001b[1;33m\u001b[0m\u001b[1;33m\u001b[0m\u001b[0m\n\u001b[1;32m----> 2\u001b[1;33m \u001b[0mprint\u001b[0m\u001b[1;33m(\u001b[0m\u001b[0mnum1\u001b[0m\u001b[1;33m,\u001b[0m \u001b[0mnum2\u001b[0m\u001b[1;33m,\u001b[0m \u001b[0ma\u001b[0m\u001b[1;33m,\u001b[0m \u001b[0mb\u001b[0m\u001b[1;33m,\u001b[0m \u001b[0mc\u001b[0m\u001b[1;33m,\u001b[0m \u001b[0md\u001b[0m\u001b[1;33m,\u001b[0m\u001b[1;33m)\u001b[0m \u001b[1;31m# calc() 함수 내 선언한 변수 사용\u001b[0m\u001b[1;33m\u001b[0m\u001b[1;33m\u001b[0m\u001b[0m\n\u001b[0m\u001b[0;32m      3\u001b[0m \u001b[1;31m# 중요) 함수 내 선언된 변수 : Local variavble(지역변수) => 사용범위는 함수가 실행하는 동안 함수안에서만 사용가능\u001b[0m\u001b[1;33m\u001b[0m\u001b[1;33m\u001b[0m\u001b[0m\n",
      "\u001b[1;31mNameError\u001b[0m: name 'num1' is not defined"
     ]
    }
   ],
   "source": [
    "calc(10, 5)\n",
    "print(num1, num2, a, b, c, d,) # calc() 함수 내 선언한 변수 사용\n",
    "# 중요) 함수 내 선언된 변수 : Local variavble(지역변수) => 사용범위는 함수가 실행하는 동안 함수안에서만 사용가능"
   ]
  },
  {
   "cell_type": "markdown",
   "id": "ef01aedc",
   "metadata": {},
   "source": [
    "##  매개변수와 관련된 문법\n",
    "    - 일반적인 매개변수(parameter)\n",
    "    - 매개변수가 선언된 순서대로 값을 전달한다"
   ]
  },
  {
   "cell_type": "code",
   "execution_count": 15,
   "id": "bad74670",
   "metadata": {},
   "outputs": [],
   "source": [
    "def print_info(name, age, address):\n",
    "    print(f'이름 : {name}, 나이 : {age}, 주소 : {address}')"
   ]
  },
  {
   "cell_type": "code",
   "execution_count": 16,
   "id": "bd7ff208",
   "metadata": {},
   "outputs": [
    {
     "name": "stdout",
     "output_type": "stream",
     "text": [
      "이름 : 홍길동, 나이 : 20, 주소 : 서울\n"
     ]
    }
   ],
   "source": [
    "print_info('홍길동', 20, '서울') # 순서에 맞춰서 값들을 전달"
   ]
  },
  {
   "cell_type": "code",
   "execution_count": 17,
   "id": "a7ca081c",
   "metadata": {},
   "outputs": [
    {
     "name": "stdout",
     "output_type": "stream",
     "text": [
      "이름 : 홍길동, 나이 : 서울, 주소 : 20\n"
     ]
    }
   ],
   "source": [
    "print_info('홍길동', '서울', 20)"
   ]
  },
  {
   "cell_type": "code",
   "execution_count": 18,
   "id": "5b879c2a",
   "metadata": {},
   "outputs": [
    {
     "ename": "TypeError",
     "evalue": "print_info() missing 2 required positional arguments: 'age' and 'address'",
     "output_type": "error",
     "traceback": [
      "\u001b[1;31m---------------------------------------------------------------------------\u001b[0m",
      "\u001b[1;31mTypeError\u001b[0m                                 Traceback (most recent call last)",
      "\u001b[1;32m~\\AppData\\Local\\Temp/ipykernel_5408/479380145.py\u001b[0m in \u001b[0;36m<module>\u001b[1;34m\u001b[0m\n\u001b[0;32m      1\u001b[0m \u001b[1;31m# 매개변수의 수는 같아야 한다\u001b[0m\u001b[1;33m\u001b[0m\u001b[1;33m\u001b[0m\u001b[0m\n\u001b[1;32m----> 2\u001b[1;33m \u001b[0mprint_info\u001b[0m\u001b[1;33m(\u001b[0m\u001b[1;34m'홍길동'\u001b[0m\u001b[1;33m)\u001b[0m\u001b[1;33m\u001b[0m\u001b[1;33m\u001b[0m\u001b[0m\n\u001b[0m",
      "\u001b[1;31mTypeError\u001b[0m: print_info() missing 2 required positional arguments: 'age' and 'address'"
     ]
    }
   ],
   "source": [
    "# 매개변수의 수는 같아야 한다\n",
    "print_info('홍길동') "
   ]
  },
  {
   "cell_type": "markdown",
   "id": "03541e54",
   "metadata": {},
   "source": [
    "## 기본값이 있는 매개변수\n",
    "    - 매개변수에 값을 대입(기본값 설정)\n",
    "        - 호출할 때 값 전달이 안되면 기본값을 사용"
   ]
  },
  {
   "cell_type": "code",
   "execution_count": 19,
   "id": "df38785f",
   "metadata": {},
   "outputs": [],
   "source": [
    "def print_info2(name = None, age = -1, address = None):\n",
    "    print(f'이름 : {name}, 나이 : {age}, 주소 : {address}')"
   ]
  },
  {
   "cell_type": "code",
   "execution_count": 20,
   "id": "013bc6c4",
   "metadata": {},
   "outputs": [
    {
     "name": "stdout",
     "output_type": "stream",
     "text": [
      "이름 : 이순신, 나이 : 30, 주소 : 서울\n"
     ]
    }
   ],
   "source": [
    "print_info2('이순신', 30, '서울')"
   ]
  },
  {
   "cell_type": "code",
   "execution_count": 21,
   "id": "35f27506",
   "metadata": {},
   "outputs": [
    {
     "name": "stdout",
     "output_type": "stream",
     "text": [
      "이름 : None, 나이 : -1, 주소 : None\n"
     ]
    }
   ],
   "source": [
    "# argument 생략 시 기본값을 함수내에서 사용\n",
    "print_info2() "
   ]
  },
  {
   "cell_type": "code",
   "execution_count": 22,
   "id": "37bfc7b8",
   "metadata": {},
   "outputs": [
    {
     "name": "stdout",
     "output_type": "stream",
     "text": [
      "이름 : 홍길동, 나이 : 20, 주소 : None\n"
     ]
    }
   ],
   "source": [
    "# name, age는 전달 address는 기본값\n",
    "print_info2('홍길동', 20)"
   ]
  },
  {
   "cell_type": "code",
   "execution_count": 23,
   "id": "60a8fbc9",
   "metadata": {},
   "outputs": [
    {
     "name": "stdout",
     "output_type": "stream",
     "text": [
      "이름 : 강감찬, 나이 : -1, 주소 : None\n"
     ]
    }
   ],
   "source": [
    "# name은 전달 age, address는 기본값\n",
    "print_info2('강감찬')"
   ]
  },
  {
   "cell_type": "code",
   "execution_count": 24,
   "id": "6ec2dee4",
   "metadata": {},
   "outputs": [
    {
     "name": "stdout",
     "output_type": "stream",
     "text": [
      "이름 : 부산, 나이 : -1, 주소 : None\n",
      "이름 : None, 나이 : -1, 주소 : 부산\n"
     ]
    }
   ],
   "source": [
    "# address만 전달 name, age는 기본값 - positional argument로는 불가 => 뒤쪽의 매개변수에만 값을 전달할 수 없다.\n",
    "print_info2('부산')\n",
    "print_info2(None, -1, '부산')"
   ]
  },
  {
   "cell_type": "code",
   "execution_count": 25,
   "id": "88a1b61d",
   "metadata": {},
   "outputs": [
    {
     "name": "stdout",
     "output_type": "stream",
     "text": [
      "이름 : None, 나이 : -1, 주소 : 부산\n"
     ]
    }
   ],
   "source": [
    "# keyword agrument : 매개변수를 지정해서 값을 전달\n",
    "print_info2(address = '부산')"
   ]
  },
  {
   "cell_type": "code",
   "execution_count": 26,
   "id": "aad47ef5",
   "metadata": {},
   "outputs": [
    {
     "name": "stdout",
     "output_type": "stream",
     "text": [
      "이름 : 강감찬, 나이 : 40, 주소 : 부산\n"
     ]
    }
   ],
   "source": [
    "print_info2(age = 40, address = '부산', name ='강감찬') # keyword agrument 사용 시 순서 상관없이 대입"
   ]
  },
  {
   "cell_type": "code",
   "execution_count": 27,
   "id": "93275b43",
   "metadata": {},
   "outputs": [],
   "source": [
    "# 기본값이 없는 매개변수를 먼저 선언 후 기본값이 있는 매개변수를 선언\n",
    "def print_info3(name, age, address = None, email = None): \n",
    "    print(f'이름 : {name}, 나이 : {age}, 주소 : {address}, 이메일 : {email}')"
   ]
  },
  {
   "cell_type": "code",
   "execution_count": 28,
   "id": "1d48a58c",
   "metadata": {},
   "outputs": [
    {
     "ename": "TypeError",
     "evalue": "print_info3() missing 2 required positional arguments: 'name' and 'age'",
     "output_type": "error",
     "traceback": [
      "\u001b[1;31m---------------------------------------------------------------------------\u001b[0m",
      "\u001b[1;31mTypeError\u001b[0m                                 Traceback (most recent call last)",
      "\u001b[1;32m~\\AppData\\Local\\Temp/ipykernel_5408/1397803149.py\u001b[0m in \u001b[0;36m<module>\u001b[1;34m\u001b[0m\n\u001b[0;32m      2\u001b[0m \u001b[1;31m# 기본값이 없는 매개변수 : 필수입력사항\u001b[0m\u001b[1;33m\u001b[0m\u001b[1;33m\u001b[0m\u001b[0m\n\u001b[0;32m      3\u001b[0m \u001b[1;31m# 기본값이 있는 매개변수 : 선택입력사항\u001b[0m\u001b[1;33m\u001b[0m\u001b[1;33m\u001b[0m\u001b[0m\n\u001b[1;32m----> 4\u001b[1;33m \u001b[0mprint_info3\u001b[0m\u001b[1;33m(\u001b[0m\u001b[1;33m)\u001b[0m\u001b[1;33m\u001b[0m\u001b[1;33m\u001b[0m\u001b[0m\n\u001b[0m",
      "\u001b[1;31mTypeError\u001b[0m: print_info3() missing 2 required positional arguments: 'name' and 'age'"
     ]
    }
   ],
   "source": [
    "# 기본값이 없는 것과 있는 매개변수들이 혼용된 경우, 기본값이 없는 매개변수에는 반드시 값을 전달해야한다.\n",
    "# 기본값이 없는 매개변수 : 필수입력사항\n",
    "# 기본값이 있는 매개변수 : 선택입력사항\n",
    "print_info3() "
   ]
  },
  {
   "cell_type": "code",
   "execution_count": 29,
   "id": "0fe6d0ce",
   "metadata": {},
   "outputs": [
    {
     "name": "stdout",
     "output_type": "stream",
     "text": [
      "이름 : 홍길동, 나이 : 20, 주소 : None, 이메일 : None\n",
      "이름 : 홀길동, 나이 : 20, 주소 : None, 이메일 : None\n"
     ]
    }
   ],
   "source": [
    "print_info3('홍길동', 20)\n",
    "print_info3(name = '홀길동', age = 20)"
   ]
  },
  {
   "cell_type": "markdown",
   "id": "21ae6fb5",
   "metadata": {},
   "source": [
    "## 가변인자\n",
    "    - 정해지지 않은 개수의 정수를 받아서 합계를 리턴하는 함수"
   ]
  },
  {
   "cell_type": "code",
   "execution_count": 30,
   "id": "5d1d8e39",
   "metadata": {},
   "outputs": [],
   "source": [
    "def sum_function(num_list):\n",
    "    # argument : 자료구조\n",
    "    sum_value = 0\n",
    "    for v in num_list:\n",
    "        sum_value += v\n",
    "    return sum_value\n"
   ]
  },
  {
   "cell_type": "code",
   "execution_count": 31,
   "id": "0a9d0ad1",
   "metadata": {},
   "outputs": [
    {
     "data": {
      "text/plain": [
       "55"
      ]
     },
     "execution_count": 31,
     "metadata": {},
     "output_type": "execute_result"
    }
   ],
   "source": [
    "result = sum_function([1, 2, 3, 4, 5, 6, 7, 8, 9, 10])\n",
    "result"
   ]
  },
  {
   "cell_type": "code",
   "execution_count": 32,
   "id": "2c095f27",
   "metadata": {},
   "outputs": [
    {
     "data": {
      "text/plain": [
       "60"
      ]
     },
     "execution_count": 32,
     "metadata": {},
     "output_type": "execute_result"
    }
   ],
   "source": [
    "r = sum_function([10, 20, 30])\n",
    "r"
   ]
  },
  {
   "cell_type": "code",
   "execution_count": 33,
   "id": "8dd8f0cb",
   "metadata": {},
   "outputs": [],
   "source": [
    "# 가변인자 : 개수가 정해지지 않은 개수의 값을 처리할 경우 사용\n",
    "# * 변수명 - 튜플로 처리, 호출할 때는 전달할 값들(argument)을 나열하여 전달\n",
    "def sum_function2(*num_list):\n",
    "    print(type(num_list), num_list)\n",
    "    sum_value = 0\n",
    "    for v in num_list:\n",
    "        sum_value += v\n",
    "    return sum_value"
   ]
  },
  {
   "cell_type": "code",
   "execution_count": 34,
   "id": "5ab2f26e",
   "metadata": {},
   "outputs": [
    {
     "name": "stdout",
     "output_type": "stream",
     "text": [
      "<class 'tuple'> (1, 2, 3, 4, 5)\n",
      "15\n"
     ]
    }
   ],
   "source": [
    "r1 = sum_function2(1, 2, 3, 4, 5)\n",
    "print(r1)"
   ]
  },
  {
   "cell_type": "code",
   "execution_count": 35,
   "id": "35ccde33",
   "metadata": {},
   "outputs": [
    {
     "name": "stdout",
     "output_type": "stream",
     "text": [
      "<class 'tuple'> (1, 2, 3)\n"
     ]
    },
    {
     "data": {
      "text/plain": [
       "6"
      ]
     },
     "execution_count": 35,
     "metadata": {},
     "output_type": "execute_result"
    }
   ],
   "source": [
    "sum_function2(1, 2, 3)"
   ]
  },
  {
   "cell_type": "code",
   "execution_count": 36,
   "id": "6acdb58e",
   "metadata": {},
   "outputs": [
    {
     "name": "stdout",
     "output_type": "stream",
     "text": [
      "<class 'tuple'> (1, 2, 3, 4, 5, 6, 109, 290, 309)\n"
     ]
    },
    {
     "data": {
      "text/plain": [
       "729"
      ]
     },
     "execution_count": 36,
     "metadata": {},
     "output_type": "execute_result"
    }
   ],
   "source": [
    "sum_function2(1, 2, 3, 4, 5, 6, 109, 290, 309)"
   ]
  },
  {
   "cell_type": "code",
   "execution_count": 37,
   "id": "db0d5c15",
   "metadata": {},
   "outputs": [
    {
     "name": "stdout",
     "output_type": "stream",
     "text": [
      "<class 'tuple'> ()\n"
     ]
    },
    {
     "data": {
      "text/plain": [
       "0"
      ]
     },
     "execution_count": 37,
     "metadata": {},
     "output_type": "execute_result"
    }
   ],
   "source": [
    "sum_function2()"
   ]
  },
  {
   "cell_type": "code",
   "execution_count": 38,
   "id": "73de87a0",
   "metadata": {},
   "outputs": [],
   "source": [
    "# **변수명(가변인자) : 딕셔너리로 처리, 호출할 때는 keyword argument 형식으로 전달\n",
    "def print_info(**info):\n",
    "    print(type(info), info)\n",
    "    return_value = ''\n",
    "    for key, value in info.items():\n",
    "        return_value = f'{return_value}, {key}:{value}'\n",
    "    return return_value"
   ]
  },
  {
   "cell_type": "code",
   "execution_count": 39,
   "id": "c4a51fb3",
   "metadata": {},
   "outputs": [
    {
     "name": "stdout",
     "output_type": "stream",
     "text": [
      "<class 'dict'> {}\n"
     ]
    },
    {
     "data": {
      "text/plain": [
       "''"
      ]
     },
     "execution_count": 39,
     "metadata": {},
     "output_type": "execute_result"
    }
   ],
   "source": [
    "print_info()"
   ]
  },
  {
   "cell_type": "code",
   "execution_count": 40,
   "id": "46e9a49b",
   "metadata": {},
   "outputs": [
    {
     "name": "stdout",
     "output_type": "stream",
     "text": [
      "<class 'dict'> {'name': '홍길동'}\n",
      "<class 'dict'> {'나이': 20, '주소': '서울'}\n"
     ]
    },
    {
     "data": {
      "text/plain": [
       "', 나이:20, 주소:서울'"
      ]
     },
     "execution_count": 40,
     "metadata": {},
     "output_type": "execute_result"
    }
   ],
   "source": [
    "print_info(name = '홍길동')\n",
    "print_info(나이 = 20, 주소 = '서울')"
   ]
  },
  {
   "cell_type": "code",
   "execution_count": 41,
   "id": "dfbba5db",
   "metadata": {},
   "outputs": [
    {
     "name": "stdout",
     "output_type": "stream",
     "text": [
      "<class 'dict'> {'이름': '홍길동', '주소': '서울', '이메일': 'a@a.com', '취미': '독서'}\n",
      ", 이름:홍길동, 주소:서울, 이메일:a@a.com, 취미:독서\n"
     ]
    }
   ],
   "source": [
    "print(print_info(이름 = '홍길동', 주소 = '서울', 이메일 = 'a@a.com', 취미 = '독서'))"
   ]
  },
  {
   "cell_type": "code",
   "execution_count": 42,
   "id": "957f32c9",
   "metadata": {},
   "outputs": [
    {
     "ename": "SyntaxError",
     "evalue": "invalid syntax (Temp/ipykernel_5408/929974945.py, line 2)",
     "output_type": "error",
     "traceback": [
      "\u001b[1;36m  File \u001b[1;32m\"C:\\Users\\C\\AppData\\Local\\Temp/ipykernel_5408/929974945.py\"\u001b[1;36m, line \u001b[1;32m2\u001b[0m\n\u001b[1;33m    def test_fn(*a, *b,*c):\u001b[0m\n\u001b[1;37m                    ^\u001b[0m\n\u001b[1;31mSyntaxError\u001b[0m\u001b[1;31m:\u001b[0m invalid syntax\n"
     ]
    }
   ],
   "source": [
    "#가변인자는 한함수에 종류별(*, **)로 하나씩만 가능\n",
    "def test_fn(*a, *b,*c): \n",
    "    pass"
   ]
  },
  {
   "cell_type": "code",
   "execution_count": 43,
   "id": "42719710",
   "metadata": {},
   "outputs": [],
   "source": [
    "def test_fn2(*args, **kwargs):\n",
    "    pass"
   ]
  },
  {
   "cell_type": "code",
   "execution_count": 44,
   "id": "409cbe75",
   "metadata": {},
   "outputs": [
    {
     "ename": "IndentationError",
     "evalue": "unexpected indent (Temp/ipykernel_5408/1819170925.py, line 2)",
     "output_type": "error",
     "traceback": [
      "\u001b[1;36m  File \u001b[1;32m\"C:\\Users\\C\\AppData\\Local\\Temp/ipykernel_5408/1819170925.py\"\u001b[1;36m, line \u001b[1;32m2\u001b[0m\n\u001b[1;33m    pass\u001b[0m\n\u001b[1;37m    ^\u001b[0m\n\u001b[1;31mIndentationError\u001b[0m\u001b[1;31m:\u001b[0m unexpected indent\n"
     ]
    }
   ],
   "source": [
    "# 일반변수와 같이 선언할 경우 가변인자는 마지막에 와야한다.\n",
    "    pass\n",
    "def test_fn2(var1, var2, *args, **kwargs, var3): "
   ]
  },
  {
   "cell_type": "code",
   "execution_count": 45,
   "id": "374f34c3",
   "metadata": {},
   "outputs": [],
   "source": [
    "def test_fn2(var1, var2, var3, *args, **kwargs):\n",
    "    pass"
   ]
  },
  {
   "cell_type": "markdown",
   "id": "e885b31a",
   "metadata": {},
   "source": [
    "# 함수는 일급시민객체\n",
    "- 함수를 변수에 할당, 함수를 다른 함수에 호출할때 argument로 전달, 함수가 리턴값으로 다른 함수를 반환할 수 있다\n",
    "- 함수도 값으로 처리할 수 있다."
   ]
  },
  {
   "cell_type": "code",
   "execution_count": 46,
   "id": "3ee277f8",
   "metadata": {},
   "outputs": [],
   "source": [
    "def my_fn(name = None):\n",
    "    print(str(name) + '님 안녕하세요')\n",
    "    return '리턴값'"
   ]
  },
  {
   "cell_type": "code",
   "execution_count": 47,
   "id": "7a70c4fe",
   "metadata": {},
   "outputs": [
    {
     "name": "stdout",
     "output_type": "stream",
     "text": [
      "홍길동님 안녕하세요\n",
      "None님 안녕하세요\n",
      "===============\n",
      "리턴값 리턴값\n"
     ]
    }
   ],
   "source": [
    "# 함수 호출\n",
    "# r1, r2 에는 my_fn()함수의 실행결과(리턴값)가 더장\n",
    "r1 = my_fn('홍길동')\n",
    "r2 = my_fn()\n",
    "print('='*15)\n",
    "print(r1, r2)"
   ]
  },
  {
   "cell_type": "code",
   "execution_count": 48,
   "id": "64331e74",
   "metadata": {},
   "outputs": [],
   "source": [
    "# my_fn()함수 자체가 your_fn()에 저장\n",
    "your_fn = my_fn"
   ]
  },
  {
   "cell_type": "code",
   "execution_count": 49,
   "id": "05db28a7",
   "metadata": {},
   "outputs": [
    {
     "name": "stdout",
     "output_type": "stream",
     "text": [
      "이순신님 안녕하세요\n"
     ]
    },
    {
     "data": {
      "text/plain": [
       "'리턴값'"
      ]
     },
     "execution_count": 49,
     "metadata": {},
     "output_type": "execute_result"
    }
   ],
   "source": [
    "your_fn('이순신')"
   ]
  },
  {
   "cell_type": "code",
   "execution_count": 50,
   "id": "507ec924",
   "metadata": {},
   "outputs": [
    {
     "name": "stdout",
     "output_type": "stream",
     "text": [
      "None님 안녕하세요\n"
     ]
    },
    {
     "data": {
      "text/plain": [
       "'리턴값'"
      ]
     },
     "execution_count": 50,
     "metadata": {},
     "output_type": "execute_result"
    }
   ],
   "source": [
    "test_fn = your_fn\n",
    "test_fn()"
   ]
  },
  {
   "cell_type": "code",
   "execution_count": 51,
   "id": "20e262cb",
   "metadata": {},
   "outputs": [],
   "source": [
    "def calc(num1, num2):\n",
    "    # 처리방법을 구현\n",
    "    # 처리할 값이 없음 => 매개변수로 받는다\n",
    "    a = num1 + num2\n",
    "    b = num1 - num2\n",
    "    c = num1 * num2\n",
    "    print(a, b, c)"
   ]
  },
  {
   "cell_type": "code",
   "execution_count": 52,
   "id": "5b558846",
   "metadata": {},
   "outputs": [
    {
     "name": "stdout",
     "output_type": "stream",
     "text": [
      "30 -10 200\n"
     ]
    }
   ],
   "source": [
    "calc(10, 20)"
   ]
  },
  {
   "cell_type": "code",
   "execution_count": 53,
   "id": "dec573ea",
   "metadata": {},
   "outputs": [],
   "source": [
    "# 함수를 매개변수의 argument로 전달\n",
    "def calculator(func):\n",
    "    # 처리할 값은 있음\n",
    "    # 어떻게 처리할 방벖이 없음 => 처리방법(함수)을 매개변수로 받는다.\n",
    "    num1, num2 = 10, 20\n",
    "    result = func(num1, num2)\n",
    "    print('calculator()결과 :', result)"
   ]
  },
  {
   "cell_type": "code",
   "execution_count": 54,
   "id": "6badf02a",
   "metadata": {},
   "outputs": [],
   "source": [
    "def plus(n1, n2):\n",
    "    return n1 + n2\n",
    "\n",
    "def minus(n1, n2):\n",
    "    return n1 - n2\n",
    "\n",
    "def multiply(n1, n2):\n",
    "    return n1 * n2"
   ]
  },
  {
   "cell_type": "code",
   "execution_count": 55,
   "id": "69867116",
   "metadata": {},
   "outputs": [
    {
     "name": "stdout",
     "output_type": "stream",
     "text": [
      "calculator()결과 : 30\n"
     ]
    }
   ],
   "source": [
    "calculator(plus)"
   ]
  },
  {
   "cell_type": "code",
   "execution_count": 56,
   "id": "1455534a",
   "metadata": {},
   "outputs": [
    {
     "name": "stdout",
     "output_type": "stream",
     "text": [
      "calculator()결과 : -10\n"
     ]
    }
   ],
   "source": [
    "calculator(minus)"
   ]
  },
  {
   "cell_type": "code",
   "execution_count": 57,
   "id": "7265150b",
   "metadata": {},
   "outputs": [
    {
     "name": "stdout",
     "output_type": "stream",
     "text": [
      "calculator()결과 : 200\n"
     ]
    }
   ],
   "source": [
    "calculator(multiply)"
   ]
  },
  {
   "cell_type": "markdown",
   "id": "354f7691",
   "metadata": {},
   "source": [
    "## lambda 표현식\n",
    "    - 함수를 단일구문(식)으로 작성하는 방법\n",
    "    - 다시 사용할 필요 없이 함수 호출할 때 넘겨줄 함수를 만드는 경우 주로 사용\n",
    "    - 익명함수라고도 함"
   ]
  },
  {
   "cell_type": "code",
   "execution_count": 58,
   "id": "b4b67532",
   "metadata": {},
   "outputs": [],
   "source": [
    "def plus(n1, n2):\n",
    "    return n1 + n2"
   ]
  },
  {
   "cell_type": "code",
   "execution_count": 59,
   "id": "53f325d8",
   "metadata": {},
   "outputs": [],
   "source": [
    "# lambda [매개변수] : 리턴값처리"
   ]
  },
  {
   "cell_type": "code",
   "execution_count": 60,
   "id": "20bb0c2c",
   "metadata": {},
   "outputs": [
    {
     "data": {
      "text/plain": [
       "3"
      ]
     },
     "execution_count": 60,
     "metadata": {},
     "output_type": "execute_result"
    }
   ],
   "source": [
    "x = lambda n1, n2 : n1 + n2\n",
    "x(1, 2)"
   ]
  },
  {
   "cell_type": "code",
   "execution_count": 61,
   "id": "89cfe82c",
   "metadata": {},
   "outputs": [],
   "source": [
    "# 하나의 값을 받아서 제곱한 값을 반환한 함수\n",
    "y = lambda v : v**2"
   ]
  },
  {
   "cell_type": "code",
   "execution_count": 62,
   "id": "cf174bf1",
   "metadata": {},
   "outputs": [
    {
     "data": {
      "text/plain": [
       "(100, 4, 25)"
      ]
     },
     "execution_count": 62,
     "metadata": {},
     "output_type": "execute_result"
    }
   ],
   "source": [
    "y(10), y(2), y(5)"
   ]
  },
  {
   "cell_type": "code",
   "execution_count": 63,
   "id": "adeffc95",
   "metadata": {},
   "outputs": [
    {
     "name": "stdout",
     "output_type": "stream",
     "text": [
      "calculator()결과 : 30\n"
     ]
    }
   ],
   "source": [
    "calculator(lambda n1 , n2 : n1 + n2)"
   ]
  },
  {
   "cell_type": "code",
   "execution_count": 64,
   "id": "2d7a2828",
   "metadata": {},
   "outputs": [
    {
     "name": "stdout",
     "output_type": "stream",
     "text": [
      "calculator()결과 : 0.5\n"
     ]
    }
   ],
   "source": [
    "calculator(lambda n1, n2 : n1/n2)"
   ]
  },
  {
   "cell_type": "code",
   "execution_count": 65,
   "id": "7e5df449",
   "metadata": {},
   "outputs": [],
   "source": [
    "def fn(num):\n",
    "    print(num)"
   ]
  },
  {
   "cell_type": "code",
   "execution_count": 66,
   "id": "3aa699f5",
   "metadata": {},
   "outputs": [
    {
     "name": "stdout",
     "output_type": "stream",
     "text": [
      "10\n"
     ]
    }
   ],
   "source": [
    "fn(10)"
   ]
  },
  {
   "cell_type": "code",
   "execution_count": 67,
   "id": "2c4a70b8",
   "metadata": {},
   "outputs": [],
   "source": [
    "l = [10, 20, 30]\n",
    "# 각원소에 * 10 (mapping)\n",
    "# map(각 원소들을 어떻게 처리할 지 정의한 함수, iteralbe)"
   ]
  },
  {
   "cell_type": "code",
   "execution_count": 68,
   "id": "ed0fa504",
   "metadata": {},
   "outputs": [],
   "source": [
    "def m10(x):\n",
    "    return x * 10"
   ]
  },
  {
   "cell_type": "code",
   "execution_count": 69,
   "id": "d4a25ed6",
   "metadata": {},
   "outputs": [
    {
     "data": {
      "text/plain": [
       "[100, 200, 300]"
      ]
     },
     "execution_count": 69,
     "metadata": {},
     "output_type": "execute_result"
    }
   ],
   "source": [
    "list(map(  m10    , l))"
   ]
  },
  {
   "cell_type": "code",
   "execution_count": 70,
   "id": "4fa3636c",
   "metadata": {},
   "outputs": [
    {
     "data": {
      "text/plain": [
       "[100, 200, 300]"
      ]
     },
     "execution_count": 70,
     "metadata": {},
     "output_type": "execute_result"
    }
   ],
   "source": [
    "list(map(lambda x:x*10, l))"
   ]
  },
  {
   "cell_type": "markdown",
   "id": "ec704db2",
   "metadata": {},
   "source": [
    "## docstring\n",
    "    - 함수 구현 시 함수에 대한 설명을 문자열로 정의하는 것\n",
    "    - 선언부와 구현부 사이에 여러줄(''' ''')을 이용하여 작성\n",
    "    - 작성하는 내용\n",
    "        - 함수 설명\n",
    "        - 매개변수에 관한 설명\n",
    "        - 리턴값에 대한 설명\n",
    "        - 발생 Exception(Error)에 관한 설명\n",
    "       "
   ]
  },
  {
   "cell_type": "code",
   "execution_count": 71,
   "id": "74f0ae1d",
   "metadata": {},
   "outputs": [],
   "source": [
    "def print_info(name, age):\n",
    "    '''\n",
    "    회원 정보를 출력하는 함수\n",
    "    회원의 이름과 나이를 받아서 출력하고 나이의 10배를 반환한다\n",
    "    [parameter]\n",
    "        name : string - 회원 이름\n",
    "        age : int - 회원의 나이\n",
    "    [return value]\n",
    "        int - 나이의 10배 값\n",
    "    [Exception]\n",
    "        발생가능한 Error에 관한 설명\n",
    "    '''\n",
    "    print(f'이름 : {name}, 나이: {age}')\n",
    "    return age * 10"
   ]
  },
  {
   "cell_type": "code",
   "execution_count": 72,
   "id": "decac49a",
   "metadata": {},
   "outputs": [],
   "source": [
    "# 쥬피터 노트북에서 docstring을 조회하는 방법\n",
    "# 함수명?\n",
    "print_info?"
   ]
  },
  {
   "cell_type": "code",
   "execution_count": null,
   "id": "20af6c0d",
   "metadata": {},
   "outputs": [],
   "source": [
    "print?"
   ]
  },
  {
   "cell_type": "code",
   "execution_count": 73,
   "id": "10ae2894",
   "metadata": {},
   "outputs": [
    {
     "data": {
      "text/plain": [
       "<function __main__.print_info(name, age)>"
      ]
     },
     "execution_count": 73,
     "metadata": {},
     "output_type": "execute_result"
    }
   ],
   "source": [
    "# 함수명작성한 상태에서 shift + tab\n",
    "# tab : 자동완성\n",
    "# shift + tab : docstring을 팝업으로 확인\n",
    "print_info"
   ]
  }
 ],
 "metadata": {
  "kernelspec": {
   "display_name": "Python 3 (ipykernel)",
   "language": "python",
   "name": "python3"
  },
  "language_info": {
   "codemirror_mode": {
    "name": "ipython",
    "version": 3
   },
   "file_extension": ".py",
   "mimetype": "text/x-python",
   "name": "python",
   "nbconvert_exporter": "python",
   "pygments_lexer": "ipython3",
   "version": "3.9.7"
  }
 },
 "nbformat": 4,
 "nbformat_minor": 5
}

{
 "cells": [
  {
   "cell_type": "markdown",
   "id": "b3b45ba8",
   "metadata": {},
   "source": [
    "# 예외\n",
    "- 함수나 메소드가 처리 중 다음 명령문을 실행하지 못하는 상황\n",
    "- 예외의 종류\n",
    "    - system exception : 파이썬 문법이나 구문 규칙을 어겨서 때문에 발생하는 오류 => 대부분  코드 수정\n",
    "    - application exception : 프로그램 업무 규칙상 발생하는 오류"
   ]
  },
  {
   "cell_type": "code",
   "execution_count": 1,
   "id": "bdb30b07",
   "metadata": {
    "scrolled": true
   },
   "outputs": [
    {
     "ename": "TypeError",
     "evalue": "unsupported operand type(s) for +: 'int' and 'str'",
     "output_type": "error",
     "traceback": [
      "\u001b[1;31m---------------------------------------------------------------------------\u001b[0m",
      "\u001b[1;31mTypeError\u001b[0m                                 Traceback (most recent call last)",
      "\u001b[1;32m~\\AppData\\Local\\Temp/ipykernel_2372/521475844.py\u001b[0m in \u001b[0;36m<module>\u001b[1;34m\u001b[0m\n\u001b[0;32m      1\u001b[0m \u001b[1;31m# system exception\u001b[0m\u001b[1;33m\u001b[0m\u001b[1;33m\u001b[0m\u001b[0m\n\u001b[1;32m----> 2\u001b[1;33m \u001b[0mprint\u001b[0m\u001b[1;33m(\u001b[0m\u001b[1;36m1\u001b[0m \u001b[1;33m+\u001b[0m \u001b[1;34m'abc'\u001b[0m\u001b[1;33m)\u001b[0m\u001b[1;33m\u001b[0m\u001b[1;33m\u001b[0m\u001b[0m\n\u001b[0m",
      "\u001b[1;31mTypeError\u001b[0m: unsupported operand type(s) for +: 'int' and 'str'"
     ]
    }
   ],
   "source": [
    "# system exception\n",
    "print(1 + 'abc')"
   ]
  },
  {
   "cell_type": "code",
   "execution_count": 2,
   "id": "a6a35db6",
   "metadata": {},
   "outputs": [
    {
     "name": "stdout",
     "output_type": "stream",
     "text": [
      "ID(5글자 이상) : a\n"
     ]
    },
    {
     "ename": "Exception",
     "evalue": "",
     "output_type": "error",
     "traceback": [
      "\u001b[1;31m---------------------------------------------------------------------------\u001b[0m",
      "\u001b[1;31mException\u001b[0m                                 Traceback (most recent call last)",
      "\u001b[1;32m~\\AppData\\Local\\Temp/ipykernel_2372/79804855.py\u001b[0m in \u001b[0;36m<module>\u001b[1;34m\u001b[0m\n\u001b[0;32m      2\u001b[0m \u001b[0mid\u001b[0m \u001b[1;33m=\u001b[0m \u001b[0minput\u001b[0m\u001b[1;33m(\u001b[0m\u001b[1;34m'ID(5글자 이상) : '\u001b[0m\u001b[1;33m)\u001b[0m\u001b[1;33m\u001b[0m\u001b[1;33m\u001b[0m\u001b[0m\n\u001b[0;32m      3\u001b[0m \u001b[1;32mif\u001b[0m \u001b[0mlen\u001b[0m\u001b[1;33m(\u001b[0m\u001b[0mid\u001b[0m\u001b[1;33m)\u001b[0m \u001b[1;33m<\u001b[0m \u001b[1;36m5\u001b[0m\u001b[1;33m:\u001b[0m \u001b[1;31m# 내가 정한 규칙을 어긴 상황\u001b[0m\u001b[1;33m\u001b[0m\u001b[1;33m\u001b[0m\u001b[0m\n\u001b[1;32m----> 4\u001b[1;33m     \u001b[1;32mraise\u001b[0m \u001b[0mException\u001b[0m \u001b[1;31m# 예외도 내가 발생시켜야함\u001b[0m\u001b[1;33m\u001b[0m\u001b[1;33m\u001b[0m\u001b[0m\n\u001b[0m\u001b[0;32m      5\u001b[0m \u001b[1;33m\u001b[0m\u001b[0m\n\u001b[0;32m      6\u001b[0m \u001b[0mprint\u001b[0m\u001b[1;33m(\u001b[0m\u001b[0mid\u001b[0m\u001b[1;33m)\u001b[0m\u001b[1;33m\u001b[0m\u001b[1;33m\u001b[0m\u001b[0m\n",
      "\u001b[1;31mException\u001b[0m: "
     ]
    }
   ],
   "source": [
    "# application exception\n",
    "id = input('ID(5글자 이상) : ')\n",
    "if len(id) < 5: # 내가 정한 규칙을 어긴 상황\n",
    "    raise Exception # 예외도 내가 발생시켜야함\n",
    "    \n",
    "print(id)\n",
    "print(f'{id}를 DB에 저장')"
   ]
  },
  {
   "cell_type": "code",
   "execution_count": 3,
   "id": "3bfc45c5",
   "metadata": {},
   "outputs": [
    {
     "ename": "TypeError",
     "evalue": "unsupported operand type(s) for +: 'int' and 'str'",
     "output_type": "error",
     "traceback": [
      "\u001b[1;31m---------------------------------------------------------------------------\u001b[0m",
      "\u001b[1;31mTypeError\u001b[0m                                 Traceback (most recent call last)",
      "\u001b[1;32m~\\AppData\\Local\\Temp/ipykernel_2372/3873910367.py\u001b[0m in \u001b[0;36m<module>\u001b[1;34m\u001b[0m\n\u001b[0;32m     10\u001b[0m     \u001b[0mf2\u001b[0m\u001b[1;33m(\u001b[0m\u001b[1;33m)\u001b[0m\u001b[1;33m\u001b[0m\u001b[1;33m\u001b[0m\u001b[0m\n\u001b[0;32m     11\u001b[0m \u001b[1;33m\u001b[0m\u001b[0m\n\u001b[1;32m---> 12\u001b[1;33m \u001b[0mf3\u001b[0m\u001b[1;33m(\u001b[0m\u001b[1;33m)\u001b[0m\u001b[1;33m\u001b[0m\u001b[1;33m\u001b[0m\u001b[0m\n\u001b[0m\u001b[0;32m     13\u001b[0m \u001b[1;33m\u001b[0m\u001b[0m\n\u001b[0;32m     14\u001b[0m \u001b[1;31m# f3 -> f2 -> f1 -> f2 -> f3\u001b[0m\u001b[1;33m\u001b[0m\u001b[1;33m\u001b[0m\u001b[0m\n",
      "\u001b[1;32m~\\AppData\\Local\\Temp/ipykernel_2372/3873910367.py\u001b[0m in \u001b[0;36mf3\u001b[1;34m()\u001b[0m\n\u001b[0;32m      8\u001b[0m \u001b[1;33m\u001b[0m\u001b[0m\n\u001b[0;32m      9\u001b[0m \u001b[1;32mdef\u001b[0m \u001b[0mf3\u001b[0m\u001b[1;33m(\u001b[0m\u001b[1;33m)\u001b[0m\u001b[1;33m:\u001b[0m\u001b[1;33m\u001b[0m\u001b[1;33m\u001b[0m\u001b[0m\n\u001b[1;32m---> 10\u001b[1;33m     \u001b[0mf2\u001b[0m\u001b[1;33m(\u001b[0m\u001b[1;33m)\u001b[0m\u001b[1;33m\u001b[0m\u001b[1;33m\u001b[0m\u001b[0m\n\u001b[0m\u001b[0;32m     11\u001b[0m \u001b[1;33m\u001b[0m\u001b[0m\n\u001b[0;32m     12\u001b[0m \u001b[0mf3\u001b[0m\u001b[1;33m(\u001b[0m\u001b[1;33m)\u001b[0m\u001b[1;33m\u001b[0m\u001b[1;33m\u001b[0m\u001b[0m\n",
      "\u001b[1;32m~\\AppData\\Local\\Temp/ipykernel_2372/3873910367.py\u001b[0m in \u001b[0;36mf2\u001b[1;34m()\u001b[0m\n\u001b[0;32m      5\u001b[0m \u001b[1;33m\u001b[0m\u001b[0m\n\u001b[0;32m      6\u001b[0m \u001b[1;32mdef\u001b[0m \u001b[0mf2\u001b[0m\u001b[1;33m(\u001b[0m\u001b[1;33m)\u001b[0m\u001b[1;33m:\u001b[0m\u001b[1;33m\u001b[0m\u001b[1;33m\u001b[0m\u001b[0m\n\u001b[1;32m----> 7\u001b[1;33m     \u001b[0mf1\u001b[0m\u001b[1;33m(\u001b[0m\u001b[1;33m)\u001b[0m\u001b[1;33m\u001b[0m\u001b[1;33m\u001b[0m\u001b[0m\n\u001b[0m\u001b[0;32m      8\u001b[0m \u001b[1;33m\u001b[0m\u001b[0m\n\u001b[0;32m      9\u001b[0m \u001b[1;32mdef\u001b[0m \u001b[0mf3\u001b[0m\u001b[1;33m(\u001b[0m\u001b[1;33m)\u001b[0m\u001b[1;33m:\u001b[0m\u001b[1;33m\u001b[0m\u001b[1;33m\u001b[0m\u001b[0m\n",
      "\u001b[1;32m~\\AppData\\Local\\Temp/ipykernel_2372/3873910367.py\u001b[0m in \u001b[0;36mf1\u001b[1;34m()\u001b[0m\n\u001b[0;32m      2\u001b[0m \u001b[1;33m\u001b[0m\u001b[0m\n\u001b[0;32m      3\u001b[0m \u001b[1;32mdef\u001b[0m \u001b[0mf1\u001b[0m\u001b[1;33m(\u001b[0m\u001b[1;33m)\u001b[0m\u001b[1;33m:\u001b[0m\u001b[1;33m\u001b[0m\u001b[1;33m\u001b[0m\u001b[0m\n\u001b[1;32m----> 4\u001b[1;33m     \u001b[0mprint\u001b[0m\u001b[1;33m(\u001b[0m\u001b[1;36m1\u001b[0m \u001b[1;33m+\u001b[0m \u001b[1;34m'abc'\u001b[0m\u001b[1;33m)\u001b[0m\u001b[1;33m\u001b[0m\u001b[1;33m\u001b[0m\u001b[0m\n\u001b[0m\u001b[0;32m      5\u001b[0m \u001b[1;33m\u001b[0m\u001b[0m\n\u001b[0;32m      6\u001b[0m \u001b[1;32mdef\u001b[0m \u001b[0mf2\u001b[0m\u001b[1;33m(\u001b[0m\u001b[1;33m)\u001b[0m\u001b[1;33m:\u001b[0m\u001b[1;33m\u001b[0m\u001b[1;33m\u001b[0m\u001b[0m\n",
      "\u001b[1;31mTypeError\u001b[0m: unsupported operand type(s) for +: 'int' and 'str'"
     ]
    }
   ],
   "source": [
    "# call stack mechanism : 호출한 순서대로 쌓여가듯 진행한다.\n",
    "\n",
    "def f1():\n",
    "    print(1 + 'abc')\n",
    "    \n",
    "def f2():\n",
    "    f1()\n",
    "    \n",
    "def f3():\n",
    "    f2()\n",
    "\n",
    "f3()\n",
    "\n",
    "# f3 -> f2 -> f1 -> f2 -> f3\n",
    "#      호출   /    출력\n",
    "\n",
    "# 위 cell의 경우 호출시 f1에 오류가 발생(raise)하기 때문에 f3 오류를 출력"
   ]
  },
  {
   "cell_type": "markdown",
   "id": "abd8f2b0",
   "metadata": {},
   "source": [
    "# 예외 처리\n",
    "- 발생한 예외를 처리하여 프로그램을 정상화\n",
    "- try, except, else, finally\n",
    "```python\n",
    "try:\n",
    "    에외가 발생할 가능성이 있는 코드\n",
    "    발생가능성 있는 코드와 연결된 코드\n",
    "    # try block\n",
    "except:\n",
    "    try block에서 예외가 발생했을 때 그것을 처리하는 코드들\n",
    "```"
   ]
  },
  {
   "cell_type": "code",
   "execution_count": 4,
   "id": "6a72ea43",
   "metadata": {},
   "outputs": [
    {
     "name": "stdout",
     "output_type": "stream",
     "text": [
      "정수 : a\n",
      "a은 정수로 바꿀 수 없습니다. 정수를 입력하세요.\n",
      "종료\n"
     ]
    }
   ],
   "source": [
    "num_str = input('정수 : ')\n",
    "try:\n",
    "    num = int(num_str) # 예외 발생 가능성 코드(∵ 문자열을 입력하는 경우 출력불가)\n",
    "    result = num ** 3 # 예외 발생 시 실행 불가 코드\n",
    "    print('결과 :', result) # 예외 발생 시 실행 불가 코드\n",
    "    \n",
    "except:\n",
    "    print(f'{num_str}은 정수로 바꿀 수 없습니다. 정수를 입력하세요.')\n",
    "    \n",
    "print('종료')\n"
   ]
  },
  {
   "cell_type": "code",
   "execution_count": 5,
   "id": "1de47771",
   "metadata": {},
   "outputs": [
    {
     "name": "stdout",
     "output_type": "stream",
     "text": [
      "정수1 : 1\n",
      "정수2 : 0\n",
      "예외 발생\n",
      "프로그램을 종료합니다.\n"
     ]
    }
   ],
   "source": [
    "num_str1 = input('정수1 : ')\n",
    "num_str2 = input('정수2 : ')\n",
    "\n",
    "########## 연결된(연관성 있는) 코드##########\n",
    "try:\n",
    "    num1 = int(num_str1) # 예외 발생 가능성 코드1 (∵ 문자열을 입력하는 경우 출력불가 - ValueError)\n",
    "    num2 = int(num_str2) # 예외 발생 가능성 코드2 (∵ 문자열을 입력하는 경우 출력불가 - ValueError)\n",
    "    result = num1 / num2 # 예외 발생 가능성 코드3 (∵ num2가 0인경우 나눌 수 없음 - ZerodivisionError)\n",
    "    print('나눈 결과 :', result)\n",
    "except:\n",
    "    print('예외 발생') # try block 내 어떤 오류가 나더라고 상관없이 출력\n",
    "####################\n",
    "\n",
    "\n",
    "print('프로그램을 종료합니다.')"
   ]
  },
  {
   "cell_type": "code",
   "execution_count": 6,
   "id": "cd6545d2",
   "metadata": {},
   "outputs": [
    {
     "name": "stdout",
     "output_type": "stream",
     "text": [
      "정수1 : 1\n",
      "정수2 : 0\n",
      "두번째 숫자는 0 이외의 정수를 입력하세요 division by zero\n",
      "프로그램을 종료합니다.\n"
     ]
    }
   ],
   "source": [
    "# 발생할 수 있는 예외가 여러 종류이고 예외별로 다르게 처리할 경우\n",
    "num_str1 = input('정수1 : ')\n",
    "num_str2 = input('정수2 : ')\n",
    "\n",
    "try:\n",
    "    num1 = int(num_str1) \n",
    "    num2 = int(num_str2) \n",
    "    result = num1 / num2\n",
    "    print('나눈 결과 :', result)\n",
    "except ValueError as ve: # ValueError만 처리, # as 변수 : 예외 메세지 내용 출력\n",
    "    print('정수를 입력하세요', ve)\n",
    "except ZeroDivisionError as ze: # ZeroDivisionError만 처리\n",
    "    print('두번째 숫자는 0 이외의 정수를 입력하세요', ze)\n",
    "except: # 나머지 에외 처리\n",
    "    print('ValueError, ZerodivisionError 외 예외 발생')\n",
    "    \n",
    "print('프로그램을 종료합니다.')\n"
   ]
  },
  {
   "cell_type": "code",
   "execution_count": 7,
   "id": "85c0aeb1",
   "metadata": {},
   "outputs": [],
   "source": [
    "# 호출하는 함수에서도 예외 처리가 가능\n",
    "\n",
    "def divide():\n",
    "    num_str1 = input('정수1 : ')\n",
    "    num_str2 = input('정수2 : ')\n",
    "\n",
    "    num1 = int(num_str1) \n",
    "    num2 = int(num_str2) \n",
    "    result = num1 / num2\n",
    "    print('나눈 결과 :', result)\n",
    "    # return"
   ]
  },
  {
   "cell_type": "code",
   "execution_count": 8,
   "id": "e8f1893f",
   "metadata": {},
   "outputs": [
    {
     "name": "stdout",
     "output_type": "stream",
     "text": [
      "정수1 : aa\n",
      "정수2 : 1\n",
      "나누는 작업을 정상적으로 처리할 수 없습니다.\n",
      "프로그램을 종료합니다.\n"
     ]
    }
   ],
   "source": [
    "try:\n",
    "    divide() # 예외 발생 가능 코드 (ValueError, ZeroDivisionError)\n",
    "except:\n",
    "    print('나누는 작업을 정상적으로 처리할 수 없습니다.')\n",
    "    \n",
    "    \n",
    "print('프로그램을 종료합니다.')"
   ]
  },
  {
   "cell_type": "code",
   "execution_count": 9,
   "id": "0259e821",
   "metadata": {},
   "outputs": [],
   "source": [
    "#처음 접한 사람은 함수에 대해 모름 ∴ 설명을 달아야함\n",
    "\n",
    "def divide2(num1:int, num2:int): # num1:int : 매개변수 데이터 타입 힌트, # (num1:int, num2:int) -> int : 리턴 데이터 타입 힌트\n",
    "    \"\"\"\n",
    "    두개의 숫자를 나누는 함수\n",
    "    [parameter]\n",
    "        num1:int (피연산자)\n",
    "        num1:int (피연산자)\n",
    "    [return value]\n",
    "        int : 나눈 결과\n",
    "    [exception]\n",
    "        ValueError : 피연산자가 정수 타입이 아닌 경우\n",
    "        ZeroDivisionError : num2의 값이 0인 경우\n",
    "    \"\"\"\n",
    "    num_str1 = input('정수1 : ')\n",
    "    num_str2 = input('정수2 : ')\n",
    "\n",
    "    return num1 / num2"
   ]
  },
  {
   "cell_type": "code",
   "execution_count": 10,
   "id": "2995c24f",
   "metadata": {},
   "outputs": [
    {
     "name": "stdout",
     "output_type": "stream",
     "text": [
      "정수1 : 1\n",
      "정수2 : 0\n",
      "나눈 결과 : 1.0\n",
      "종료\n"
     ]
    }
   ],
   "source": [
    "try:\n",
    "    r = divide2(10, 10) # 예외 발생 가능 코드\n",
    "except:\n",
    "    print('예외 발생') # 예외 발생 시 실행될 코드\n",
    "else:\n",
    "    print('나눈 결과 :', r) # 예외가 발생하지 않을 시 실행될 코드\n",
    "    \n",
    "print('종료')"
   ]
  },
  {
   "cell_type": "markdown",
   "id": "37b7b6e2",
   "metadata": {},
   "source": [
    "### finally\n",
    "try - except - finally\n",
    "- finally block\n",
    "    - try에서 예외 발생 및 처리여부와 상관 없이 100% 실행을 보장하는 코드블럭.\n",
    "    - 외부자원과 연결해서 데이터를 주고받을 때 마지막 연결을 끊는(닫는) 코드를 주로 넣는다."
   ]
  },
  {
   "cell_type": "code",
   "execution_count": 11,
   "id": "b6c271c8",
   "metadata": {},
   "outputs": [
    {
     "name": "stdout",
     "output_type": "stream",
     "text": [
      "무조건 실행될 코드 - finally\n"
     ]
    },
    {
     "ename": "ZeroDivisionError",
     "evalue": "division by zero",
     "output_type": "error",
     "traceback": [
      "\u001b[1;31m---------------------------------------------------------------------------\u001b[0m",
      "\u001b[1;31mZeroDivisionError\u001b[0m                         Traceback (most recent call last)",
      "\u001b[1;32m~\\AppData\\Local\\Temp/ipykernel_2372/4087338136.py\u001b[0m in \u001b[0;36m<module>\u001b[1;34m\u001b[0m\n\u001b[0;32m      2\u001b[0m     \u001b[1;31m# 외부자원과 연결\u001b[0m\u001b[1;33m\u001b[0m\u001b[1;33m\u001b[0m\u001b[0m\n\u001b[0;32m      3\u001b[0m     \u001b[1;31m# 외부자원과 데이터를 주고받는 코드\u001b[0m\u001b[1;33m\u001b[0m\u001b[1;33m\u001b[0m\u001b[0m\n\u001b[1;32m----> 4\u001b[1;33m     \u001b[0mprint\u001b[0m\u001b[1;33m(\u001b[0m\u001b[1;36m1\u001b[0m\u001b[1;33m/\u001b[0m\u001b[1;36m0\u001b[0m\u001b[1;33m)\u001b[0m \u001b[1;31m# ZeroDivisionError\u001b[0m\u001b[1;33m\u001b[0m\u001b[1;33m\u001b[0m\u001b[0m\n\u001b[0m\u001b[0;32m      5\u001b[0m     \u001b[0mprint\u001b[0m\u001b[1;33m(\u001b[0m\u001b[1;34m'실행 코드1'\u001b[0m\u001b[1;33m)\u001b[0m\u001b[1;33m\u001b[0m\u001b[1;33m\u001b[0m\u001b[0m\n\u001b[0;32m      6\u001b[0m \u001b[1;32mexcept\u001b[0m \u001b[0mValueError\u001b[0m\u001b[1;33m:\u001b[0m\u001b[1;33m\u001b[0m\u001b[1;33m\u001b[0m\u001b[0m\n",
      "\u001b[1;31mZeroDivisionError\u001b[0m: division by zero"
     ]
    }
   ],
   "source": [
    "try:\n",
    "    # 외부자원과 연결\n",
    "    # 외부자원과 데이터를 주고받는 코드\n",
    "    print(1/0) # ZeroDivisionError\n",
    "    print('실행 코드1')\n",
    "except ValueError:\n",
    "    # 발생하는 예외를 처리하는 코드\n",
    "    print('실행 코드2') # ValueError만 처리하기 때문에 처리불가\n",
    "finally:\n",
    "    # 연결을 닫는 코드\n",
    "    print('무조건 실행될 코드 - finally')\n"
   ]
  },
  {
   "cell_type": "markdown",
   "id": "caa1a773",
   "metadata": {},
   "source": [
    "### 같은 일을 하는 메소드(함수)가 예외발생 또는 None을 반환하는 경우"
   ]
  },
  {
   "cell_type": "code",
   "execution_count": 12,
   "id": "8a19699c",
   "metadata": {},
   "outputs": [
    {
     "name": "stdout",
     "output_type": "stream",
     "text": [
      "10 10\n"
     ]
    }
   ],
   "source": [
    "# 딕셔너리\n",
    "d = {'a' : 10, 'b' : 10}\n",
    "print(d['a'], d.get('a'))"
   ]
  },
  {
   "cell_type": "code",
   "execution_count": 13,
   "id": "75f0d479",
   "metadata": {},
   "outputs": [
    {
     "name": "stdout",
     "output_type": "stream",
     "text": [
      "없습니다.\n"
     ]
    }
   ],
   "source": [
    "# 없는 key로 조회\n",
    "try:\n",
    "    print(d['key']) # KeyError를 발생\n",
    "except:\n",
    "    print('없습니다.')"
   ]
  },
  {
   "cell_type": "code",
   "execution_count": 14,
   "id": "a686d9de",
   "metadata": {},
   "outputs": [
    {
     "name": "stdout",
     "output_type": "stream",
     "text": [
      "없습니다.\n"
     ]
    }
   ],
   "source": [
    "v = d.get('key') # None을 반환\n",
    "if v != None:\n",
    "    print(v)\n",
    "else:\n",
    "    print('없습니다.')\n",
    "# v = d.get('key', '없음') # 설정한 defailt 값을 반환"
   ]
  },
  {
   "cell_type": "code",
   "execution_count": 15,
   "id": "e13ecf5d",
   "metadata": {},
   "outputs": [],
   "source": [
    "class Person():\n",
    "    \n",
    "        def __init__(self, name, age):\n",
    "            self.name = name\n",
    "            self.age = age\n",
    "            \n",
    "        # > 연산자 재정의\n",
    "        def __gt__(self, obj):\n",
    "            result = False\n",
    "            if isinstance(obj, Person): # obj가 Person 타입인가?\n",
    "                result = self.age > obj.age\n",
    "            else:\n",
    "                try:\n",
    "                    result = self.age > obj\n",
    "                except:\n",
    "                    pass\n",
    "            return result"
   ]
  },
  {
   "cell_type": "code",
   "execution_count": 16,
   "id": "cb66ced1",
   "metadata": {},
   "outputs": [
    {
     "data": {
      "text/plain": [
       "True"
      ]
     },
     "execution_count": 16,
     "metadata": {},
     "output_type": "execute_result"
    }
   ],
   "source": [
    "p1 = Person('홍길동', 20)\n",
    "p2 = Person('이순신', 15)\n",
    "\n",
    "p1 > p2"
   ]
  },
  {
   "cell_type": "code",
   "execution_count": 17,
   "id": "439bfc60",
   "metadata": {},
   "outputs": [
    {
     "data": {
      "text/plain": [
       "False"
      ]
     },
     "execution_count": 17,
     "metadata": {},
     "output_type": "execute_result"
    }
   ],
   "source": [
    "p1 > 30"
   ]
  },
  {
   "cell_type": "code",
   "execution_count": 18,
   "id": "2a4620d7",
   "metadata": {},
   "outputs": [
    {
     "data": {
      "text/plain": [
       "False"
      ]
     },
     "execution_count": 18,
     "metadata": {},
     "output_type": "execute_result"
    }
   ],
   "source": [
    "p1 > '스무살'"
   ]
  },
  {
   "cell_type": "markdown",
   "id": "9fe0b826",
   "metadata": {},
   "source": [
    "###  사용자 정의  예외 구현과 예외 발생"
   ]
  },
  {
   "cell_type": "code",
   "execution_count": 19,
   "id": "60829eb9",
   "metadata": {},
   "outputs": [],
   "source": [
    "# 예외 설정\n",
    "class IvalidMonthException(Exception):\n",
    "    \n",
    "    def __init__(self, invalid_month):\n",
    "        self.invalid_month = invalid_month\n",
    "        \n",
    "    def __str__(self):\n",
    "        return f'월은 1 ~ 12 사이의 정수만 가능합니다. 사용된 월은 {self.invalid_month}입니다.'"
   ]
  },
  {
   "cell_type": "code",
   "execution_count": 20,
   "id": "0272ba4b",
   "metadata": {},
   "outputs": [],
   "source": [
    "# 함수 설정\n",
    "def set_month(month):\n",
    "    if month >= 1 and month <= 12:\n",
    "        print(f'{month}월을 설정했습니다.')\n",
    "    else:\n",
    "        raise IvalidMonthException(month)"
   ]
  },
  {
   "cell_type": "code",
   "execution_count": 21,
   "id": "1d34f65d",
   "metadata": {},
   "outputs": [
    {
     "name": "stdout",
     "output_type": "stream",
     "text": [
      "10월을 설정했습니다.\n",
      "처리 월은 1 ~ 12 사이의 정수만 가능합니다. 사용된 월은 -1입니다.\n"
     ]
    }
   ],
   "source": [
    "set_month(10)\n",
    "try:\n",
    "    set_month(-1)\n",
    "except IvalidMonthException as e: # 변수 e : raise한 Exception 객체가 할당\n",
    "    print('처리', e)"
   ]
  },
  {
   "cell_type": "markdown",
   "id": "624d0e1b",
   "metadata": {},
   "source": [
    "#### TODO) 주문하는 프로그램"
   ]
  },
  {
   "cell_type": "code",
   "execution_count": 22,
   "id": "41620dcb",
   "metadata": {},
   "outputs": [],
   "source": [
    "# NotEnoughStockException 예외 설정\n",
    "class NotEnoughStockException(Exception):\n",
    "    \n",
    "    # 주문량, 재고량을 attribute로 저장\n",
    "    def __init__(self, order_amount,stock_amount):\n",
    "        self.order_amount = order_amount\n",
    "        self.stock_amount = stock_amount\n",
    "        \n",
    "    # 문자열로 발생이유 반환\n",
    "    def __str__(self):\n",
    "        return f'재고량 보다 주문량이 많습니다. 주문량 : {self.order_amount}, 현재 재고량 : {self.stock_amount}'"
   ]
  },
  {
   "cell_type": "code",
   "execution_count": 23,
   "id": "f5222b39",
   "metadata": {},
   "outputs": [],
   "source": [
    "# 함수 설정\n",
    "def order(order_amount:int):\n",
    "    \"\"\"\n",
    "    주문 처리하는 함수\n",
    "    [parameter]\n",
    "        order_amount:int -> 주문량\n",
    "    [return]\n",
    "    [Exception]\n",
    "        NotEnoughStockException : 주문량이 재고량보다 많으면 발생.\n",
    "    \"\"\"\n",
    "    stock_amount = 10 # 재고량\n",
    "    \n",
    "    if order_amount > stock_amount:\n",
    "        raise NotEnoughStockException(order_amount, stock_amount)\n",
    "        \n",
    "    print('주문처리 시작')\n",
    "    stock_amount -= order_amount # 재고량 변경\n",
    "    print('주문정보 저장')\n",
    "    print('주문완료. 남은 재고량 :', stock_amount)"
   ]
  },
  {
   "cell_type": "code",
   "execution_count": 24,
   "id": "b42bc21d",
   "metadata": {},
   "outputs": [
    {
     "name": "stdout",
     "output_type": "stream",
     "text": [
      "1차 주문실패 재고량 보다 주문량이 많습니다. 주문량 : 30, 현재 재고량 : 10 10\n",
      "주문처리 시작\n",
      "주문정보 저장\n",
      "주문완료. 남은 재고량 : 0\n",
      "다음 단계 작업\n"
     ]
    }
   ],
   "source": [
    "try:\n",
    "    order(30) # 예외발생 가능 코드 ∴ 예외처리를 해야함\n",
    "    print('주문 후 처리할 것')\n",
    "except NotEnoughStockException as e:\n",
    "    print('1차 주문실패', e, e.stock_amount)\n",
    "    order(e.stock_amount)\n",
    "\n",
    "print('다음 단계 작업')"
   ]
  }
 ],
 "metadata": {
  "kernelspec": {
   "display_name": "Python 3 (ipykernel)",
   "language": "python",
   "name": "python3"
  },
  "language_info": {
   "codemirror_mode": {
    "name": "ipython",
    "version": 3
   },
   "file_extension": ".py",
   "mimetype": "text/x-python",
   "name": "python",
   "nbconvert_exporter": "python",
   "pygments_lexer": "ipython3",
   "version": "3.9.7"
  }
 },
 "nbformat": 4,
 "nbformat_minor": 5
}

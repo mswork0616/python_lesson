{
 "cells": [
  {
   "cell_type": "markdown",
   "id": "1e316679",
   "metadata": {},
   "source": [
    "# 제어문\n",
    "code의 흐름일 제어하는 구문"
   ]
  },
  {
   "cell_type": "markdown",
   "id": "9c24b115",
   "metadata": {},
   "source": [
    "## 조건문 (분기문)\n",
    "    - 프로그램이 명령문들을 실행하는 도중 특정 순서에서 흐름의 나눠져야 하는 경우 사용"
   ]
  },
  {
   "cell_type": "code",
   "execution_count": 1,
   "id": "ea1a5b98",
   "metadata": {},
   "outputs": [
    {
     "name": "stdout",
     "output_type": "stream",
     "text": [
      "정수 :0\n",
      "영입니다.\n",
      "zero\n",
      "종료\n"
     ]
    }
   ],
   "source": [
    "num = int(input('정수 :'))\n",
    "# 입력값이 0이면 '영입니다.'를 출력하려는 경우\n",
    "# 단순 if문 : 특정 구문들을 실행할지 말지\n",
    "if num == 0:\n",
    "    print('영입니다.')\n",
    "    print('zero')\n",
    "\n",
    "print('종료') # 새로운 구문"
   ]
  },
  {
   "cell_type": "code",
   "execution_count": 2,
   "id": "95374915",
   "metadata": {},
   "outputs": [
    {
     "name": "stdout",
     "output_type": "stream",
     "text": [
      "정수 :1\n",
      "0이 아닙니다.\n",
      "입력한 숫자는 1 입니다.\n",
      "종료합니다.\n"
     ]
    }
   ],
   "source": [
    "# 입력값이 0이면 '0입니다.'를 출력, 0이 아니면 '0이 아닙니다.'를 출력\n",
    "#if else 문 : 조건이 True False 에서 두가지의 일을 분기할 경우\n",
    "num = int(input('정수 :'))\n",
    "if num == 0:\n",
    "    print('0 입니다.')\n",
    "else:\n",
    "    print('0이 아닙니다.')\n",
    "    print(f'입력한 숫자는 {num} 입니다.')\n",
    "   \n",
    "print('종료합니다.')"
   ]
  },
  {
   "cell_type": "code",
   "execution_count": 3,
   "id": "905f2a4d",
   "metadata": {},
   "outputs": [
    {
     "name": "stdout",
     "output_type": "stream",
     "text": [
      "정수 :10\n",
      "양수입니다.\n",
      "입력한 숫자는 10 입니다.\n",
      "종료합니다.\n"
     ]
    }
   ],
   "source": [
    "# 입력받은 값이 0이면 '0 입니다.'\n",
    "#               양수이면 '양수입니다.'\n",
    "#               음수이면 '음수입니다.'\n",
    "# if elif : 조건이 여려개 일 경우\n",
    "num = int(input('정수 :'))\n",
    "if num == 0:\n",
    "    print('0 입니다.')\n",
    "elif num > 0:\n",
    "    print('양수입니다.')\n",
    "    print(f'입력한 숫자는 {num} 입니다.')\n",
    "# elif num < 0:\n",
    "else: # 위 조건이 모두 False인 경우 else문을 실행\n",
    "    print('음수입니다.')\n",
    "   \n",
    "print('종료합니다.')"
   ]
  },
  {
   "cell_type": "code",
   "execution_count": 4,
   "id": "309f91aa",
   "metadata": {},
   "outputs": [
    {
     "name": "stdout",
     "output_type": "stream",
     "text": [
      "양수입니다.\n"
     ]
    }
   ],
   "source": [
    "# num이 0이상인 경우 '양수입니다.'를 출력, 100 초과 시 '100보다 큽니다.'를 출력\n",
    "num = 10\n",
    "if num >= 0:\n",
    "    print('양수입니다.')\n",
    "elif num > 100:\n",
    "    print('100보다 큽니다.') # 두개다 True이기 때문에 1개만 출력 됨"
   ]
  },
  {
   "cell_type": "code",
   "execution_count": 5,
   "id": "2032823f",
   "metadata": {},
   "outputs": [
    {
     "name": "stdout",
     "output_type": "stream",
     "text": [
      "양수입니다.\n",
      "100보다 큽니다.\n"
     ]
    }
   ],
   "source": [
    "# 두개의 조건문을 만족시키 위해 하나의 if문에 종속시켜 중첩시킨다.\n",
    "num = 101\n",
    "if num >= 0:\n",
    "    print('양수입니다.')\n",
    "    if num > 100:\n",
    "        print('100보다 큽니다.')"
   ]
  },
  {
   "cell_type": "markdown",
   "id": "ce345ffe",
   "metadata": {},
   "source": [
    "## 반복문"
   ]
  },
  {
   "cell_type": "markdown",
   "id": "d5aac4e7",
   "metadata": {},
   "source": [
    "### while문\n",
    "    - 조건이 True인 동안 구문을 반복 \n"
   ]
  },
  {
   "cell_type": "code",
   "execution_count": 6,
   "id": "b03e41fb",
   "metadata": {},
   "outputs": [
    {
     "name": "stdout",
     "output_type": "stream",
     "text": [
      "반복횟수 :3\n",
      "1.안녕하세요\n",
      "----------\n",
      "2.안녕하세요\n",
      "----------\n",
      "3.안녕하세요\n",
      "----------\n"
     ]
    }
   ],
   "source": [
    "limit = int(input('반복횟수 :')) # 반복할 회차\n",
    "count = 0 # 현재 몇번째 반복인지를 저장할 변수\n",
    "while count < limit: # 현재 반복횟수가 limit보다 작을 때까지 반복\n",
    "    count = count + 1\n",
    "    print(f'{count}.안녕하세요')   \n",
    "    print('-'*10)"
   ]
  },
  {
   "cell_type": "markdown",
   "id": "88b77cc4",
   "metadata": {},
   "source": [
    "### for in 문\n",
    "    - iiterable(자료구조, 문자열 등)이 가지고 있는 값들을 순환 조회할 때 사용"
   ]
  },
  {
   "cell_type": "code",
   "execution_count": 7,
   "id": "1215e944",
   "metadata": {},
   "outputs": [
    {
     "data": {
      "text/plain": [
       "22"
      ]
     },
     "execution_count": 7,
     "metadata": {},
     "output_type": "execute_result"
    }
   ],
   "source": [
    "lst = [10, 5, 7, 9, 100, 50, 27, 123, 22, 90]\n",
    "n1 = lst[0]\n",
    "n2 = lst[1]\n",
    "n3 = lst[2]\n",
    "\n",
    "sum_result = n1 + n2 + n3\n",
    "sum_result"
   ]
  },
  {
   "cell_type": "code",
   "execution_count": 8,
   "id": "2e4f121c",
   "metadata": {},
   "outputs": [
    {
     "name": "stdout",
     "output_type": "stream",
     "text": [
      "10\n",
      "----------\n",
      "5\n",
      "----------\n",
      "7\n",
      "----------\n",
      "9\n",
      "----------\n",
      "100\n",
      "----------\n",
      "50\n",
      "----------\n",
      "27\n",
      "----------\n",
      "123\n",
      "----------\n",
      "22\n",
      "----------\n",
      "90\n",
      "----------\n"
     ]
    }
   ],
   "source": [
    "# for 변수 in literable\n",
    "#     반복구문\n",
    "for num in lst:\n",
    "    print(num) # for in 문의 반복구문은 iiteralble의 원소 하나씩 처리하는 코드\n",
    "    print('-'*10)"
   ]
  },
  {
   "cell_type": "code",
   "execution_count": 9,
   "id": "0382c474",
   "metadata": {},
   "outputs": [
    {
     "name": "stdout",
     "output_type": "stream",
     "text": [
      "10, 20, 30, 40, 종료\n"
     ]
    }
   ],
   "source": [
    "for v in (10, 20, 30, 40):\n",
    "#    print(v)\n",
    "    print(v, end = ', ') # end : 출력 후 줄바꿈 대신 출력할 값.\n",
    "print('종료')"
   ]
  },
  {
   "cell_type": "code",
   "execution_count": 10,
   "id": "57c74560",
   "metadata": {},
   "outputs": [
    {
     "name": "stdout",
     "output_type": "stream",
     "text": [
      "1\t2\t3\t4\t"
     ]
    }
   ],
   "source": [
    "for v in {1, 2, 3, 4, 1, 2, 3, 4, 1, 2, 3, 4, }: # set 집합이므로 {1, 2, 3, 4, }\n",
    "    print(v, end = '\\t')"
   ]
  },
  {
   "cell_type": "code",
   "execution_count": 11,
   "id": "612c02aa",
   "metadata": {},
   "outputs": [
    {
     "name": "stdout",
     "output_type": "stream",
     "text": [
      "name\n",
      "age\n",
      "address\n"
     ]
    }
   ],
   "source": [
    "for v in dict(name = '홍길동', age = 20, address = '서울'): # dictionary: key 값만 조회\n",
    "    print(v)"
   ]
  },
  {
   "cell_type": "code",
   "execution_count": 12,
   "id": "67d63893",
   "metadata": {},
   "outputs": [
    {
     "name": "stdout",
     "output_type": "stream",
     "text": [
      "안\n",
      "녕\n",
      "하\n",
      "세\n",
      "요\n",
      ".\n",
      "a\n",
      "b\n",
      "c\n",
      "d\n",
      "e\n",
      "~\n"
     ]
    }
   ],
   "source": [
    "for v in '안녕하세요.abcde~': # dictionary: key 값만 조회\n",
    "    print(v)"
   ]
  },
  {
   "cell_type": "code",
   "execution_count": 13,
   "id": "7657c335",
   "metadata": {},
   "outputs": [
    {
     "data": {
      "text/plain": [
       "{'name': '홍길동', 'age': 20, 'address': '서울'}"
      ]
     },
     "execution_count": 13,
     "metadata": {},
     "output_type": "execute_result"
    }
   ],
   "source": [
    "d = dict(name = '홍길동', age = 20, address = '서울')\n",
    "d"
   ]
  },
  {
   "cell_type": "code",
   "execution_count": 14,
   "id": "19423799",
   "metadata": {},
   "outputs": [
    {
     "name": "stdout",
     "output_type": "stream",
     "text": [
      "홍길동\n",
      "20\n",
      "서울\n"
     ]
    }
   ],
   "source": [
    "# dictionary에서 value를 조회할 경우 1\n",
    "for key in d:\n",
    "    print(d[key])"
   ]
  },
  {
   "cell_type": "code",
   "execution_count": 15,
   "id": "862314d4",
   "metadata": {},
   "outputs": [
    {
     "name": "stdout",
     "output_type": "stream",
     "text": [
      "홍길동\n",
      "20\n",
      "서울\n"
     ]
    }
   ],
   "source": [
    "# dictionary에서 value를 조회할 경우 2\n",
    "for v in d.values():\n",
    "    print(v)"
   ]
  },
  {
   "cell_type": "markdown",
   "id": "79f81aea",
   "metadata": {},
   "source": [
    "## continue, break\n",
    "    - continue : 다음 반복을 실행\n",
    "    - break : 반복 중지"
   ]
  },
  {
   "cell_type": "code",
   "execution_count": 16,
   "id": "986ccfa7",
   "metadata": {},
   "outputs": [
    {
     "name": "stdout",
     "output_type": "stream",
     "text": [
      "10\n",
      "100\n",
      "50\n",
      "22\n",
      "90\n"
     ]
    }
   ],
   "source": [
    "# lst 값 중 2배수만 출력\n",
    "for v in lst:\n",
    "    if v % 2 == 0:\n",
    "        print(v)"
   ]
  },
  {
   "cell_type": "code",
   "execution_count": 17,
   "id": "0b48503b",
   "metadata": {},
   "outputs": [],
   "source": [
    "for v in lst:\n",
    "    if v % 2 != 0: # 2의 배수가 아니면\n",
    "        continue #나머지 반복구문 실행하지 않고 다음반복 실행\n",
    "        print(v)"
   ]
  },
  {
   "cell_type": "code",
   "execution_count": 18,
   "id": "244b8272",
   "metadata": {},
   "outputs": [
    {
     "name": "stdout",
     "output_type": "stream",
     "text": [
      "10\n",
      "5\n",
      "7\n",
      "9\n",
      "100\n",
      "end\n"
     ]
    }
   ],
   "source": [
    "for v in lst:\n",
    "    print(v)\n",
    "    if v >= 100: # break할 조건\n",
    "        break # 더이상 반복하지 않고 반복문을 끝 \n",
    "    \n",
    "print('end')"
   ]
  },
  {
   "cell_type": "code",
   "execution_count": 19,
   "id": "fb9de5e5",
   "metadata": {},
   "outputs": [
    {
     "name": "stdout",
     "output_type": "stream",
     "text": [
      "a\n",
      "입력한 문자열 : a\n",
      "b\n",
      "입력한 문자열 : b\n",
      "c\n",
      "입력한 문자열 : c\n",
      "q!\n",
      "입력한 문자열 : q!\n"
     ]
    }
   ],
   "source": [
    "# 사용자로부터 글을 입력받아서 출력 'q!'를 입력 받으면 종료\n",
    "while True:\n",
    "    s = input()\n",
    "    print('입력한 문자열 :', s)\n",
    "    if s == 'q!':\n",
    "        break"
   ]
  },
  {
   "cell_type": "markdown",
   "id": "9dfb38a1",
   "metadata": {},
   "source": [
    "## for in 문 관련 함수\n",
    "    - range() : 특정 값만큼 증감하는 연속된 숫자를 제공하는 literable을 생성"
   ]
  },
  {
   "cell_type": "code",
   "execution_count": 20,
   "id": "ac62f398",
   "metadata": {},
   "outputs": [
    {
     "data": {
      "text/plain": [
       "range(10, 100, 10)"
      ]
     },
     "execution_count": 20,
     "metadata": {},
     "output_type": "execute_result"
    }
   ],
   "source": [
    "# nums = [1, 2, 3, 4, 5, ..., 100]\n",
    "# range(시작숫자, 끝숫자, 증감치)\n",
    "range(10, 100, 10) # 10 ~ 100-1까지 10씩 증가하는 연속된 값을 제공\n",
    "                   # 생성된 값이 필요할때 까지 표사하진 않는다"
   ]
  },
  {
   "cell_type": "code",
   "execution_count": 21,
   "id": "60388ca1",
   "metadata": {},
   "outputs": [
    {
     "name": "stdout",
     "output_type": "stream",
     "text": [
      "10\n",
      "20\n",
      "30\n",
      "40\n",
      "50\n",
      "60\n",
      "70\n",
      "80\n",
      "90\n"
     ]
    }
   ],
   "source": [
    "for i in range(10, 100, 10):\n",
    "    print(i)"
   ]
  },
  {
   "cell_type": "code",
   "execution_count": 22,
   "id": "aec1162e",
   "metadata": {},
   "outputs": [
    {
     "data": {
      "text/plain": [
       "[10, 20, 30, 40, 50, 60, 70, 80, 90]"
      ]
     },
     "execution_count": 22,
     "metadata": {},
     "output_type": "execute_result"
    }
   ],
   "source": [
    "l = list(range(10, 100, 10))\n",
    "l"
   ]
  },
  {
   "cell_type": "code",
   "execution_count": 23,
   "id": "22afbe56",
   "metadata": {},
   "outputs": [
    {
     "data": {
      "text/plain": [
       "((10, 20, 30, 40, 50, 60, 70, 80, 90), {10, 20, 30, 40, 50, 60, 70, 80, 90})"
      ]
     },
     "execution_count": 23,
     "metadata": {},
     "output_type": "execute_result"
    }
   ],
   "source": [
    "tuple(range(10, 100, 10)), set(range(10, 100, 10))"
   ]
  },
  {
   "cell_type": "code",
   "execution_count": 24,
   "id": "12141ab0",
   "metadata": {},
   "outputs": [
    {
     "data": {
      "text/plain": [
       "[100, 95, 90, 85, 80, 75, 70, 65, 60, 55, 50, 45, 40, 35, 30, 25, 20, 15]"
      ]
     },
     "execution_count": 24,
     "metadata": {},
     "output_type": "execute_result"
    }
   ],
   "source": [
    "# 시작값이 종료보다 크고 증감치가 음수면 내림차순으로 제공\n",
    "list(range(100, 10, -5)) # 100 ~ 10-(-1)"
   ]
  },
  {
   "cell_type": "code",
   "execution_count": 25,
   "id": "ba4ef495",
   "metadata": {},
   "outputs": [
    {
     "data": {
      "text/plain": [
       "[1, 2, 3, 4, 5, 6, 7, 8, 9]"
      ]
     },
     "execution_count": 25,
     "metadata": {},
     "output_type": "execute_result"
    }
   ],
   "source": [
    "# 증감치 생략 : +1\n",
    "list(range(1, 10)) # 1 ~ 9 1씩 증가"
   ]
  },
  {
   "cell_type": "code",
   "execution_count": 26,
   "id": "4d507cfc",
   "metadata": {},
   "outputs": [
    {
     "data": {
      "text/plain": [
       "[0, 1, 2, 3, 4, 5, 6, 7, 8, 9]"
      ]
     },
     "execution_count": 26,
     "metadata": {},
     "output_type": "execute_result"
    }
   ],
   "source": [
    "# 시작값 생략 시 ,증감치도 같이 생략해야함: 0부터 시작\n",
    "# 종료값은 생략불가\n",
    "list(range(10))"
   ]
  },
  {
   "cell_type": "markdown",
   "id": "6529cb26",
   "metadata": {},
   "source": [
    "# range() 전달하는 값이\n",
    "    - 1개 : 종료값\n",
    "    - 2개 : 시작값, 종료값\n",
    "    - 3개 : 시작값, 종료값, 증감치"
   ]
  },
  {
   "cell_type": "code",
   "execution_count": 27,
   "id": "78eca3b1",
   "metadata": {},
   "outputs": [
    {
     "name": "stdout",
     "output_type": "stream",
     "text": [
      "ABC\n",
      "ABC\n",
      "ABC\n",
      "ABC\n",
      "ABC\n",
      "ABC\n",
      "ABC\n",
      "ABC\n",
      "ABC\n",
      "ABC\n"
     ]
    }
   ],
   "source": [
    "# range() : 특정 구문을 n번 반복하려 할 때 for in문과 함께 사용할 수 있다.\n",
    "for _ in range(10): # 변수를 _러 명명하면 이 변수는 사용하지 않고\n",
    "                     # 자리만 채운다는 의미로 사용.\n",
    "    print('ABC')"
   ]
  },
  {
   "cell_type": "markdown",
   "id": "0073a847",
   "metadata": {},
   "source": [
    "- enumerate()<br>\n",
    "    -Tuple로 (몇번쨰, 값) 묶어서 반환"
   ]
  },
  {
   "cell_type": "code",
   "execution_count": 28,
   "id": "12d32cf8",
   "metadata": {},
   "outputs": [
    {
     "name": "stdout",
     "output_type": "stream",
     "text": [
      "(0, 1)\n",
      "(1, 2)\n",
      "(2, 3)\n",
      "(3, 4)\n",
      "(4, 5)\n"
     ]
    }
   ],
   "source": [
    "l = [1, 2, 3, 4, 5]\n",
    "for i in enumerate(l):\n",
    "    print(i)"
   ]
  },
  {
   "cell_type": "code",
   "execution_count": 29,
   "id": "c85f7d06",
   "metadata": {},
   "outputs": [
    {
     "name": "stdout",
     "output_type": "stream",
     "text": [
      "(1, 1) 순번:1, 값:1\n",
      "(2, 2) 순번:2, 값:2\n",
      "(3, 3) 순번:3, 값:3\n",
      "(4, 4) 순번:4, 값:4\n",
      "(5, 5) 순번:5, 값:5\n"
     ]
    }
   ],
   "source": [
    "for i in enumerate(l, start=1): # start로 시작 값 설정 가능\n",
    "    print(i, f'순번:{i[0]}, 값:{i[1]}')"
   ]
  },
  {
   "cell_type": "code",
   "execution_count": 30,
   "id": "191b3361",
   "metadata": {},
   "outputs": [
    {
     "name": "stdout",
     "output_type": "stream",
     "text": [
      "(1, 1) 순번:1, 값:1\n",
      "(2, 2) 순번:2, 값:2\n",
      "(3, 3) 순번:3, 값:3\n",
      "(4, 4) 순번:4, 값:4\n",
      "(5, 5) 순번:5, 값:5\n"
     ]
    }
   ],
   "source": [
    "for i in enumerate(l, start=1): # start로 시작 값 설정 가능\n",
    "    print(i, f'순번:{i[0]}, 값:{i[1]}')"
   ]
  },
  {
   "cell_type": "code",
   "execution_count": 31,
   "id": "da215c0a",
   "metadata": {},
   "outputs": [
    {
     "name": "stdout",
     "output_type": "stream",
     "text": [
      "1. 1\n",
      "2. 2\n",
      "3. 3\n",
      "4. 4\n",
      "5. 5\n"
     ]
    }
   ],
   "source": [
    "# enumerate()로 튜플 값을 대입\n",
    "for idx, var in enumerate(l, start=1):\n",
    "    print(f'{idx}. {var}')"
   ]
  },
  {
   "cell_type": "markdown",
   "id": "02deb334",
   "metadata": {},
   "source": [
    "- zip(자료구조1, 자료구조2, ...) 같은 index값을 묶어서 정렬"
   ]
  },
  {
   "cell_type": "code",
   "execution_count": 32,
   "id": "67f63a1a",
   "metadata": {},
   "outputs": [],
   "source": [
    "# 같은 index의 값들이 같은 사람의 정보\n",
    "names = ['홍길동', '이순신', '강감찬']\n",
    "ages = [30, 40, 50]\n",
    "address = ['서울', '인천', '수원']"
   ]
  },
  {
   "cell_type": "code",
   "execution_count": 33,
   "id": "6557838d",
   "metadata": {},
   "outputs": [
    {
     "name": "stdout",
     "output_type": "stream",
     "text": [
      "('홍길동', 30, '서울')\n",
      "('이순신', 40, '인천')\n",
      "('강감찬', 50, '수원')\n"
     ]
    }
   ],
   "source": [
    "for v in zip(names, ages, address):\n",
    "    print(v)"
   ]
  },
  {
   "cell_type": "code",
   "execution_count": 34,
   "id": "094e1af2",
   "metadata": {},
   "outputs": [
    {
     "name": "stdout",
     "output_type": "stream",
     "text": [
      "홍길동 30 서울\n",
      "이순신 40 인천\n",
      "강감찬 50 수원\n"
     ]
    }
   ],
   "source": [
    "for name, age, addr in zip(names, ages, address): #튜플대입\n",
    "    print(name, age, addr)"
   ]
  },
  {
   "cell_type": "code",
   "execution_count": 35,
   "id": "5b5041f0",
   "metadata": {},
   "outputs": [
    {
     "name": "stdout",
     "output_type": "stream",
     "text": [
      "홍길동 30 서울 h@a.com\n",
      "이순신 40 인천 k@a.com\n",
      "강감찬 50 수원 l@a.com\n"
     ]
    }
   ],
   "source": [
    "emails = ['h@a.com', 'k@a.com', 'l@a.com', 'abc@a.com']\n",
    "# 자료구조들의 원소 개수가 다를 경우 수가 적은 것에 맞춘다.\n",
    "for name, age, addr, email in zip(names, ages, address, emails):\n",
    "    print(name, age, addr, email)"
   ]
  },
  {
   "cell_type": "markdown",
   "id": "ec642135",
   "metadata": {},
   "source": [
    "# 컴프리헨션\n",
    "    - 기존 자료구조가 가진 원소들을 이용해 새로운 자료구조를 만드는 구문"
   ]
  },
  {
   "cell_type": "code",
   "execution_count": 36,
   "id": "b396d23f",
   "metadata": {},
   "outputs": [
    {
     "data": {
      "text/plain": [
       "[5, 10, 15, 20, 25, 25, 25]"
      ]
     },
     "execution_count": 36,
     "metadata": {},
     "output_type": "execute_result"
    }
   ],
   "source": [
    "l1 = [1, 2, 3, 4, 5, 5, 5]\n",
    "# l1의 원소들을 5배한 값들로 구성된 리스트 생성\n",
    "new_list = []\n",
    "for i in l1:\n",
    "    new_list.append(i * 5)\n",
    "    \n",
    "new_list    "
   ]
  },
  {
   "cell_type": "code",
   "execution_count": 37,
   "id": "2ac0ed1f",
   "metadata": {},
   "outputs": [
    {
     "data": {
      "text/plain": [
       "[5, 10, 15, 20, 25, 25, 25]"
      ]
     },
     "execution_count": 37,
     "metadata": {},
     "output_type": "execute_result"
    }
   ],
   "source": [
    "new_list2 = [i * 5 for i in l1] # 리스트 컴프리헨션\n",
    "new_list2"
   ]
  },
  {
   "cell_type": "code",
   "execution_count": 38,
   "id": "6758223d",
   "metadata": {},
   "outputs": [
    {
     "data": {
      "text/plain": [
       "{5, 10, 15, 20, 25}"
      ]
     },
     "execution_count": 38,
     "metadata": {},
     "output_type": "execute_result"
    }
   ],
   "source": [
    "new_set = {i * 5 for i in l1} # set 컴프리헨션\n",
    "new_set"
   ]
  },
  {
   "cell_type": "code",
   "execution_count": 39,
   "id": "b2921b49",
   "metadata": {},
   "outputs": [
    {
     "name": "stdout",
     "output_type": "stream",
     "text": [
      "100 1\n",
      "101 2\n",
      "102 3\n",
      "103 4\n",
      "104 5\n",
      "105 5\n",
      "106 5\n"
     ]
    }
   ],
   "source": [
    "for i, v in enumerate(l1, start = 100):\n",
    "    print(i, v)"
   ]
  },
  {
   "cell_type": "code",
   "execution_count": 40,
   "id": "561a3f59",
   "metadata": {},
   "outputs": [
    {
     "data": {
      "text/plain": [
       "{100: 5, 101: 10, 102: 15, 103: 20, 104: 25, 105: 25, 106: 25}"
      ]
     },
     "execution_count": 40,
     "metadata": {},
     "output_type": "execute_result"
    }
   ],
   "source": [
    "# 딕셔너리 컴프리헨션\n",
    "new_dict = {key:value*5 for key, value in enumerate(l1, start = 100)}\n",
    "new_dict"
   ]
  },
  {
   "cell_type": "code",
   "execution_count": 41,
   "id": "2074fb92",
   "metadata": {},
   "outputs": [
    {
     "data": {
      "text/plain": [
       "{'key1': 1, 'key2': 2, 'key3': 3, 'key4': 4, 'key5': 5}"
      ]
     },
     "execution_count": 41,
     "metadata": {},
     "output_type": "execute_result"
    }
   ],
   "source": [
    "new_dict2 = {'key' + str(value):value for value in l1}\n",
    "new_dict2"
   ]
  },
  {
   "cell_type": "code",
   "execution_count": 42,
   "id": "aa3d1a31",
   "metadata": {},
   "outputs": [
    {
     "data": {
      "text/plain": [
       "(['A', 'B', 'C', 'ABC'], ['a', 'b', 'c', 'abc'])"
      ]
     },
     "execution_count": 42,
     "metadata": {},
     "output_type": "execute_result"
    }
   ],
   "source": [
    "s = ['a', 'b', 'c', 'abc'] # s의 값을 대문자로 변환한 값을 원소로 가지는 리스트, set\n",
    "\n",
    "s2 = []\n",
    "for v in s:\n",
    "    s2.append(v.upper())\n",
    "s2, s"
   ]
  },
  {
   "cell_type": "code",
   "execution_count": 43,
   "id": "5f0853c9",
   "metadata": {},
   "outputs": [
    {
     "data": {
      "text/plain": [
       "['A', 'B', 'C', 'ABC']"
      ]
     },
     "execution_count": 43,
     "metadata": {},
     "output_type": "execute_result"
    }
   ],
   "source": [
    "s3 = [v.upper() for v in s] # mapping\n",
    "s3"
   ]
  },
  {
   "cell_type": "code",
   "execution_count": 44,
   "id": "84047b1e",
   "metadata": {},
   "outputs": [
    {
     "data": {
      "text/plain": [
       "{'A', 'ABC', 'B', 'C'}"
      ]
     },
     "execution_count": 44,
     "metadata": {},
     "output_type": "execute_result"
    }
   ],
   "source": [
    "s4 = {v.upper() for v in s}\n",
    "s4"
   ]
  },
  {
   "cell_type": "code",
   "execution_count": 45,
   "id": "cc519768",
   "metadata": {},
   "outputs": [
    {
     "data": {
      "text/plain": [
       "{'a': 'A', 'b': 'B', 'c': 'C', 'abc': 'ABC'}"
      ]
     },
     "execution_count": 45,
     "metadata": {},
     "output_type": "execute_result"
    }
   ],
   "source": [
    "s5 = {v:v.upper() for v in s}\n",
    "s5"
   ]
  },
  {
   "cell_type": "code",
   "execution_count": 46,
   "id": "45400a9a",
   "metadata": {},
   "outputs": [
    {
     "data": {
      "text/plain": [
       "['A', 'B', 'C', 'R']"
      ]
     },
     "execution_count": 46,
     "metadata": {},
     "output_type": "execute_result"
    }
   ],
   "source": [
    "s = ['a', 'b', 'c', 'abc', 'def', 'ak', 'r']\n",
    "# s의 원소중 글자수가 1인 원소만 소문자를 대문자로 바꾼 값들을 가지는 배열\n",
    "s2 = []\n",
    "for v in s:\n",
    "    if len(v) == 1: # 글자수가 1이면\n",
    "        s2.append(v.upper())\n",
    "    \n",
    "s2"
   ]
  },
  {
   "cell_type": "code",
   "execution_count": 47,
   "id": "9d41f46e",
   "metadata": {},
   "outputs": [
    {
     "data": {
      "text/plain": [
       "['A', 'B', 'C', 'R']"
      ]
     },
     "execution_count": 47,
     "metadata": {},
     "output_type": "execute_result"
    }
   ],
   "source": [
    "s3 = [v.upper() for v in s if len(v) == 1] # filtering\n",
    "s3"
   ]
  },
  {
   "cell_type": "code",
   "execution_count": 48,
   "id": "3caf7ab8",
   "metadata": {},
   "outputs": [
    {
     "data": {
      "text/plain": [
       "{'A', 'B', 'C', 'R'}"
      ]
     },
     "execution_count": 48,
     "metadata": {},
     "output_type": "execute_result"
    }
   ],
   "source": [
    "s4 = {v.upper() for v in s if len(v) == 1} # filtering + mapping\n",
    "s3\n",
    "s4"
   ]
  },
  {
   "cell_type": "markdown",
   "id": "e766b908",
   "metadata": {},
   "source": [
    "- 자료구조 처리 \n",
    "    - map : 자료구조 내 모든 원소를 처리하는 경우\n",
    "    - filter : 자료구조 내 특정 조건에 따라 처리하는 경우"
   ]
  },
  {
   "cell_type": "code",
   "execution_count": 49,
   "id": "b914fe5c",
   "metadata": {},
   "outputs": [
    {
     "name": "stdout",
     "output_type": "stream",
     "text": [
      "점수 : 97\n",
      "A학점\n"
     ]
    }
   ],
   "source": [
    "#(1) 다음 점수 구간에 맞게 학점을 출력하세요.\n",
    "# 91 ~ 100 : A학점\n",
    "# 81 ~ 90 :  B학점\n",
    "# 71 ~ 80 :  C학점\n",
    "# 61 ~ 70 :  D학점\n",
    "# 60이하   :  F학점\n",
    "\n",
    "point = int(input('점수 : '))\n",
    "\n",
    "if 101 > point > 90:\n",
    "    print('A학점')\n",
    "elif 91 > point > 80:\n",
    "    print('B학점')\n",
    "elif 81 > point > 70:\n",
    "    print('C학점')\n",
    "elif 71 > point > 60:\n",
    "    print('D학점')\n",
    "elif point < 61:\n",
    "    print('F학점')\n",
    "else:\n",
    "    print(f'{point}는 잘못 된 점수입니다.')"
   ]
  },
  {
   "cell_type": "code",
   "execution_count": 50,
   "id": "fea2bfdb",
   "metadata": {},
   "outputs": [
    {
     "name": "stdout",
     "output_type": "stream",
     "text": [
      "ID : abcd\n",
      "abcd는 사용할 수 없는 ID 입니다.\n"
     ]
    }
   ],
   "source": [
    "#(2) 사용자로 부터 ID를 입력 받은 뒤 입력받은 ID가 5글자 이상이면 \"사용할 수 있습니다.\"를\n",
    "#    5글자 미만이면 \"사용할 수 없는 ID입니다.\"를 출력하세요.\n",
    "\n",
    "id = input('ID : ')\n",
    "\n",
    "if len(id) >= 5:\n",
    "    print(f'{id}는 사용할 수 있습니다.')\n",
    "else:\n",
    "    print(f'{id}는 사용할 수 없는 ID 입니다.')"
   ]
  },
  {
   "cell_type": "code",
   "execution_count": 51,
   "id": "45085e8f",
   "metadata": {},
   "outputs": [
    {
     "name": "stdout",
     "output_type": "stream",
     "text": [
      "도시명 : 서울\n",
      "서울는(은) 특별시입니다\n"
     ]
    }
   ],
   "source": [
    "# 3) 사용자로부터 우리나라 도시명을 입력 받은 뒤 입력받은 도시명이 서울이면 \"특별시\"를\n",
    "#    인천,부산,광주,대구,대전,울산 이면 \"광역시\"를\n",
    "#    나머지는 \"일반도시.\"를 출력하세요.\n",
    "\n",
    "city = input('도시명 : ')\n",
    "label = None\n",
    "\n",
    "if city == '서울':\n",
    "    label = '특별시'\n",
    "elif city in ['인천', '부산', '광주', '대구', '대전', '울산']:\n",
    "    label = '광역시'\n",
    "else:\n",
    "    label = '일반도시'\n",
    "print(f'{city}는(은) {label}입니다')"
   ]
  },
  {
   "cell_type": "code",
   "execution_count": 52,
   "id": "6771f930",
   "metadata": {},
   "outputs": [
    {
     "name": "stdout",
     "output_type": "stream",
     "text": [
      "리스트 평균 : 89\n",
      "합계 : 890\n",
      "평균 : 89.0\n"
     ]
    }
   ],
   "source": [
    "#(4) 아래 리스트의 평균을 구하시오. \n",
    "jumsu = [100, 90, 100, 80, 70, 100, 80, 90, 95, 85]\n",
    "\n",
    "import statistics\n",
    "print(\"리스트 평균 :\", statistics.mean(jumsu))\n",
    "\n",
    "jumsu_sum = 0 # 점수의 합게를 저장할 변수\n",
    "for i in jumsu:\n",
    "    # jumsu_sum = jumsu_sum + i\n",
    "    jumsu_sum += i\n",
    "\n",
    "jumsu_mean = jumsu_sum/len(jumsu)\n",
    "print('합계 :', jumsu_sum)\n",
    "print('평균 :', jumsu_mean)"
   ]
  },
  {
   "cell_type": "code",
   "execution_count": 53,
   "id": "7a104cba",
   "metadata": {},
   "outputs": [
    {
     "name": "stdout",
     "output_type": "stream",
     "text": [
      "60\n"
     ]
    }
   ],
   "source": [
    "i = 10\n",
    "# i = i + 50\n",
    "i += 50 # 복합대입연산자 : 특정변수를 연산한 값을 그 변수에 다시 대입할 경우 사용\n",
    "print(i)"
   ]
  },
  {
   "cell_type": "code",
   "execution_count": 54,
   "id": "58f2ecd5",
   "metadata": {},
   "outputs": [
    {
     "name": "stdout",
     "output_type": "stream",
     "text": [
      "890 89.0\n"
     ]
    }
   ],
   "source": [
    "s = sum(jumsu) # sum(iterable) terable의 원소들의 합계를 반환\n",
    "m = s/len(jumsu)\n",
    "print(s, m)"
   ]
  },
  {
   "cell_type": "code",
   "execution_count": 55,
   "id": "4017c454",
   "metadata": {},
   "outputs": [
    {
     "name": "stdout",
     "output_type": "stream",
     "text": [
      "0. 점수 : 100 - pass\n",
      "1. 점수 : 90 - pass\n",
      "2. 점수 : 100 - pass\n",
      "3. 점수 : 80 - fail\n",
      "4. 점수 : 70 - fail\n",
      "5. 점수 : 100 - pass\n",
      "6. 점수 : 80 - fail\n",
      "7. 점수 : 90 - pass\n",
      "8. 점수 : 95 - pass\n",
      "9. 점수 : 85 - fail\n"
     ]
    }
   ],
   "source": [
    "#(5) 위 jumsu리스트에서 평균점수이상은 pass, 미만은 fail을 index번호와 함께 출력하시오. (ex: 0-pass, 1-pass, 2-fail)\n",
    "\n",
    "for idx, i in enumerate(jumsu):\n",
    "    if i >= jumsu_mean:\n",
    "        print(f'{idx}. 점수 : {i} - pass')\n",
    "    else:\n",
    "        print(f'{idx}. 점수 : {i} - fail')"
   ]
  },
  {
   "cell_type": "code",
   "execution_count": 56,
   "id": "b911f867",
   "metadata": {},
   "outputs": [
    {
     "name": "stdout",
     "output_type": "stream",
     "text": [
      "최대값 : 95\n",
      "최대값 : 95\n"
     ]
    }
   ],
   "source": [
    "#(6) 아래 리스트 값들 중 최대값을 조회해 출력\n",
    "jumsu = [60, 90, 80, 80, 70, 55, 80, 90, 95, 85]\n",
    "\n",
    "print('최대값 :', max(jumsu))\n",
    "\n",
    "max_value = 0 # 최대값을 저장할 변수\n",
    "# 리스트의 원소와 max_value를 비교하여 원소가 크면 max_value 값을 변경\n",
    "for value in jumsu:\n",
    "    if value > max_value:\n",
    "        max_value = value\n",
    "print('최대값 :', max_value)"
   ]
  },
  {
   "cell_type": "code",
   "execution_count": 57,
   "id": "e1fa19a6",
   "metadata": {},
   "outputs": [
    {
     "data": {
      "text/plain": [
       "(95, 55)"
      ]
     },
     "execution_count": 57,
     "metadata": {},
     "output_type": "execute_result"
    }
   ],
   "source": [
    "max(jumsu), min(jumsu) # it|erable의 최대값과 최소값"
   ]
  },
  {
   "cell_type": "code",
   "execution_count": 58,
   "id": "e27a1e4a",
   "metadata": {},
   "outputs": [
    {
     "name": "stdout",
     "output_type": "stream",
     "text": [
      "소\n",
      "호랑이\n",
      "용\n",
      "뱀\n"
     ]
    }
   ],
   "source": [
    "#(8) 다음 리스트 중에서 \"쥐\"와 \"토끼\" 제외한 나머지를 출력하세요.\n",
    "str_list = [\"쥐\", \"소\", \"호랑이\", \"토끼\", \"용\", \"뱀\"]\n",
    "for a in str_list:\n",
    "    if a not in ['쥐', '토끼']:\n",
    "        print(a)"
   ]
  },
  {
   "cell_type": "code",
   "execution_count": 59,
   "id": "ca48ca1c",
   "metadata": {},
   "outputs": [
    {
     "name": "stdout",
     "output_type": "stream",
     "text": [
      "소\n",
      "호랑이\n",
      "용\n",
      "뱀\n"
     ]
    }
   ],
   "source": [
    "for a in str_list:\n",
    "    if a in ['쥐', '토끼']:\n",
    "        continue\n",
    "    print(a)"
   ]
  },
  {
   "cell_type": "code",
   "execution_count": 60,
   "id": "2c4efa29",
   "metadata": {},
   "outputs": [
    {
     "name": "stdout",
     "output_type": "stream",
     "text": [
      "단을 입력하시오 :5\n",
      "5 X 1 = 5\n",
      "5 X 2 = 10\n",
      "5 X 3 = 15\n",
      "5 X 4 = 20\n",
      "5 X 5 = 25\n",
      "5 X 6 = 30\n",
      "5 X 7 = 35\n",
      "5 X 8 = 40\n",
      "5 X 9 = 45\n"
     ]
    }
   ],
   "source": [
    "#(9) 사용자로부터 정수를 입력받아 그 단의 구구단을 출력하시오. \n",
    "# ex) 단을 입력하시오 : 2  \n",
    "# 2 x 1 = 2\n",
    "# 2 x 2 = 4\n",
    "#..\n",
    "# 2 x 9 = 18\n",
    "\n",
    "dan = int(input('단을 입력하시오 :'))\n",
    "for i in range(1,10):\n",
    "    print(f'{dan} X {i} = {dan * i}')"
   ]
  },
  {
   "cell_type": "code",
   "execution_count": 61,
   "id": "12bdb6fa",
   "metadata": {},
   "outputs": [
    {
     "data": {
      "text/plain": [
       "[20, 60, 140, 10, 240, 1400, 2, 70]"
      ]
     },
     "execution_count": 61,
     "metadata": {},
     "output_type": "execute_result"
    }
   ],
   "source": [
    "#컴프리헨션\n",
    "\n",
    "#(10) 다음 리스트가 가진 값에 두배(* 2)를 가지는 새로운 리스트를 만드시오. (리스트 컴프리헨션 이용)\n",
    "lst = [10, 30, 70, 5, 120, 700, 1, 35]\n",
    "\n",
    "[i * 2 for i in lst]"
   ]
  },
  {
   "cell_type": "code",
   "execution_count": 62,
   "id": "2921a3de",
   "metadata": {},
   "outputs": [
    {
     "data": {
      "text/plain": [
       "[(10, 100),\n",
       " (30, 300),\n",
       " (70, 700),\n",
       " (5, 50),\n",
       " (5, 50),\n",
       " (120, 1200),\n",
       " (700, 7000),\n",
       " (1, 10),\n",
       " (35, 350),\n",
       " (35, 350)]"
      ]
     },
     "execution_count": 62,
     "metadata": {},
     "output_type": "execute_result"
    }
   ],
   "source": [
    "#(11) 다음 리스트가 가진 값에 10배의 값을 가지는 값을 (원래값, 10배값) 의 튜플 묶음으로 가지는 리스트를 만드시오 (리스트 컴프리헨션 이용)\n",
    "# Ex) [(10,100), (30,300), .., (35, 350)]\n",
    "lst = [10, 30, 70, 5, 5, 120, 700, 1, 35, 35]\n",
    "\n",
    "[(i, i * 10) for i in lst]"
   ]
  },
  {
   "cell_type": "code",
   "execution_count": 63,
   "id": "078ba608",
   "metadata": {},
   "outputs": [
    {
     "data": {
      "text/plain": [
       "[3, 33, 21, 33, 60, 120]"
      ]
     },
     "execution_count": 63,
     "metadata": {},
     "output_type": "execute_result"
    }
   ],
   "source": [
    "#(12) 다음 리스트가 가진 값들 중 3의 배수만 가지는 리스트를 만드시오. (리스트 컴프리헨션 이용)\n",
    "lst2 = [ 3, 20, 33, 21, 33, 8, 11, 10, 7, 17, 60, 120, 2]\n",
    "\n",
    "[i for i in lst2 if i % 3 == 0]"
   ]
  },
  {
   "cell_type": "code",
   "execution_count": 64,
   "id": "293bafa4",
   "metadata": {},
   "outputs": [
    {
     "data": {
      "text/plain": [
       "['a.exe', 'function.exe', 'b.exe', 'run.exe']"
      ]
     },
     "execution_count": 64,
     "metadata": {},
     "output_type": "execute_result"
    }
   ],
   "source": [
    "#(13) 다음 파일이름들을 담은 리스트에서 확장자가 exe인 파일만 골라서 새로운 리스트에 담으시오.(string의 endswith()함수 이용)\n",
    "file_name=[\"test.txt\", \"a.exe\", \"jupyter.bat\", \"function.exe\", \"b.exe\", \"cat.jpg\", \"dog.png\", \"run.exe\", \"i.dll\"]\n",
    "\n",
    "[i for i in file_name if i.endswith('.exe')]"
   ]
  },
  {
   "cell_type": "code",
   "execution_count": 65,
   "id": "49c80e2a",
   "metadata": {},
   "outputs": [
    {
     "data": {
      "text/plain": [
       "[('mystroy.txt', 11), ('jupyter.bat', 11), ('function.exe', 12)]"
      ]
     },
     "execution_count": 65,
     "metadata": {},
     "output_type": "execute_result"
    }
   ],
   "source": [
    "#(14) 다음 중 10글자 이상인 파일명(확장자포함)만 가지는 리스트를 만드시오.\n",
    "file_name=[\"mystroy.txt\", \"a.exe\", \"jupyter.bat\", \"function.exe\", \"b.exe\", \"cat.jpg\", \"dog.png\", \"run.exe\", \"i.dll\"]\n",
    "\n",
    "# [i for i in file_name if len(i) >= 10]\n",
    "[(i, len(i)) for i in file_name if len(i) >= 10]"
   ]
  },
  {
   "cell_type": "code",
   "execution_count": 66,
   "id": "2ec04b06",
   "metadata": {},
   "outputs": [
    {
     "data": {
      "text/plain": [
       "(['A', 'B', 'C', 'D', 'E', 'F', 'G', 'H', 'I', 'J', 'K'],\n",
       " ['a', 'b', 'c', 'd', 'e', 'f', 'g', 'h', 'i', 'j', 'k'])"
      ]
     },
     "execution_count": 66,
     "metadata": {},
     "output_type": "execute_result"
    }
   ],
   "source": [
    "#(15) 다음 리스트에서 소문자만 가지는 새로운 리스트를 만드시오.\n",
    "str_list = [\"A\", \"B\", \"c\", \"D\", \"E\", \"F\", \"g\", \"h\", \"I\", \"J\", \"k\"]\n",
    "\n",
    "[i.upper() for i in str_list], [i.lower() for i in str_list]"
   ]
  },
  {
   "cell_type": "code",
   "execution_count": 67,
   "id": "ceb4f1be",
   "metadata": {},
   "outputs": [
    {
     "data": {
      "text/plain": [
       "(['c', 'g', 'h', 'k'], ['A', 'B', 'D', 'E', 'F', 'I', 'J'])"
      ]
     },
     "execution_count": 67,
     "metadata": {},
     "output_type": "execute_result"
    }
   ],
   "source": [
    "[i for i in str_list if i.islower()],[i for i in str_list if i.isupper()]"
   ]
  },
  {
   "cell_type": "code",
   "execution_count": 68,
   "id": "1f02d38e",
   "metadata": {},
   "outputs": [
    {
     "data": {
      "text/plain": [
       "(False, True)"
      ]
     },
     "execution_count": 68,
     "metadata": {},
     "output_type": "execute_result"
    }
   ],
   "source": [
    "'A'.islower(), 'a'.islower()"
   ]
  },
  {
   "cell_type": "code",
   "execution_count": 69,
   "id": "f29caa41",
   "metadata": {},
   "outputs": [
    {
     "data": {
      "text/plain": [
       "(True, False)"
      ]
     },
     "execution_count": 69,
     "metadata": {},
     "output_type": "execute_result"
    }
   ],
   "source": [
    "'A'.isupper(),'a'.isupper()"
   ]
  }
 ],
 "metadata": {
  "kernelspec": {
   "display_name": "Python 3 (ipykernel)",
   "language": "python",
   "name": "python3"
  },
  "language_info": {
   "codemirror_mode": {
    "name": "ipython",
    "version": 3
   },
   "file_extension": ".py",
   "mimetype": "text/x-python",
   "name": "python",
   "nbconvert_exporter": "python",
   "pygments_lexer": "ipython3",
   "version": "3.9.7"
  }
 },
 "nbformat": 4,
 "nbformat_minor": 5
}

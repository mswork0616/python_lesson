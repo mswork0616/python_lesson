{
 "cells": [
  {
   "cell_type": "markdown",
   "id": "a2f58681",
   "metadata": {},
   "source": [
    "# pymysql\n",
    "- 파이썬에서 MySQL, MariaDB DBMS와 연동하는 다양한 함수를 제공하는 모듈\n",
    "- Python [DB API 2.0](http://www.python.org/dev/peps/pep-0249) 표준을 따름\n",
    "- https://github.com/PyMySQL/PyMySQL/\n",
    "- https://pymysql.readthedocs.io/en/latest/"
   ]
  },
  {
   "cell_type": "markdown",
   "id": "43cccb80",
   "metadata": {},
   "source": [
    "# 설치\n",
    "- 조건\n",
    "    - python version 3.6 이상\n",
    "    - mysql version 5.6 이상\n",
    "- 설치\n",
    "    - `pip install PyMySQL`\n",
    "    - `conda install -c conda-forge pymysql`"
   ]
  },
  {
   "cell_type": "markdown",
   "id": "7572463d",
   "metadata": {},
   "source": [
    "# 기본 작성 절차\n",
    "\n",
    "1. Database 연결\n",
    "    ```python\n",
    "       connection =  pymysql.connect(host=\"DBMS 서버 ip\", \n",
    "                                     port=\"port번호\", \n",
    "                                     user=\"계정명\", \n",
    "                                     password=\"비밀번호\", \n",
    "                                     db=\"연결할데이터베이스이름\", \n",
    "                                     charset='utf8')\n",
    "    ```\n",
    "    - port 번호 기본값: 3306\n",
    "2. Connection을 이용해 Cursor 생성\n",
    "    - Cursor: 연결된 Database에 sql문을 전송하고 select결과 조회 기능을 제공하는 객체\n",
    "    ```python\n",
    "        cursor = connection.cursor()\n",
    "    ```\n",
    "3. Cusror를 이용해 SQL문 전송\n",
    "    ```python\n",
    "        cursor.execute(\"sql문\")\n",
    "    ```\n",
    "4. 연결 닫기\n",
    "    - cursor, connection 연결을 닫음\n",
    "    - with문을 이용 가능\n",
    "    ```python\n",
    "    cursor.close()\n",
    "    connection.close()\n",
    "    ```"
   ]
  },
  {
   "cell_type": "markdown",
   "id": "3262b127",
   "metadata": {},
   "source": [
    "# 예제\n",
    "\n",
    "## 테이블 생성\n",
    "- pymysql을 이용해서 DML(insert, update, delete)문을 실행 (DDL은 거의 미사용)"
   ]
  },
  {
   "cell_type": "code",
   "execution_count": 1,
   "id": "a8a1f263",
   "metadata": {
    "scrolled": false
   },
   "outputs": [
    {
     "name": "stdout",
     "output_type": "stream",
     "text": [
      "<class 'pymysql.connections.Connection'>\n"
     ]
    }
   ],
   "source": [
    "# import\n",
    "import pymysql\n",
    "\n",
    "# DB연결 -connect() 연결 실패 시 Exception 발생\n",
    "connection = pymysql.connect(host='127.0.0.1',\n",
    "                             port=3306,\n",
    "                             user='scott',\n",
    "                             password='tiger',\n",
    "                             db='testdb',\n",
    "                             charset='utf8')\n",
    "print(type(connection))"
   ]
  },
  {
   "cell_type": "code",
   "execution_count": 2,
   "id": "9982f0d1",
   "metadata": {},
   "outputs": [],
   "source": [
    "# cursor를 connection으로 부터 얻어옴 - cursor : sql문 실행을 관리하는 객체\n",
    "cursor = connection.cursor()"
   ]
  },
  {
   "cell_type": "code",
   "execution_count": 3,
   "id": "f7bdd49d",
   "metadata": {},
   "outputs": [
    {
     "data": {
      "text/plain": [
       "0"
      ]
     },
     "execution_count": 3,
     "metadata": {},
     "output_type": "execute_result"
    }
   ],
   "source": [
    "# sql문 실행 - 실행 실패(sql문 오작성, 제약조건 문제) 시 Exception 발생\n",
    "# sql문은 string정의 execute() 메소드를 이용하여 DB에 전송\n",
    "sql = '''\n",
    "create table test_user(\n",
    "    id int auto_increment primary key,\n",
    "    name varchar(30) not null,\n",
    "    email varchar(100) not null unique,\n",
    "    tall decimal(5, 2),\n",
    "    birthday date\n",
    ")\n",
    "'''\n",
    "\n",
    "cursor.execute(sql)"
   ]
  },
  {
   "cell_type": "code",
   "execution_count": 4,
   "id": "88570950",
   "metadata": {},
   "outputs": [],
   "source": [
    "# 연결 닫기 - cursor, connection close\n",
    "cursor.close()\n",
    "connection.close()"
   ]
  },
  {
   "cell_type": "markdown",
   "id": "59b4e786",
   "metadata": {},
   "source": [
    "## DML\n",
    "### insert"
   ]
  },
  {
   "cell_type": "code",
   "execution_count": 5,
   "id": "61deab37",
   "metadata": {},
   "outputs": [
    {
     "name": "stdout",
     "output_type": "stream",
     "text": [
      "1행이 insert 되었습니다.\n"
     ]
    }
   ],
   "source": [
    "import pymysql\n",
    "\n",
    "sql = \"insert into test_user (name, email, tall, birthday) values ('홍길동', 'a@a.com', 182.23, '2000-02-03')\"\n",
    "try:\n",
    "    # connect\n",
    "    connection = pymysql.connect(host='127.0.0.1', port=3306, user='scott', password = 'tiger', db = 'testdb', charset='utf8')\n",
    "    # cursor 생성\n",
    "    cursor = connection.cursor()\n",
    "    # insert 실행\n",
    "    cnt = cursor.execute(sql)\n",
    "    connection.commit # insert/delete/update 문 실행 후 commit 처리를 해야함\n",
    "    print(f'{cnt}행이 insert 되었습니다.')\n",
    "\n",
    "except Exception as e:\n",
    "    if connection:\n",
    "        connection.rollback()\n",
    "    print(e)\n",
    "finally:\n",
    "    # 연결 닫기\n",
    "    if cursor: # if cursor != None\n",
    "        cursor.close()\n",
    "    if connection: # if connection != None\n",
    "        connection.close()"
   ]
  },
  {
   "cell_type": "code",
   "execution_count": 6,
   "id": "c78ebebd",
   "metadata": {},
   "outputs": [
    {
     "name": "stdout",
     "output_type": "stream",
     "text": [
      "1행이 insert 되었습니다.\n"
     ]
    }
   ],
   "source": [
    "# with 문\n",
    "# with 연결함수 as 변수\n",
    "sql = \"insert into test_user (name, email, tall, birthday) values ('강감찬', 'b@b.com', 188.00, '2001-10-13')\"\n",
    "with pymysql.connect(host = '127.0.0.1', port = 3306, user = 'scott', password = 'tiger', db = 'testdb', charset = 'utf8') as connection:\n",
    "    with connection.cursor() as cursor:\n",
    "        cnt = cursor.execute(sql)\n",
    "        connection.commit()\n",
    "        print(f'{cnt}행이 insert 되었습니다.')"
   ]
  },
  {
   "cell_type": "code",
   "execution_count": 7,
   "id": "64d71e35",
   "metadata": {},
   "outputs": [],
   "source": [
    "# 함수를 이용한 삽입\n",
    "def insert_user(name, email, tall, birthday):\n",
    "    sql = f\"insert into test_user (name, email, tall, birthday) values ('{name}', '{email}', {tall}, '{birthday}')\"\n",
    "    with pymysql.connect(host = '127.0.0.1', port = 3306, user = 'scott', password = 'tiger', db = 'testdb', charset = 'utf8') as connection:\n",
    "        with connection.cursor() as cursor:\n",
    "            cnt = cursor.execute(sql)\n",
    "            connection.commit()\n",
    "\n",
    "insert_user('이순신', 'c@c.com', 175.00, '1995-10-22')"
   ]
  },
  {
   "cell_type": "markdown",
   "id": "c1d9de83",
   "metadata": {
    "ExecuteTime": {
     "end_time": "2022-04-19T06:23:30.323879Z",
     "start_time": "2022-04-19T06:23:30.304888Z"
    }
   },
   "source": [
    "### Parameterized Query\n",
    "- Parameterized Query\n",
    "    - SQL 문에서 컬럼 값이 들어가는 자리에 값대신 `%s` placeholder를 사용 후 execute()에서 placeholder에 넣을 값을 tuple로 제공\n",
    "    - query문을 쉽게 작성할 수 있는 장점"
   ]
  },
  {
   "cell_type": "code",
   "execution_count": 8,
   "id": "5c060325",
   "metadata": {},
   "outputs": [
    {
     "name": "stdout",
     "output_type": "stream",
     "text": [
      "1행이 insert 되었습니다.\n",
      "1행이 insert 되었습니다.\n"
     ]
    }
   ],
   "source": [
    "# datetime 모듈 : 날짜(date), 시간(time), 날짜시간(datetime) 등 날짜와 시간을 다루는 모듈, DB의 날짜/시간과 연동\n",
    "from datetime import date\n",
    "\n",
    "sql = \"insert into test_user (name, email, tall, birthday) values (%s, %s, %s, %s)\"\n",
    "with pymysql.connect(host = '127.0.0.1', port = 3306, user = 'scott', password = 'tiger', db = 'testdb', charset = 'utf8') as connection:\n",
    "    with connection.cursor() as cursor:\n",
    "        cnt = cursor.execute(sql, ('유관순', 'd@d.com', 175.0, '2000-01-02'))\n",
    "        cnt2 = cursor.execute(sql, ('김유신', 'e@e.com', 179.5, date(1995, 2, 3)))\n",
    "        connection.commit()\n",
    "        print(f'{cnt}행이 insert 되었습니다.')\n",
    "        print(f'{cnt2}행이 insert 되었습니다.')"
   ]
  },
  {
   "cell_type": "markdown",
   "id": "37335b7b",
   "metadata": {},
   "source": [
    "### Parameterized Query를 이용해 여러개 행 insert\n",
    "\n",
    "#### for문 사용"
   ]
  },
  {
   "cell_type": "code",
   "execution_count": 9,
   "id": "0fc2331b",
   "metadata": {},
   "outputs": [],
   "source": [
    "names = ['이름1', '이름2', '이름3']\n",
    "emails = ['f@f.com', 'g@g.com' ,'h@h.com']\n",
    "talls = [177.7, 163.9, 183.6]\n",
    "birthdays = ['2002-06-24', date.today(), '1999-05-05']"
   ]
  },
  {
   "cell_type": "code",
   "execution_count": 10,
   "id": "cd598d70",
   "metadata": {},
   "outputs": [],
   "source": [
    "sql = \"insert into test_user (name, email, tall, birthday) values (%s, %s, %s, %s)\"\n",
    "with pymysql.connect(host = '127.0.0.1', port = 3306, user = 'scott', password = 'tiger', db = 'testdb', charset = 'utf8') as connection:\n",
    "    with connection.cursor() as cursor:\n",
    "        for data in zip (names, emails, talls, birthdays):\n",
    "            cursor.execute(sql, data)\n",
    "            \n",
    "        connection.commit()"
   ]
  },
  {
   "cell_type": "markdown",
   "id": "7322f3bb",
   "metadata": {},
   "source": [
    "#### executemany() 사용\n",
    "- insert할 값들을 가진 리스트를 넣어 한번에 여러 행을 insert"
   ]
  },
  {
   "cell_type": "code",
   "execution_count": 11,
   "id": "772d6ceb",
   "metadata": {},
   "outputs": [],
   "source": [
    "datas = [\n",
    "    ['name1', 'i@i.com', 171.1, '1991-01-01'],\n",
    "    ['name2', 'j@j.com', 172.2, '1992-02-02'],\n",
    "    ['name3', 'k@k.com', 173.3, '1993-03-03'],\n",
    "]\n",
    "sql = \"insert into test_user (name, email, tall, birthday) values (%s, %s, %s, %s)\"\n",
    "with pymysql.connect(host = '127.0.0.1', port = 3306, user = 'scott', password = 'tiger', db = 'testdb', charset = 'utf8') as connection:\n",
    "    with connection.cursor() as cursor:\n",
    "        cursor.executemany(sql, datas)\n",
    "        connection.commit()"
   ]
  },
  {
   "cell_type": "markdown",
   "id": "d78f4253",
   "metadata": {},
   "source": [
    "### update/delete\n",
    "- 코딩 절차는 insert 와 동일"
   ]
  },
  {
   "cell_type": "code",
   "execution_count": 12,
   "id": "5f056266",
   "metadata": {},
   "outputs": [
    {
     "name": "stdout",
     "output_type": "stream",
     "text": [
      "10행 update 완료\n"
     ]
    }
   ],
   "source": [
    "update_sql = \"update test_user set tall = tall + 10, birthday = '2000-01-01'\"\n",
    "with pymysql.connect(host = '127.0.0.1', port = 3306, user = 'scott', password = 'tiger', db = 'testdb', charset = 'utf8') as connection:\n",
    "    with connection.cursor() as cursor:\n",
    "        cnt = cursor.execute(update_sql)\n",
    "        connection.commit()\n",
    "        print(f'{cnt}행 update 완료')"
   ]
  },
  {
   "cell_type": "code",
   "execution_count": 13,
   "id": "55cc6af5",
   "metadata": {},
   "outputs": [],
   "source": [
    "def update_user_by_id(id, name, email, tall, birthday):\n",
    "    update_sql = 'update test_user set name=%s, email=%s, tall=%s, birthday=%s where id=%s'\n",
    "    with pymysql.connect(host='127.0.0.1', port=3306, user='scott', password='tiger', db='testdb', charset='utf8') as connection:\n",
    "        with connection.cursor() as cursor:\n",
    "            cnt = cursor.execute(update_sql, (name, email, tall, birthday, id))\n",
    "            connection.commit()\n",
    "            return cnt"
   ]
  },
  {
   "cell_type": "code",
   "execution_count": 14,
   "id": "ea34cdb7",
   "metadata": {},
   "outputs": [
    {
     "data": {
      "text/plain": [
       "1"
      ]
     },
     "execution_count": 14,
     "metadata": {},
     "output_type": "execute_result"
    }
   ],
   "source": [
    "update_user_by_id(2, 'Hong', 'l@l.com', 188.88, '1990-10-10')"
   ]
  },
  {
   "cell_type": "code",
   "execution_count": 15,
   "id": "5a30e470",
   "metadata": {},
   "outputs": [
    {
     "name": "stdout",
     "output_type": "stream",
     "text": [
      "1\n"
     ]
    }
   ],
   "source": [
    "# delete\n",
    "delete_sql = \"delete from test_user where id = %s\"\n",
    "with pymysql.connect(host = '127.0.0.1', port = 3306, user = 'scott', password = 'tiger', db = 'testdb', charset = 'utf8') as connection:\n",
    "    with connection.cursor() as cursor:\n",
    "        cnt = cursor.execute(delete_sql, (2,))\n",
    "        print(cnt)\n",
    "        connection.commit()"
   ]
  },
  {
   "cell_type": "code",
   "execution_count": 16,
   "id": "05224be8",
   "metadata": {},
   "outputs": [],
   "source": [
    "def delete_user_by_id(id):\n",
    "    delete_sql = \"delete from test_user where id = %s\"\n",
    "    with pymysql.connect(host = '127.0.0.1', port = 3306, user = 'scott', password = 'tiger', db = 'testdb', charset = 'utf8') as connection:\n",
    "        with connection.cursor() as cursor:\n",
    "            cnt = cursor.execute(delete_sql, (id,))\n",
    "            connection.commit()\n",
    "            return cnt"
   ]
  },
  {
   "cell_type": "code",
   "execution_count": 17,
   "id": "a5738e04",
   "metadata": {},
   "outputs": [
    {
     "data": {
      "text/plain": [
       "1"
      ]
     },
     "execution_count": 17,
     "metadata": {},
     "output_type": "execute_result"
    }
   ],
   "source": [
    "delete_user_by_id(4)"
   ]
  },
  {
   "cell_type": "markdown",
   "id": "096891b8",
   "metadata": {},
   "source": [
    "## select (DQL)\n",
    "- 조회결과 조회\n",
    "    - cusor.execute(\"select문\") 실행 후 cursor의 결과 조회 메소드(fetch메소드)를 이용해 결과를 받음\n",
    "- fetch메소드\n",
    "    - **fetchall()**\n",
    "        - 조회한 모든 행을을 반환\n",
    "    - **fetchmany(size=개수)**\n",
    "        - 지정한 size개수 만큼 반환\n",
    "    - **fetchone()**\n",
    "        - 조회결과 중 첫번째 행만 반환\n",
    "        - 주로 pk 동등 조건으로 조회한 경우 사용"
   ]
  },
  {
   "cell_type": "markdown",
   "id": "524f4cb8",
   "metadata": {},
   "source": [
    "### fetchall()"
   ]
  },
  {
   "cell_type": "code",
   "execution_count": 18,
   "id": "93a06bf2",
   "metadata": {},
   "outputs": [],
   "source": [
    "import pymysql\n",
    "\n",
    "sql = 'select * from test_user'\n",
    "with pymysql.connect(host = '127.0.0.1', port = 3306, user = 'scott', password = 'tiger', db = 'testdb', charset = 'utf8') as connection:\n",
    "    with connection.cursor() as cursor:\n",
    "        # select 문 실행\n",
    "        cursor.execute(sql)\n",
    "        # select 결과 조회(cursor.fetchall() 메소드 이용)\n",
    "        result = cursor.fetchall()"
   ]
  },
  {
   "cell_type": "code",
   "execution_count": 19,
   "id": "cebb65c0",
   "metadata": {},
   "outputs": [
    {
     "name": "stdout",
     "output_type": "stream",
     "text": [
      "<class 'tuple'> 8\n",
      "<class 'tuple'>\n"
     ]
    },
    {
     "data": {
      "text/plain": [
       "((3, '이순신', 'c@c.com', Decimal('185.00'), datetime.date(2000, 1, 1)),\n",
       " (5, '김유신', 'e@e.com', Decimal('189.50'), datetime.date(2000, 1, 1)),\n",
       " (6, '이름1', 'f@f.com', Decimal('187.70'), datetime.date(2000, 1, 1)),\n",
       " (7, '이름2', 'g@g.com', Decimal('173.90'), datetime.date(2000, 1, 1)),\n",
       " (8, '이름3', 'h@h.com', Decimal('193.60'), datetime.date(2000, 1, 1)),\n",
       " (9, 'name1', 'i@i.com', Decimal('181.10'), datetime.date(2000, 1, 1)),\n",
       " (10, 'name2', 'j@j.com', Decimal('182.20'), datetime.date(2000, 1, 1)),\n",
       " (11, 'name3', 'k@k.com', Decimal('183.30'), datetime.date(2000, 1, 1)))"
      ]
     },
     "execution_count": 19,
     "metadata": {},
     "output_type": "execute_result"
    }
   ],
   "source": [
    "print(type(result), len(result))\n",
    "print(type(result[0]))\n",
    "result"
   ]
  },
  {
   "cell_type": "code",
   "execution_count": 20,
   "id": "82a62b01",
   "metadata": {},
   "outputs": [],
   "source": [
    "# 커서 클래스 변경\n",
    "sql = 'select * from test_user'\n",
    "with pymysql.connect(host = '127.0.0.1', port = 3306, user = 'scott', password = 'tiger', db = 'testdb', charset = 'utf8', cursorclass = pymysql.cursors.DictCursor) as connection: # pymysql.cursor.Dictcursor :  조회결과를 dictionary로 반환하는 커서\n",
    "    with connection.cursor() as cursor:\n",
    "        cursor.execute(sql)\n",
    "        result = cursor.fetchall()"
   ]
  },
  {
   "cell_type": "code",
   "execution_count": 21,
   "id": "134c8373",
   "metadata": {
    "scrolled": true
   },
   "outputs": [
    {
     "name": "stdout",
     "output_type": "stream",
     "text": [
      "<class 'list'> 8\n",
      "<class 'dict'>\n",
      "[{'id': 3, 'name': '이순신', 'email': 'c@c.com', 'tall': Decimal('185.00'), 'birthday': datetime.date(2000, 1, 1)}, {'id': 5, 'name': '김유신', 'email': 'e@e.com', 'tall': Decimal('189.50'), 'birthday': datetime.date(2000, 1, 1)}, {'id': 6, 'name': '이름1', 'email': 'f@f.com', 'tall': Decimal('187.70'), 'birthday': datetime.date(2000, 1, 1)}, {'id': 7, 'name': '이름2', 'email': 'g@g.com', 'tall': Decimal('173.90'), 'birthday': datetime.date(2000, 1, 1)}, {'id': 8, 'name': '이름3', 'email': 'h@h.com', 'tall': Decimal('193.60'), 'birthday': datetime.date(2000, 1, 1)}, {'id': 9, 'name': 'name1', 'email': 'i@i.com', 'tall': Decimal('181.10'), 'birthday': datetime.date(2000, 1, 1)}, {'id': 10, 'name': 'name2', 'email': 'j@j.com', 'tall': Decimal('182.20'), 'birthday': datetime.date(2000, 1, 1)}, {'id': 11, 'name': 'name3', 'email': 'k@k.com', 'tall': Decimal('183.30'), 'birthday': datetime.date(2000, 1, 1)}]\n",
      "3 c@c.com\n"
     ]
    }
   ],
   "source": [
    "print(type(result), len(result))\n",
    "print(type(result[0]))\n",
    "print(result)\n",
    "print(result[0]['id'], result[0]['email'])"
   ]
  },
  {
   "cell_type": "code",
   "execution_count": 22,
   "id": "e3b95259",
   "metadata": {},
   "outputs": [
    {
     "name": "stdout",
     "output_type": "stream",
     "text": [
      "((3, '이순신'), (5, '김유신'), (6, '이름1'), (7, '이름2'), (8, '이름3'), (9, 'name1'), (10, 'name2'), (11, 'name3'))\n",
      "2번 행의 이름: 김유신\n"
     ]
    }
   ],
   "source": [
    "sql = 'select id, name from test_user'\n",
    "with pymysql.connect(host='127.0.0.1', port=3306, user='scott', password='tiger', db='testdb', charset='utf8', \n",
    "                     ) as connection:   # 조회결과를 dictionary로 반환하는 커서\n",
    "    with connection.cursor() as cursor:\n",
    "        cursor.execute(sql)\n",
    "        result = cursor.fetchall()\n",
    "print(result)\n",
    "print(\"2번 행의 이름:\", result[1][1])"
   ]
  },
  {
   "cell_type": "markdown",
   "id": "b3a9867d",
   "metadata": {},
   "source": [
    "### fetchone()"
   ]
  },
  {
   "cell_type": "code",
   "execution_count": 23,
   "id": "97500b7b",
   "metadata": {},
   "outputs": [
    {
     "name": "stdout",
     "output_type": "stream",
     "text": [
      "((10, 'name2', 'j@j.com', Decimal('182.20'), datetime.date(2000, 1, 1)),)\n",
      "1\n"
     ]
    }
   ],
   "source": [
    "sql = 'select * from test_user where id = %s' # pk로 조회 결과는 0 또는 1 행\n",
    "with pymysql.connect(host = '127.0.0.1', port = 3306, user = 'scott', password = 'tiger', db = 'testdb', charset = 'utf8') as connection:\n",
    "    with connection.cursor() as cursor:\n",
    "        cursor.execute(sql, (10, ))\n",
    "        result = cursor.fetchall()\n",
    "print(result)\n",
    "if result:\n",
    "    print(len(result))"
   ]
  },
  {
   "cell_type": "code",
   "execution_count": 24,
   "id": "b0eaf81d",
   "metadata": {},
   "outputs": [],
   "source": [
    "sql = 'select * from test_user' \n",
    "with pymysql.connect(host='127.0.0.1', port=3306, user='scott', password='tiger', db='testdb', charset='utf8') as connection:\n",
    "    with connection.cursor() as cursor:\n",
    "        cursor.execute(sql)    \n",
    "        result = cursor.fetchone()  # 여러행이 조회된 경우에서 한행만(첫번째행) 반환"
   ]
  },
  {
   "cell_type": "code",
   "execution_count": 25,
   "id": "02e4e5de",
   "metadata": {},
   "outputs": [
    {
     "name": "stdout",
     "output_type": "stream",
     "text": [
      "(3, '이순신', 'c@c.com', Decimal('185.00'), datetime.date(2000, 1, 1))\n"
     ]
    }
   ],
   "source": [
    "print(result)"
   ]
  },
  {
   "cell_type": "markdown",
   "id": "cc8054bc",
   "metadata": {},
   "source": [
    "### fetchmany()"
   ]
  },
  {
   "cell_type": "code",
   "execution_count": 26,
   "id": "7d72f49c",
   "metadata": {},
   "outputs": [],
   "source": [
    "sql = \"select * from test_user\"\n",
    "with pymysql.connect(host='127.0.0.1', port=3306, user='scott', password='tiger', db='testdb', charset='utf8') as connection:\n",
    "    with connection.cursor() as cursor:\n",
    "        cursor.execute(sql)\n",
    "        result = cursor.fetchmany(size=3)"
   ]
  },
  {
   "cell_type": "code",
   "execution_count": 27,
   "id": "30e28b57",
   "metadata": {},
   "outputs": [
    {
     "name": "stdout",
     "output_type": "stream",
     "text": [
      "3\n",
      "((3, '이순신', 'c@c.com', Decimal('185.00'), datetime.date(2000, 1, 1)), (5, '김유신', 'e@e.com', Decimal('189.50'), datetime.date(2000, 1, 1)), (6, '이름1', 'f@f.com', Decimal('187.70'), datetime.date(2000, 1, 1)))\n"
     ]
    }
   ],
   "source": [
    "print(len(result))\n",
    "print(result)"
   ]
  },
  {
   "cell_type": "markdown",
   "id": "fca900bd",
   "metadata": {},
   "source": [
    "### curor 는 iterable 타입\n",
    "- for문에 select 실행한 cursor를 사용하면 조회결과를 한 행씩 조회 가능"
   ]
  },
  {
   "cell_type": "code",
   "execution_count": 28,
   "id": "8332ff67",
   "metadata": {},
   "outputs": [
    {
     "name": "stdout",
     "output_type": "stream",
     "text": [
      "(3, '이순신', 'c@c.com', Decimal('185.00'), datetime.date(2000, 1, 1))\n",
      "(5, '김유신', 'e@e.com', Decimal('189.50'), datetime.date(2000, 1, 1))\n",
      "(6, '이름1', 'f@f.com', Decimal('187.70'), datetime.date(2000, 1, 1))\n",
      "(7, '이름2', 'g@g.com', Decimal('173.90'), datetime.date(2000, 1, 1))\n",
      "(8, '이름3', 'h@h.com', Decimal('193.60'), datetime.date(2000, 1, 1))\n",
      "(9, 'name1', 'i@i.com', Decimal('181.10'), datetime.date(2000, 1, 1))\n",
      "(10, 'name2', 'j@j.com', Decimal('182.20'), datetime.date(2000, 1, 1))\n",
      "(11, 'name3', 'k@k.com', Decimal('183.30'), datetime.date(2000, 1, 1))\n"
     ]
    }
   ],
   "source": [
    "sql = \"select * from test_user\"\n",
    "with pymysql.connect(host='127.0.0.1', port=3306, user='scott', password='tiger', db='testdb', charset='utf8') as connection:\n",
    "    with connection.cursor() as cursor:\n",
    "        cursor.execute(sql)\n",
    "        for data in cursor:  #한번 반복시 마다 조회결과를 한행씩 반환\n",
    "            print(data)"
   ]
  }
 ],
 "metadata": {
  "kernelspec": {
   "display_name": "Python 3 (ipykernel)",
   "language": "python",
   "name": "python3"
  },
  "language_info": {
   "codemirror_mode": {
    "name": "ipython",
    "version": 3
   },
   "file_extension": ".py",
   "mimetype": "text/x-python",
   "name": "python",
   "nbconvert_exporter": "python",
   "pygments_lexer": "ipython3",
   "version": "3.8.13"
  },
  "toc": {
   "base_numbering": 1,
   "nav_menu": {},
   "number_sections": false,
   "sideBar": true,
   "skip_h1_title": false,
   "title_cell": "Table of Contents",
   "title_sidebar": "Contents",
   "toc_cell": false,
   "toc_position": {},
   "toc_section_display": true,
   "toc_window_display": false
  },
  "varInspector": {
   "cols": {
    "lenName": 16,
    "lenType": 16,
    "lenVar": 40
   },
   "kernels_config": {
    "python": {
     "delete_cmd_postfix": "",
     "delete_cmd_prefix": "del ",
     "library": "var_list.py",
     "varRefreshCmd": "print(var_dic_list())"
    },
    "r": {
     "delete_cmd_postfix": ") ",
     "delete_cmd_prefix": "rm(",
     "library": "var_list.r",
     "varRefreshCmd": "cat(var_dic_list()) "
    }
   },
   "types_to_exclude": [
    "module",
    "function",
    "builtin_function_or_method",
    "instance",
    "_Feature"
   ],
   "window_display": false
  }
 },
 "nbformat": 4,
 "nbformat_minor": 5
}

{
 "cells": [
  {
   "cell_type": "markdown",
   "id": "9b06e5e0",
   "metadata": {},
   "source": [
    "# 리스트\n",
    "    - 순서가 있는 자료 구조\n",
    "        - 원소들은 index로 관리한다.\n",
    "    - 생성\n",
    "        - `1 = [값, 값, 값, ...]`"
   ]
  },
  {
   "cell_type": "code",
   "execution_count": 1,
   "id": "20d4b516",
   "metadata": {},
   "outputs": [],
   "source": [
    "l1 = [1, 2, 10, 30]\n",
    "l2 = [10.7, 5, 'abc', True, None, 30]"
   ]
  },
  {
   "cell_type": "code",
   "execution_count": 2,
   "id": "70e2ac04",
   "metadata": {},
   "outputs": [
    {
     "name": "stdout",
     "output_type": "stream",
     "text": [
      "1 30\n",
      "abc None\n"
     ]
    }
   ],
   "source": [
    "# 조회 : indexing/slicing\n",
    "# indexing\n",
    "print(l1[0], l1[3])\n",
    "print(l2[2], l2[4])"
   ]
  },
  {
   "cell_type": "code",
   "execution_count": 3,
   "id": "e1fbe729",
   "metadata": {},
   "outputs": [
    {
     "ename": "IndexError",
     "evalue": "list index out of range",
     "output_type": "error",
     "traceback": [
      "\u001b[1;31m---------------------------------------------------------------------------\u001b[0m",
      "\u001b[1;31mIndexError\u001b[0m                                Traceback (most recent call last)",
      "\u001b[1;32m~\\AppData\\Local\\Temp/ipykernel_3056/121085176.py\u001b[0m in \u001b[0;36m<module>\u001b[1;34m\u001b[0m\n\u001b[0;32m      1\u001b[0m \u001b[1;31m# 없는 index조회 => IndexError 발생\u001b[0m\u001b[1;33m\u001b[0m\u001b[1;33m\u001b[0m\u001b[0m\n\u001b[1;32m----> 2\u001b[1;33m \u001b[0ml1\u001b[0m\u001b[1;33m[\u001b[0m\u001b[1;36m10\u001b[0m\u001b[1;33m]\u001b[0m\u001b[1;33m\u001b[0m\u001b[1;33m\u001b[0m\u001b[0m\n\u001b[0m",
      "\u001b[1;31mIndexError\u001b[0m: list index out of range"
     ]
    }
   ],
   "source": [
    "# 없는 index조회 => IndexError 발생\n",
    "l1[10]"
   ]
  },
  {
   "cell_type": "code",
   "execution_count": null,
   "id": "e9f02f4c",
   "metadata": {},
   "outputs": [],
   "source": [
    "# index 내 원소 개수 조회\n",
    "print('l1 원소개수 :', len(l1))\n",
    "print('l2 원소개수 :', len(l2))"
   ]
  },
  {
   "cell_type": "code",
   "execution_count": 4,
   "id": "860cc606",
   "metadata": {},
   "outputs": [
    {
     "name": "stdout",
     "output_type": "stream",
     "text": [
      "['abc', True, None]\n",
      "[10.7, 5, 'abc']\n",
      "[True, None, 30]\n",
      "[10.7, 'abc', None]\n"
     ]
    }
   ],
   "source": [
    "# slicing\n",
    "print(l2[2:5])\n",
    "print(l2[:3]) # 0~2 번 index\n",
    "print(l2[3:])\n",
    "print(l2[::2])"
   ]
  },
  {
   "cell_type": "code",
   "execution_count": 5,
   "id": "3cbe8588",
   "metadata": {},
   "outputs": [
    {
     "data": {
      "text/plain": [
       "[100, 5, 'abc', True, None, 30]"
      ]
     },
     "execution_count": 5,
     "metadata": {},
     "output_type": "execute_result"
    }
   ],
   "source": [
    "# 리스트는 원소 변경 가능 => 대입연산\n",
    "l2[0] = 100\n",
    "l2"
   ]
  },
  {
   "cell_type": "code",
   "execution_count": 6,
   "id": "02aeb06b",
   "metadata": {},
   "outputs": [
    {
     "data": {
      "text/plain": [
       "[100, 5, 'abc', True, '가나다', 30]"
      ]
     },
     "execution_count": 6,
     "metadata": {},
     "output_type": "execute_result"
    }
   ],
   "source": [
    "l2[4] = '가나다'\n",
    "l2"
   ]
  },
  {
   "cell_type": "code",
   "execution_count": 7,
   "id": "b6c7a609",
   "metadata": {},
   "outputs": [
    {
     "data": {
      "text/plain": [
       "[1, 2, 3, 4, 5, True, '가나다', 30]"
      ]
     },
     "execution_count": 7,
     "metadata": {},
     "output_type": "execute_result"
    }
   ],
   "source": [
    "# slicing 이용 시 지정한 범위의 원소들을 한번에 변경 가능\n",
    "l2[:3] = [1, 2, 3, 4, 5] # 0~2 번 index의 값을 변경\n",
    "l2"
   ]
  },
  {
   "cell_type": "code",
   "execution_count": 8,
   "id": "7a2b8ebd",
   "metadata": {},
   "outputs": [
    {
     "data": {
      "text/plain": [
       "[1, 2, True, '가나다', 30]"
      ]
     },
     "execution_count": 8,
     "metadata": {},
     "output_type": "execute_result"
    }
   ],
   "source": [
    "l2[2:5] = [] # 특정 범위의 원소들 삭제\n",
    "l2"
   ]
  },
  {
   "cell_type": "code",
   "execution_count": 9,
   "id": "032761ca",
   "metadata": {},
   "outputs": [
    {
     "data": {
      "text/plain": [
       "[2, True, '가나다', 30]"
      ]
     },
     "execution_count": 9,
     "metadata": {},
     "output_type": "execute_result"
    }
   ],
   "source": [
    "del l2[0] # 하나의 원소만 삭제 시 del 명령어 사용\n",
    "l2"
   ]
  },
  {
   "cell_type": "markdown",
   "id": "720161c0",
   "metadata": {},
   "source": [
    "**리스트를 포함한 자료구조도 값**\n",
    "- 리스트(자료구조)에 다른 자료구조들을 원소로 추가 가능. (리스트 안에 다른 리스트 중첩 가능)     \n",
    "    ∴ 리스트 또한 하나의 값이다."
   ]
  },
  {
   "cell_type": "code",
   "execution_count": 10,
   "id": "f8f3f0d0",
   "metadata": {},
   "outputs": [],
   "source": [
    "l3 = [[1,2], [3,4], [5,6]]"
   ]
  },
  {
   "cell_type": "code",
   "execution_count": 11,
   "id": "9db72ca2",
   "metadata": {},
   "outputs": [
    {
     "data": {
      "text/plain": [
       "[1, 2]"
      ]
     },
     "execution_count": 11,
     "metadata": {},
     "output_type": "execute_result"
    }
   ],
   "source": [
    "l4 = l3[0]\n",
    "l4"
   ]
  },
  {
   "cell_type": "code",
   "execution_count": 12,
   "id": "9df79c27",
   "metadata": {},
   "outputs": [
    {
     "data": {
      "text/plain": [
       "2"
      ]
     },
     "execution_count": 12,
     "metadata": {},
     "output_type": "execute_result"
    }
   ],
   "source": [
    "l4[1]"
   ]
  },
  {
   "cell_type": "code",
   "execution_count": 13,
   "id": "d0dff399",
   "metadata": {},
   "outputs": [
    {
     "name": "stdout",
     "output_type": "stream",
     "text": [
      "2\n",
      "5\n"
     ]
    }
   ],
   "source": [
    "l3[0]\n",
    "print(l3[0][1])\n",
    "print(l3[2][0])"
   ]
  },
  {
   "cell_type": "code",
   "execution_count": 14,
   "id": "7d0a2a0a",
   "metadata": {},
   "outputs": [],
   "source": [
    "l4 = [\n",
    "        [\n",
    "            [1, 2], [3, 4], [5, 6]\n",
    "        ],\n",
    "        [\n",
    "            [10, 20], [30, 40], [50, 60]\n",
    "        ]\n",
    "]"
   ]
  },
  {
   "cell_type": "code",
   "execution_count": 15,
   "id": "65e82232",
   "metadata": {},
   "outputs": [
    {
     "name": "stdout",
     "output_type": "stream",
     "text": [
      "[[1, 2], [3, 4], [5, 6]]\n",
      "[3, 4]\n",
      "4\n"
     ]
    },
    {
     "data": {
      "text/plain": [
       "60"
      ]
     },
     "execution_count": 15,
     "metadata": {},
     "output_type": "execute_result"
    }
   ],
   "source": [
    "# l4에서 4를 꺼낼경우\n",
    "print(l4[0])\n",
    "print(l4[0][1])\n",
    "print(l4[0][1][1])\n",
    "\n",
    "l4[1][2][1]"
   ]
  },
  {
   "cell_type": "markdown",
   "id": "b39c2f36",
   "metadata": {},
   "source": [
    "## 리스트 연산자\n",
    "    - 리스트 + 리스트 = 두 리스트를 합친 새로운 리스트 반환\n",
    "    - 리스트 * n = 리스트를 n번 만큼 반복하여 합친 새로운 리스트 반환\n",
    "    - 값 in 리스트, 값 not in 리스트 : 리스트 안에 값이 있는지(in), 없는지(not in) bool 값으로 변환"
   ]
  },
  {
   "cell_type": "code",
   "execution_count": 16,
   "id": "ae571efd",
   "metadata": {},
   "outputs": [
    {
     "name": "stdout",
     "output_type": "stream",
     "text": [
      "[1, 2, 3, 10, 20, 30]\n"
     ]
    }
   ],
   "source": [
    "l1 = [1, 2, 3]\n",
    "l2 = [10, 20, 30]\n",
    "l3 = l1 + l2\n",
    "print(l3)"
   ]
  },
  {
   "cell_type": "code",
   "execution_count": 17,
   "id": "b6b729c2",
   "metadata": {},
   "outputs": [
    {
     "data": {
      "text/plain": [
       "[1, 2, 3, 1, 2, 3, 1, 2, 3]"
      ]
     },
     "execution_count": 17,
     "metadata": {},
     "output_type": "execute_result"
    }
   ],
   "source": [
    "l4 = l1 * 3\n",
    "l4"
   ]
  },
  {
   "cell_type": "code",
   "execution_count": 18,
   "id": "6b9fe93e",
   "metadata": {},
   "outputs": [
    {
     "name": "stdout",
     "output_type": "stream",
     "text": [
      "False\n",
      "True\n"
     ]
    }
   ],
   "source": [
    "print(10 in l1)\n",
    "print(1 in l1)"
   ]
  },
  {
   "cell_type": "code",
   "execution_count": 19,
   "id": "5c538eec",
   "metadata": {},
   "outputs": [
    {
     "name": "stdout",
     "output_type": "stream",
     "text": [
      "True\n",
      "False\n"
     ]
    }
   ],
   "source": [
    "print(10 not in l1)\n",
    "print(1 not in l1)"
   ]
  },
  {
   "cell_type": "markdown",
   "id": "d544755b",
   "metadata": {},
   "source": [
    "## 리스트  대입\n",
    "    여러개의 변수에 리스트의 값을 한번에 대입"
   ]
  },
  {
   "cell_type": "code",
   "execution_count": 20,
   "id": "69f09ad9",
   "metadata": {},
   "outputs": [
    {
     "name": "stdout",
     "output_type": "stream",
     "text": [
      "1 2 3\n",
      "6\n"
     ]
    }
   ],
   "source": [
    "a, b, c = [1, 2, 3] # 변수와 리스트의 원소의 개수는 같아야 함\n",
    "print(a, b, c)\n",
    "print(a + b + c)"
   ]
  },
  {
   "cell_type": "code",
   "execution_count": 21,
   "id": "737845e2",
   "metadata": {},
   "outputs": [],
   "source": [
    "a, b, c = 10, 20, 30 # 튜플대입"
   ]
  },
  {
   "cell_type": "markdown",
   "id": "85d8003c",
   "metadata": {},
   "source": [
    "## 주요함수\n",
    "    - len() : 리스트의 원소 개수 반환\n",
    "    - append(값) : 값을 마지막 원소로 추가\n",
    "    - extend() : 리스트 인수로 받은 리스트의 원소들을 추가 ( + 연산효과)\n",
    "    - sort() : 리스트 내 원소를 오름차순 정렬\n",
    "    - sort(reverse = True) : 리스트 내내림차순 정렬\n",
    "    - insert(index, 값) : 값을 index 에 삽입\n",
    "    - remove(삭제할 값) : 리스트 내 값과 일치하는 일치하는 첫번째 원소를 삭제\n",
    "    - index(값, [시작idx]) :  값의 index 번호를 반환\n",
    "    - pop([index]) : index의 값을 삭제하면서 반환\n",
    "    - count() : 값 매개변수에 전달한 값의 개수를 반환\n",
    "    - clear() : 모든 원소 제거"
   ]
  },
  {
   "cell_type": "code",
   "execution_count": 22,
   "id": "c4745a49",
   "metadata": {},
   "outputs": [
    {
     "name": "stdout",
     "output_type": "stream",
     "text": [
      "원소개수 : 3\n"
     ]
    }
   ],
   "source": [
    "print('원소개수 :', len(l1))"
   ]
  },
  {
   "cell_type": "code",
   "execution_count": 23,
   "id": "daf14f6f",
   "metadata": {},
   "outputs": [
    {
     "data": {
      "text/plain": [
       "[1, 2, 3, 10]"
      ]
     },
     "execution_count": 23,
     "metadata": {},
     "output_type": "execute_result"
    }
   ],
   "source": [
    "l1.append(10) # list.append(추가값)\n",
    "l1"
   ]
  },
  {
   "cell_type": "code",
   "execution_count": 24,
   "id": "f0df7997",
   "metadata": {},
   "outputs": [
    {
     "data": {
      "text/plain": [
       "[1, 2, 3, 10, 20]"
      ]
     },
     "execution_count": 24,
     "metadata": {},
     "output_type": "execute_result"
    }
   ],
   "source": [
    "l1.append(20) # 함수를 누른 만큼 추가\n",
    "l1"
   ]
  },
  {
   "cell_type": "code",
   "execution_count": 25,
   "id": "8893be3c",
   "metadata": {},
   "outputs": [
    {
     "data": {
      "text/plain": [
       "[1, 2, 3, 10, 20, 3, 4, 5]"
      ]
     },
     "execution_count": 25,
     "metadata": {},
     "output_type": "execute_result"
    }
   ],
   "source": [
    "l1.extend([3, 4, 5]) # 리스트에 추가\n",
    "l1"
   ]
  },
  {
   "cell_type": "code",
   "execution_count": 26,
   "id": "bc396454",
   "metadata": {},
   "outputs": [
    {
     "data": {
      "text/plain": [
       "[1, 2, 3, 10, 20, 3, 4, 5, 30, 40, 50]"
      ]
     },
     "execution_count": 26,
     "metadata": {},
     "output_type": "execute_result"
    }
   ],
   "source": [
    "l1 + [30, 40, 50] # l1과 [30, 40, 50]를 합친 새로운 리스트"
   ]
  },
  {
   "cell_type": "code",
   "execution_count": 27,
   "id": "3a50d379",
   "metadata": {},
   "outputs": [
    {
     "data": {
      "text/plain": [
       "[20, 10, 5, 4, 3, 3, 2, 1]"
      ]
     },
     "execution_count": 27,
     "metadata": {},
     "output_type": "execute_result"
    }
   ],
   "source": [
    "# 정렬 - sorted : 원본 리스트를 변경하지 않고 정렬한 것만 보여줌\n",
    "sorted(l1) # 오름차순\n",
    "sorted(l1, reverse = True) # 내림차순"
   ]
  },
  {
   "cell_type": "code",
   "execution_count": 28,
   "id": "daf6ddbf",
   "metadata": {},
   "outputs": [
    {
     "name": "stdout",
     "output_type": "stream",
     "text": [
      "[1, 2, 3, 10, 20, 3, 4, 5]\n",
      "[1, 2, 3, 3, 4, 5, 10, 20]\n"
     ]
    }
   ],
   "source": [
    "print(l1)\n",
    "l2 = sorted(l1)\n",
    "print(l2)"
   ]
  },
  {
   "cell_type": "code",
   "execution_count": 29,
   "id": "6bae013a",
   "metadata": {},
   "outputs": [
    {
     "data": {
      "text/plain": [
       "[1, 2, 3, 10, 20, 3, 4, 5]"
      ]
     },
     "execution_count": 29,
     "metadata": {},
     "output_type": "execute_result"
    }
   ],
   "source": [
    "# 리스트.sort() : 리스트 자체 정렬\n",
    "l1.sort\n",
    "l1"
   ]
  },
  {
   "cell_type": "code",
   "execution_count": 30,
   "id": "66e2398c",
   "metadata": {},
   "outputs": [
    {
     "data": {
      "text/plain": [
       "[1, 2, 3, '가나다', 10, 20, 3, 4, 5]"
      ]
     },
     "execution_count": 30,
     "metadata": {},
     "output_type": "execute_result"
    }
   ],
   "source": [
    "l1.insert(3, '가나다') # index 3에 '가나다'를 삽입\n",
    "l1"
   ]
  },
  {
   "cell_type": "code",
   "execution_count": 31,
   "id": "71f86195",
   "metadata": {},
   "outputs": [
    {
     "data": {
      "text/plain": [
       "[2, 3, '가나다', 10, 20, 3, 4, 5]"
      ]
     },
     "execution_count": 31,
     "metadata": {},
     "output_type": "execute_result"
    }
   ],
   "source": [
    "# del : index로 원소 삭제\n",
    "del l1[0]\n",
    "l1"
   ]
  },
  {
   "cell_type": "code",
   "execution_count": 32,
   "id": "def3d4c1",
   "metadata": {},
   "outputs": [
    {
     "data": {
      "text/plain": [
       "[2, 3, 10, 20, 3, 4, 5]"
      ]
     },
     "execution_count": 32,
     "metadata": {},
     "output_type": "execute_result"
    }
   ],
   "source": [
    "# 값으로 삭제\n",
    "l1.remove('가나다')\n",
    "l1"
   ]
  },
  {
   "cell_type": "code",
   "execution_count": 33,
   "id": "fff85863",
   "metadata": {},
   "outputs": [
    {
     "data": {
      "text/plain": [
       "[2, 3, 20, 3, 4, 5]"
      ]
     },
     "execution_count": 33,
     "metadata": {},
     "output_type": "execute_result"
    }
   ],
   "source": [
    "l1.remove(10) # 값이 다수인 경우 첫번째 값만 삭제\n",
    "l1"
   ]
  },
  {
   "cell_type": "code",
   "execution_count": 34,
   "id": "0b7140eb",
   "metadata": {},
   "outputs": [
    {
     "data": {
      "text/plain": [
       "0"
      ]
     },
     "execution_count": 34,
     "metadata": {},
     "output_type": "execute_result"
    }
   ],
   "source": [
    "l1.count(10) # 값이 10인 원소가 몇개인지"
   ]
  },
  {
   "cell_type": "code",
   "execution_count": 35,
   "id": "044def14",
   "metadata": {},
   "outputs": [
    {
     "data": {
      "text/plain": [
       "[]"
      ]
     },
     "execution_count": 35,
     "metadata": {},
     "output_type": "execute_result"
    }
   ],
   "source": [
    "l1.clear() # 모든원소 삭제\n",
    "l1"
   ]
  },
  {
   "cell_type": "markdown",
   "id": "cef8dc80",
   "metadata": {},
   "source": [
    "# 튜플(Tuple)\n",
    "- 리스트 처럼 순서가 있는 자료구조\n",
    "    - index (양수, 음수)로 원소를 관리\n",
    "    - 원소 변경 불가능 (추가, 삭제, 변경)"
   ]
  },
  {
   "cell_type": "code",
   "execution_count": 36,
   "id": "7fcacd71",
   "metadata": {},
   "outputs": [],
   "source": [
    "t1 = (1, 2, 3, 4, 5)\n",
    "t2 = 10, 20, 30, 40, 50 # 괄호 생략 가능"
   ]
  },
  {
   "cell_type": "code",
   "execution_count": 37,
   "id": "8400c288",
   "metadata": {},
   "outputs": [
    {
     "data": {
      "text/plain": [
       "(1, 2, 3, 4, 5)"
      ]
     },
     "execution_count": 37,
     "metadata": {},
     "output_type": "execute_result"
    }
   ],
   "source": [
    "t1"
   ]
  },
  {
   "cell_type": "code",
   "execution_count": 38,
   "id": "d8abac07",
   "metadata": {},
   "outputs": [
    {
     "data": {
      "text/plain": [
       "(10, 20, 30, 40, 50)"
      ]
     },
     "execution_count": 38,
     "metadata": {},
     "output_type": "execute_result"
    }
   ],
   "source": [
    "t2"
   ]
  },
  {
   "cell_type": "code",
   "execution_count": 39,
   "id": "cbb19b31",
   "metadata": {},
   "outputs": [
    {
     "data": {
      "text/plain": [
       "(10, '가', True)"
      ]
     },
     "execution_count": 39,
     "metadata": {},
     "output_type": "execute_result"
    }
   ],
   "source": [
    "t3 = 10, '가', True\n",
    "t3"
   ]
  },
  {
   "cell_type": "code",
   "execution_count": 40,
   "id": "ab589bcd",
   "metadata": {},
   "outputs": [
    {
     "data": {
      "text/plain": [
       "(100, int, tuple)"
      ]
     },
     "execution_count": 40,
     "metadata": {},
     "output_type": "execute_result"
    }
   ],
   "source": [
    "t4 = (100) # t4 변수로 인식\n",
    "t4, type(t4), type(t3)"
   ]
  },
  {
   "cell_type": "code",
   "execution_count": 41,
   "id": "1b87774e",
   "metadata": {},
   "outputs": [
    {
     "name": "stdout",
     "output_type": "stream",
     "text": [
      "(100,) (100,)\n",
      "<class 'tuple'> <class 'tuple'>\n"
     ]
    }
   ],
   "source": [
    "t5 =100, # 원소가 하나인 경우 뒤에 ,를 붙인다.\n",
    "t6 = 100,\n",
    "print(t5, t6)\n",
    "print(type(t5),type(t6))"
   ]
  },
  {
   "cell_type": "markdown",
   "id": "e2760827",
   "metadata": {},
   "source": [
    "## 튜플대입"
   ]
  },
  {
   "cell_type": "code",
   "execution_count": 42,
   "id": "dfd78e65",
   "metadata": {},
   "outputs": [
    {
     "name": "stdout",
     "output_type": "stream",
     "text": [
      "홍길동 30 서울\n"
     ]
    }
   ],
   "source": [
    "name, age, address = ('홍길동', 30, '서울')  #튜플 대입\n",
    "print(name, age, address)\n",
    "# name, age, address = ['홍길동', 30, '서울']  #리스트 대입"
   ]
  },
  {
   "cell_type": "code",
   "execution_count": 43,
   "id": "9ba4d20e",
   "metadata": {},
   "outputs": [
    {
     "name": "stdout",
     "output_type": "stream",
     "text": [
      "홍길동1 32 서울1\n"
     ]
    }
   ],
   "source": [
    "name, age, address = '홍길동1', 32, '서울1' #튜플 대입\n",
    "print(name, age, address)"
   ]
  },
  {
   "cell_type": "markdown",
   "id": "11fbf4f6",
   "metadata": {},
   "source": [
    "### indexing, slicing\n",
    "    - 조회만 가능 (원소 변경 불가)"
   ]
  },
  {
   "cell_type": "code",
   "execution_count": 44,
   "id": "0bac3b90",
   "metadata": {},
   "outputs": [
    {
     "data": {
      "text/plain": [
       "(100, 20, 1)"
      ]
     },
     "execution_count": 44,
     "metadata": {},
     "output_type": "execute_result"
    }
   ],
   "source": [
    "t7 = 100, 4, 8,20 , 20, 1, 8\n",
    "t7[0], t7[3], t7[5]"
   ]
  },
  {
   "cell_type": "code",
   "execution_count": 45,
   "id": "8ef08ccf",
   "metadata": {},
   "outputs": [
    {
     "data": {
      "text/plain": [
       "(100, 8, 20, 8)"
      ]
     },
     "execution_count": 45,
     "metadata": {},
     "output_type": "execute_result"
    }
   ],
   "source": [
    "t7[::2]"
   ]
  },
  {
   "cell_type": "code",
   "execution_count": 46,
   "id": "e9703f09",
   "metadata": {},
   "outputs": [
    {
     "data": {
      "text/plain": [
       "(8, 1, 20, 20, 8, 4, 100)"
      ]
     },
     "execution_count": 46,
     "metadata": {},
     "output_type": "execute_result"
    }
   ],
   "source": [
    "t7[::-1]"
   ]
  },
  {
   "cell_type": "markdown",
   "id": "b30aa8a4",
   "metadata": {},
   "source": [
    "## 연산자"
   ]
  },
  {
   "cell_type": "code",
   "execution_count": 47,
   "id": "b64ecdab",
   "metadata": {},
   "outputs": [
    {
     "data": {
      "text/plain": [
       "False"
      ]
     },
     "execution_count": 47,
     "metadata": {},
     "output_type": "execute_result"
    }
   ],
   "source": [
    "10 in t7"
   ]
  },
  {
   "cell_type": "code",
   "execution_count": 48,
   "id": "769029e8",
   "metadata": {},
   "outputs": [
    {
     "data": {
      "text/plain": [
       "True"
      ]
     },
     "execution_count": 48,
     "metadata": {},
     "output_type": "execute_result"
    }
   ],
   "source": [
    "10 not in t7"
   ]
  },
  {
   "cell_type": "code",
   "execution_count": 49,
   "id": "e8f518f8",
   "metadata": {},
   "outputs": [
    {
     "data": {
      "text/plain": [
       "(1, 2, 3, 4, 5, 10, 20, 30, 40, 50)"
      ]
     },
     "execution_count": 49,
     "metadata": {},
     "output_type": "execute_result"
    }
   ],
   "source": [
    "t1 + t2"
   ]
  },
  {
   "cell_type": "code",
   "execution_count": 50,
   "id": "b131b8a9",
   "metadata": {},
   "outputs": [
    {
     "data": {
      "text/plain": [
       "(1, 2, 3, 4, 5, 1, 2, 3, 4, 5)"
      ]
     },
     "execution_count": 50,
     "metadata": {},
     "output_type": "execute_result"
    }
   ],
   "source": [
    "t1 * 2"
   ]
  },
  {
   "cell_type": "code",
   "execution_count": 51,
   "id": "71c87a7b",
   "metadata": {},
   "outputs": [
    {
     "data": {
      "text/plain": [
       "(100, 4, 8, 20, 20, 1, 8)"
      ]
     },
     "execution_count": 51,
     "metadata": {},
     "output_type": "execute_result"
    }
   ],
   "source": [
    "t7"
   ]
  },
  {
   "cell_type": "code",
   "execution_count": 52,
   "id": "5fe2d984",
   "metadata": {},
   "outputs": [
    {
     "data": {
      "text/plain": [
       "[1, 4, 8, 8, 20, 20, 100]"
      ]
     },
     "execution_count": 52,
     "metadata": {},
     "output_type": "execute_result"
    }
   ],
   "source": [
    "# 튜플 자체는 정렬 불가\n",
    "sorted_t7 = sorted(t7) # 정렬된 새로운 리스트를 만들 수는 있음\n",
    "sorted_t7"
   ]
  },
  {
   "cell_type": "code",
   "execution_count": 53,
   "id": "edaa39e2",
   "metadata": {},
   "outputs": [
    {
     "data": {
      "text/plain": [
       "(100, 4, 8, 20, 20, 1, 8)"
      ]
     },
     "execution_count": 53,
     "metadata": {},
     "output_type": "execute_result"
    }
   ],
   "source": [
    "t7"
   ]
  },
  {
   "cell_type": "markdown",
   "id": "00fed19f",
   "metadata": {},
   "source": [
    "# 딕셔너리\n",
    "- 값을 key:value 쌍(pair)으로 모아서 관리하는 자료구조"
   ]
  },
  {
   "cell_type": "code",
   "execution_count": 54,
   "id": "1dc9843c",
   "metadata": {},
   "outputs": [
    {
     "data": {
      "text/plain": [
       "{'name': '홍길동', 'age': 20, 'address': '서울'}"
      ]
     },
     "execution_count": 54,
     "metadata": {},
     "output_type": "execute_result"
    }
   ],
   "source": [
    "# 생성\n",
    "person1 = {'name':'홍길동', 'age':20, 'address': '서울'}\n",
    "person2 = {'age':30, 'name':'이순신', 'address': '서울'}\n",
    "person1"
   ]
  },
  {
   "cell_type": "code",
   "execution_count": 55,
   "id": "2222f62d",
   "metadata": {},
   "outputs": [
    {
     "name": "stdout",
     "output_type": "stream",
     "text": [
      "홍길동 이순신\n",
      "20 30\n"
     ]
    }
   ],
   "source": [
    "# 값 조회\n",
    "print(person1['name'], person2['name'])\n",
    "print(person1['age'], person2['age'])"
   ]
  },
  {
   "cell_type": "code",
   "execution_count": 56,
   "id": "b1e4d74b",
   "metadata": {},
   "outputs": [
    {
     "data": {
      "text/plain": [
       "{'name': '박철웅', 'age': 20, 'address': '서울'}"
      ]
     },
     "execution_count": 56,
     "metadata": {},
     "output_type": "execute_result"
    }
   ],
   "source": [
    "# 값 변경\n",
    "person1['name'] = '박철웅' # 있는 key에 값을 대입하면 변경됨\n",
    "person1"
   ]
  },
  {
   "cell_type": "code",
   "execution_count": 57,
   "id": "47c56dd6",
   "metadata": {},
   "outputs": [
    {
     "data": {
      "text/plain": [
       "{'name': '박철웅', 'age': 20, 'address': '서울', 'tel': '010-111-2222'}"
      ]
     },
     "execution_count": 57,
     "metadata": {},
     "output_type": "execute_result"
    }
   ],
   "source": [
    "person1['tel'] = '010-111-2222' # 없는 key에 값을 대입하면 추가가 됨\n",
    "person1"
   ]
  },
  {
   "cell_type": "code",
   "execution_count": 58,
   "id": "a72bd8ee",
   "metadata": {},
   "outputs": [
    {
     "ename": "KeyError",
     "evalue": "'email'",
     "output_type": "error",
     "traceback": [
      "\u001b[1;31m---------------------------------------------------------------------------\u001b[0m",
      "\u001b[1;31mKeyError\u001b[0m                                  Traceback (most recent call last)",
      "\u001b[1;32m~\\AppData\\Local\\Temp/ipykernel_3056/3633703671.py\u001b[0m in \u001b[0;36m<module>\u001b[1;34m\u001b[0m\n\u001b[1;32m----> 1\u001b[1;33m \u001b[0mperson1\u001b[0m\u001b[1;33m[\u001b[0m\u001b[1;34m'email'\u001b[0m\u001b[1;33m]\u001b[0m \u001b[1;31m# 없는 키로 조회 시 KeyError 발생\u001b[0m\u001b[1;33m\u001b[0m\u001b[1;33m\u001b[0m\u001b[0m\n\u001b[0m",
      "\u001b[1;31mKeyError\u001b[0m: 'email'"
     ]
    }
   ],
   "source": [
    "person1['email'] # 없는 키로 조회 시 KeyError 발생"
   ]
  },
  {
   "cell_type": "code",
   "execution_count": 59,
   "id": "289a949c",
   "metadata": {},
   "outputs": [
    {
     "name": "stdout",
     "output_type": "stream",
     "text": [
      "30\n",
      "None\n",
      "없음\n"
     ]
    }
   ],
   "source": [
    "# dictionary.get('key') : key 조회\n",
    "v = person2.get('age')\n",
    "print(v)\n",
    "# 없는 키값으로 조회하면 None(기본값). None대신 반환할 기본 값 설정 가능\n",
    "w = person2.get('email')\n",
    "print(w)\n",
    "x = person2.get('email', '없음')\n",
    "print(x)"
   ]
  },
  {
   "cell_type": "code",
   "execution_count": 60,
   "id": "4d3066d4",
   "metadata": {},
   "outputs": [
    {
     "data": {
      "text/plain": [
       "(4, 3)"
      ]
     },
     "execution_count": 60,
     "metadata": {},
     "output_type": "execute_result"
    }
   ],
   "source": [
    "len(person1), len(person2)"
   ]
  },
  {
   "cell_type": "code",
   "execution_count": 61,
   "id": "ad67bd3c",
   "metadata": {},
   "outputs": [
    {
     "data": {
      "text/plain": [
       "False"
      ]
     },
     "execution_count": 61,
     "metadata": {},
     "output_type": "execute_result"
    }
   ],
   "source": [
    "'박철웅' in person1"
   ]
  },
  {
   "cell_type": "code",
   "execution_count": 62,
   "id": "83ef2539",
   "metadata": {},
   "outputs": [
    {
     "data": {
      "text/plain": [
       "True"
      ]
     },
     "execution_count": 62,
     "metadata": {},
     "output_type": "execute_result"
    }
   ],
   "source": [
    "'name' in person1"
   ]
  },
  {
   "cell_type": "markdown",
   "id": "f3b28645",
   "metadata": {},
   "source": [
    "## 주요 메소드\n",
    "    - pop(Key) : Key 와 연결된 값을 반환하면서 삭제. Key가 없으면 KeyError 발생\n",
    "    - clear() : 모든 원소 삭제\n",
    "    - del dict[Key] : 특정 Key의 값을 삭제\n",
    "    - get(Key, 기본값) : 키와 연결된 값을 반환한다. 단 찾는 키의 값이 없을 경우 기본값을 반환.기본값 생략 시 Key의 값이 없으면 None 반환\n",
    "    - items() :  Key와 Value를 튜플로 묶어 리턴\n",
    "    - keys() : Key값들만 모아서 리턴\n",
    "    - values() : Value들만 모아서 리턴"
   ]
  },
  {
   "cell_type": "code",
   "execution_count": 63,
   "id": "887aa7aa",
   "metadata": {},
   "outputs": [
    {
     "data": {
      "text/plain": [
       "'박철웅'"
      ]
     },
     "execution_count": 63,
     "metadata": {},
     "output_type": "execute_result"
    }
   ],
   "source": [
    "person1.pop('name')"
   ]
  },
  {
   "cell_type": "code",
   "execution_count": 64,
   "id": "f9f4aca0",
   "metadata": {},
   "outputs": [
    {
     "data": {
      "text/plain": [
       "{'age': 20, 'address': '서울', 'tel': '010-111-2222'}"
      ]
     },
     "execution_count": 64,
     "metadata": {},
     "output_type": "execute_result"
    }
   ],
   "source": [
    "person1"
   ]
  },
  {
   "cell_type": "code",
   "execution_count": 65,
   "id": "3f908e5e",
   "metadata": {},
   "outputs": [
    {
     "data": {
      "text/plain": [
       "{'address': '서울', 'tel': '010-111-2222'}"
      ]
     },
     "execution_count": 65,
     "metadata": {},
     "output_type": "execute_result"
    }
   ],
   "source": [
    "del person1['age']\n",
    "person1"
   ]
  },
  {
   "cell_type": "code",
   "execution_count": 66,
   "id": "be60fd66",
   "metadata": {},
   "outputs": [
    {
     "data": {
      "text/plain": [
       "dict_items([('address', '서울'), ('tel', '010-111-2222')])"
      ]
     },
     "execution_count": 66,
     "metadata": {},
     "output_type": "execute_result"
    }
   ],
   "source": [
    "person1.items()"
   ]
  },
  {
   "cell_type": "code",
   "execution_count": 67,
   "id": "f27d815c",
   "metadata": {},
   "outputs": [
    {
     "data": {
      "text/plain": [
       "dict_keys(['address', 'tel'])"
      ]
     },
     "execution_count": 67,
     "metadata": {},
     "output_type": "execute_result"
    }
   ],
   "source": [
    "person1.keys()"
   ]
  },
  {
   "cell_type": "code",
   "execution_count": 68,
   "id": "b9f270e3",
   "metadata": {},
   "outputs": [
    {
     "data": {
      "text/plain": [
       "dict_values(['서울', '010-111-2222'])"
      ]
     },
     "execution_count": 68,
     "metadata": {},
     "output_type": "execute_result"
    }
   ],
   "source": [
    "person1.values()"
   ]
  },
  {
   "cell_type": "markdown",
   "id": "af29c9b0",
   "metadata": {},
   "source": [
    "# 집합(Set)\n",
    "    - 중복을 허용하지 않는 자료구조\n",
    "    - indexing과 slicing 미지원"
   ]
  },
  {
   "cell_type": "code",
   "execution_count": 69,
   "id": "7ca38818",
   "metadata": {},
   "outputs": [
    {
     "data": {
      "text/plain": [
       "{1, 2, 3, False, 'a'}"
      ]
     },
     "execution_count": 69,
     "metadata": {},
     "output_type": "execute_result"
    }
   ],
   "source": [
    "s1 = {1, 1, 1, 2, 2, 2, 3, 3, 3, 'a', 'a', 'a', True, True, True, False, False, False}\n",
    "s1 "
   ]
  },
  {
   "cell_type": "code",
   "execution_count": 70,
   "id": "bc56cd05",
   "metadata": {},
   "outputs": [
    {
     "name": "stdout",
     "output_type": "stream",
     "text": [
      "{1}\n",
      "{0}\n"
     ]
    }
   ],
   "source": [
    "# 1,True 같이 있거나 와 0, False 있는 경우 1, 0 으로 취급\n",
    "s2 = {1, True}\n",
    "s3 = {0, False}\n",
    "print(s2)\n",
    "print(s3)"
   ]
  },
  {
   "cell_type": "code",
   "execution_count": 71,
   "id": "8a8bff93",
   "metadata": {},
   "outputs": [
    {
     "ename": "TypeError",
     "evalue": "'set' object is not subscriptable",
     "output_type": "error",
     "traceback": [
      "\u001b[1;31m---------------------------------------------------------------------------\u001b[0m",
      "\u001b[1;31mTypeError\u001b[0m                                 Traceback (most recent call last)",
      "\u001b[1;32m~\\AppData\\Local\\Temp/ipykernel_3056/3609388023.py\u001b[0m in \u001b[0;36m<module>\u001b[1;34m\u001b[0m\n\u001b[1;32m----> 1\u001b[1;33m \u001b[0ms1\u001b[0m\u001b[1;33m[\u001b[0m\u001b[1;36m0\u001b[0m\u001b[1;33m]\u001b[0m \u001b[1;31m# set는 원소 하나를 조회하는 것이 불가 => 반복문 이용\u001b[0m\u001b[1;33m\u001b[0m\u001b[1;33m\u001b[0m\u001b[0m\n\u001b[0m",
      "\u001b[1;31mTypeError\u001b[0m: 'set' object is not subscriptable"
     ]
    }
   ],
   "source": [
    "s1[0] # set는 원소 하나를 조회하는 것이 불가 => 반복문 이용"
   ]
  },
  {
   "cell_type": "markdown",
   "id": "ff91d3e3",
   "metadata": {},
   "source": [
    "## 연산자\n",
    "    - 합집합\n",
    "        ▪ 집합 | 집합\n",
    "        ▪ 집합.union(집합)\n",
    "    - 교집합\n",
    "        ▪ 집합 & 집합\n",
    "        ▪ 집합. intersection(집합)\n",
    "    -  차 집합\n",
    "        ▪ 집합 – 집합\n",
    "        ▪ 집합.difference(집합)"
   ]
  },
  {
   "cell_type": "code",
   "execution_count": 72,
   "id": "dabde85a",
   "metadata": {},
   "outputs": [
    {
     "data": {
      "text/plain": [
       "True"
      ]
     },
     "execution_count": 72,
     "metadata": {},
     "output_type": "execute_result"
    }
   ],
   "source": [
    "1 in s1"
   ]
  },
  {
   "cell_type": "code",
   "execution_count": 73,
   "id": "3b639af0",
   "metadata": {},
   "outputs": [
    {
     "data": {
      "text/plain": [
       "False"
      ]
     },
     "execution_count": 73,
     "metadata": {},
     "output_type": "execute_result"
    }
   ],
   "source": [
    "1 not in s1"
   ]
  },
  {
   "cell_type": "code",
   "execution_count": 74,
   "id": "79c29d09",
   "metadata": {},
   "outputs": [
    {
     "name": "stdout",
     "output_type": "stream",
     "text": [
      "{1, 2, 3, 4, 5}\n",
      "{1, 2, 3, 4, 5}\n"
     ]
    }
   ],
   "source": [
    "s1 = {1, 2, 3}\n",
    "s2 = {3, 4, 5}\n",
    "\n",
    "# 합집합\n",
    "s3 = s1 | s2 \n",
    "s4 = s1.union(s2)\n",
    "print(s3)\n",
    "print(s4)"
   ]
  },
  {
   "cell_type": "code",
   "execution_count": 75,
   "id": "a6c541b1",
   "metadata": {},
   "outputs": [
    {
     "name": "stdout",
     "output_type": "stream",
     "text": [
      "{3} {3}\n"
     ]
    }
   ],
   "source": [
    "# 교집합\n",
    "s5 = s1 & s2\n",
    "s6 = s1.intersection(s2)\n",
    "print(s5, s6)"
   ]
  },
  {
   "cell_type": "code",
   "execution_count": 76,
   "id": "a88eb8f9",
   "metadata": {},
   "outputs": [
    {
     "name": "stdout",
     "output_type": "stream",
     "text": [
      "{1, 2} {1, 2}\n"
     ]
    }
   ],
   "source": [
    "# 차집합\n",
    "s7 = s1 - s2\n",
    "s8 = s1.difference(s2)\n",
    "print(s7, s8)"
   ]
  },
  {
   "cell_type": "markdown",
   "id": "f0ab14eb",
   "metadata": {},
   "source": [
    "### 메소드\n",
    "    - len(): Set의 원소 개수 조회\n",
    "    - add(값) : 집합에 요소 추가\n",
    "    - update(자료구조) : 한번에 여러 개의 요소를 추가\n",
    "    – pop() : 값을 하나씩 반환하며 제거\n",
    "    – remove(값) : 값 삭제 (값이 set내에 없으면 KeyError 발생)"
   ]
  },
  {
   "cell_type": "code",
   "execution_count": 77,
   "id": "17b21fe6",
   "metadata": {},
   "outputs": [
    {
     "name": "stdout",
     "output_type": "stream",
     "text": [
      "{1, 2, 3, 4, 5, 10}\n"
     ]
    },
    {
     "data": {
      "text/plain": [
       "{1, 2, 3, 4, 5, 10}"
      ]
     },
     "execution_count": 77,
     "metadata": {},
     "output_type": "execute_result"
    }
   ],
   "source": [
    "# 추가\n",
    "s3.add(10)\n",
    "print(s3)\n",
    "s3.add(10) # 있는 값을 추가해도 중복이 안됨\n",
    "s3"
   ]
  },
  {
   "cell_type": "code",
   "execution_count": 78,
   "id": "83744eaa",
   "metadata": {},
   "outputs": [
    {
     "data": {
      "text/plain": [
       "{1, 2, 3, 4, 5, 10, 100, 200, 300, 400}"
      ]
     },
     "execution_count": 78,
     "metadata": {},
     "output_type": "execute_result"
    }
   ],
   "source": [
    "s3.update([1, 2, 3, 100, 200, 300, 400])\n",
    "s3"
   ]
  },
  {
   "cell_type": "code",
   "execution_count": 79,
   "id": "37df762f",
   "metadata": {},
   "outputs": [
    {
     "name": "stdout",
     "output_type": "stream",
     "text": [
      "1\n"
     ]
    },
    {
     "data": {
      "text/plain": [
       "{2, 3, 4, 5, 10, 100, 200, 300, 400}"
      ]
     },
     "execution_count": 79,
     "metadata": {},
     "output_type": "execute_result"
    }
   ],
   "source": [
    "v = s3.pop()\n",
    "print(v)\n",
    "s3"
   ]
  },
  {
   "cell_type": "code",
   "execution_count": 80,
   "id": "7c211ce1",
   "metadata": {},
   "outputs": [
    {
     "data": {
      "text/plain": [
       "{2, 3, 4, 10, 100, 200, 300, 400}"
      ]
     },
     "execution_count": 80,
     "metadata": {},
     "output_type": "execute_result"
    }
   ],
   "source": [
    "s3.remove(5) # s3 내 원소 중 5 삭제\n",
    "s3"
   ]
  },
  {
   "cell_type": "code",
   "execution_count": 81,
   "id": "fcb06b12",
   "metadata": {},
   "outputs": [
    {
     "ename": "KeyError",
     "evalue": "'가'",
     "output_type": "error",
     "traceback": [
      "\u001b[1;31m---------------------------------------------------------------------------\u001b[0m",
      "\u001b[1;31mKeyError\u001b[0m                                  Traceback (most recent call last)",
      "\u001b[1;32m~\\AppData\\Local\\Temp/ipykernel_3056/580976123.py\u001b[0m in \u001b[0;36m<module>\u001b[1;34m\u001b[0m\n\u001b[1;32m----> 1\u001b[1;33m \u001b[0ms3\u001b[0m\u001b[1;33m.\u001b[0m\u001b[0mremove\u001b[0m\u001b[1;33m(\u001b[0m\u001b[1;34m'가'\u001b[0m\u001b[1;33m)\u001b[0m \u001b[1;31m# 없는 값 삭제시 KeyError\u001b[0m\u001b[1;33m\u001b[0m\u001b[1;33m\u001b[0m\u001b[0m\n\u001b[0m",
      "\u001b[1;31mKeyError\u001b[0m: '가'"
     ]
    }
   ],
   "source": [
    "s3.remove('가') # 없는 값 삭제시 KeyError"
   ]
  },
  {
   "cell_type": "code",
   "execution_count": 82,
   "id": "a4fb1881",
   "metadata": {},
   "outputs": [
    {
     "data": {
      "text/plain": [
       "dict"
      ]
     },
     "execution_count": 82,
     "metadata": {},
     "output_type": "execute_result"
    }
   ],
   "source": [
    "var1 = [] # 빈 리스트\n",
    "var2 = {} # 빈 dictionary\n",
    "type(var2)"
   ]
  },
  {
   "cell_type": "markdown",
   "id": "295d285f",
   "metadata": {},
   "source": [
    "# 자료구조 변환 함수\n",
    "    - list(자료구조) : 자료구조를 List로 변환\n",
    "    - tuple(자료구조) : 자료구조를 Tuple로 변환\n",
    "    - set(자료구조) : 자료구조를 Set으로 변환\n",
    "    - Dictionary로 변환하는 함수는 없다. ∵ key값이 없기 때문\n",
    "    - 변경 대상 자료구조가 Dictionary인 경우 key값들만 모아서 변환\n",
    "        - value 값을 변환 할 경우 : dictionary.values()로 value 값 추출 후 변환"
   ]
  },
  {
   "cell_type": "code",
   "execution_count": 83,
   "id": "8b601a0e",
   "metadata": {},
   "outputs": [
    {
     "data": {
      "text/plain": [
       "([1, 2, 3, 10, 5, 10, 2], list)"
      ]
     },
     "execution_count": 83,
     "metadata": {},
     "output_type": "execute_result"
    }
   ],
   "source": [
    "t = 1, 2, 3, 10, 5, 10, 2\n",
    "l = list(t)\n",
    "l, type(l)"
   ]
  },
  {
   "cell_type": "code",
   "execution_count": 84,
   "id": "9cec60b0",
   "metadata": {},
   "outputs": [
    {
     "data": {
      "text/plain": [
       "({1, 2, 3, 5, 10}, set)"
      ]
     },
     "execution_count": 84,
     "metadata": {},
     "output_type": "execute_result"
    }
   ],
   "source": [
    "s = set(t)\n",
    "s, type(s)"
   ]
  },
  {
   "cell_type": "code",
   "execution_count": 85,
   "id": "ae487f4d",
   "metadata": {},
   "outputs": [
    {
     "data": {
      "text/plain": [
       "(1, 3, 10, 20, 11)"
      ]
     },
     "execution_count": 85,
     "metadata": {},
     "output_type": "execute_result"
    }
   ],
   "source": [
    "t1 = tuple([1, 3, 10, 20, 11]) # list -> tuple\n",
    "t1"
   ]
  },
  {
   "cell_type": "code",
   "execution_count": 86,
   "id": "dcbd87a4",
   "metadata": {},
   "outputs": [
    {
     "data": {
      "text/plain": [
       "{'a': 10, 'b': 20, 'c': 30}"
      ]
     },
     "execution_count": 86,
     "metadata": {},
     "output_type": "execute_result"
    }
   ],
   "source": [
    "d = {'a' :10, 'b': 20, 'c':30}\n",
    "d"
   ]
  },
  {
   "cell_type": "code",
   "execution_count": 87,
   "id": "7a0c1ee9",
   "metadata": {},
   "outputs": [
    {
     "data": {
      "text/plain": [
       "{'a', 'b', 'c'}"
      ]
     },
     "execution_count": 87,
     "metadata": {},
     "output_type": "execute_result"
    }
   ],
   "source": [
    "set(d) # dict -> set"
   ]
  },
  {
   "cell_type": "code",
   "execution_count": 88,
   "id": "b7cb301e",
   "metadata": {},
   "outputs": [
    {
     "data": {
      "text/plain": [
       "['a', 'b', 'c']"
      ]
     },
     "execution_count": 88,
     "metadata": {},
     "output_type": "execute_result"
    }
   ],
   "source": [
    "list(d) # dict -> list"
   ]
  },
  {
   "cell_type": "code",
   "execution_count": 89,
   "id": "6af2591e",
   "metadata": {},
   "outputs": [
    {
     "data": {
      "text/plain": [
       "('a', 'b', 'c')"
      ]
     },
     "execution_count": 89,
     "metadata": {},
     "output_type": "execute_result"
    }
   ],
   "source": [
    "tuple(d) # dict -> tuple"
   ]
  },
  {
   "cell_type": "code",
   "execution_count": 90,
   "id": "37ac764c",
   "metadata": {},
   "outputs": [
    {
     "data": {
      "text/plain": [
       "{'name': '홍길동', 'age': 20, 'address': '부산'}"
      ]
     },
     "execution_count": 90,
     "metadata": {},
     "output_type": "execute_result"
    }
   ],
   "source": [
    "# dict(key = value, key = value) dictionary를 만들도록 도와주는 함수\n",
    "d1 = dict(name = '홍길동', age = 20, address = '부산')\n",
    "d1"
   ]
  },
  {
   "cell_type": "code",
   "execution_count": null,
   "id": "d43d3e27",
   "metadata": {},
   "outputs": [],
   "source": []
  },
  {
   "cell_type": "markdown",
   "id": "0242c155",
   "metadata": {},
   "source": [
    "# 예제"
   ]
  },
  {
   "cell_type": "code",
   "execution_count": 91,
   "id": "c0525436",
   "metadata": {},
   "outputs": [],
   "source": [
    "jumsu = [100, 90, 100, 80, 70, 100, 80, 90, 95, 85] \n",
    "\n",
    "# 위는 학생번호 1번 ~ 10번까지 10명의 시험 점수이다. (문제 1 ~ 7)"
   ]
  },
  {
   "cell_type": "code",
   "execution_count": 92,
   "id": "f3ac71ee",
   "metadata": {},
   "outputs": [
    {
     "data": {
      "text/plain": [
       "80"
      ]
     },
     "execution_count": 92,
     "metadata": {},
     "output_type": "execute_result"
    }
   ],
   "source": [
    "#(1)  7번의 점수를 출력하세요 \n",
    "jumsu[6]"
   ]
  },
  {
   "cell_type": "code",
   "execution_count": 93,
   "id": "674931b6",
   "metadata": {},
   "outputs": [
    {
     "data": {
      "text/plain": [
       "[100, 90, 100, 80, 70]"
      ]
     },
     "execution_count": 93,
     "metadata": {},
     "output_type": "execute_result"
    }
   ],
   "source": [
    "#(2)  1번부터 5번까지의 점수를 출력하세요.\n",
    "jumsu[:5]"
   ]
  },
  {
   "cell_type": "code",
   "execution_count": 94,
   "id": "5c5a5045",
   "metadata": {},
   "outputs": [
    {
     "data": {
      "text/plain": [
       "[80, 70, 100, 80]"
      ]
     },
     "execution_count": 94,
     "metadata": {},
     "output_type": "execute_result"
    }
   ],
   "source": [
    "#(3)  4, 5, 6, 7번의 점수를 출력하세요.\n",
    "jumsu[3:7]"
   ]
  },
  {
   "cell_type": "code",
   "execution_count": 95,
   "id": "fc0ab76b",
   "metadata": {},
   "outputs": [
    {
     "data": {
      "text/plain": [
       "[90, 80, 100, 90, 85]"
      ]
     },
     "execution_count": 95,
     "metadata": {},
     "output_type": "execute_result"
    }
   ],
   "source": [
    "#(4) 짝수번째 점수를 출력하세요.\n",
    "jumsu[::2] # index가 짝수인 값\n",
    "jumsu[1::2]"
   ]
  },
  {
   "cell_type": "code",
   "execution_count": 96,
   "id": "a2c3567c",
   "metadata": {},
   "outputs": [
    {
     "data": {
      "text/plain": [
       "[100, 100, 70, 80, 95]"
      ]
     },
     "execution_count": 96,
     "metadata": {},
     "output_type": "execute_result"
    }
   ],
   "source": [
    "#(5) 홀수번째 점수를 출력하세요.\n",
    "jumsu[::2]"
   ]
  },
  {
   "cell_type": "code",
   "execution_count": 97,
   "id": "4876c509",
   "metadata": {},
   "outputs": [
    {
     "data": {
      "text/plain": [
       "[100, 90, 100, 80, 70, 100, 80, 90, 20, 85]"
      ]
     },
     "execution_count": 97,
     "metadata": {},
     "output_type": "execute_result"
    }
   ],
   "source": [
    "#(6) 9번의 점수를 20으로 변경하고 전체 출력하세요.\n",
    "jumsu[8] = 20 #jumsu[-2]\n",
    "jumsu"
   ]
  },
  {
   "cell_type": "code",
   "execution_count": 98,
   "id": "c328e39e",
   "metadata": {},
   "outputs": [
    {
     "name": "stdout",
     "output_type": "stream",
     "text": [
      "{100, 70, 80, 20, 85, 90}\n",
      "[100, 70, 80, 20, 85, 90]\n"
     ]
    }
   ],
   "source": [
    "#(7) 중복된 점수는 제거하고 하나씩만 나오도록 출력하세요.\n",
    "jumsu2 = set(jumsu)\n",
    "unique_jumsu = list(jumsu2)\n",
    "print(jumsu2)\n",
    "print(unique_jumsu)"
   ]
  },
  {
   "cell_type": "code",
   "execution_count": 99,
   "id": "dabe2482",
   "metadata": {},
   "outputs": [],
   "source": [
    "# 문제 8 ~ 9\n",
    "fruits = [\"복숭아\", \"수박\", \"딸기\"]"
   ]
  },
  {
   "cell_type": "code",
   "execution_count": 100,
   "id": "5dd702fa",
   "metadata": {},
   "outputs": [
    {
     "data": {
      "text/plain": [
       "['복숭아', '수박', '딸기', '사과', '귤']"
      ]
     },
     "execution_count": 100,
     "metadata": {},
     "output_type": "execute_result"
    }
   ],
   "source": [
    "#(8) fruits 리스트에 마지막 원소로 \"사과\", \"귤\"을 추가하세요.\n",
    "\n",
    "# fruits.append(\"사과\"), fruits.append(\"귤\") 하나 씩 추가\n",
    "fruits.extend(['사과', '귤'])\n",
    "fruits"
   ]
  },
  {
   "cell_type": "code",
   "execution_count": 101,
   "id": "c66bab8c",
   "metadata": {},
   "outputs": [
    {
     "data": {
      "text/plain": [
       "['수박', '딸기', '사과', '귤']"
      ]
     },
     "execution_count": 101,
     "metadata": {},
     "output_type": "execute_result"
    }
   ],
   "source": [
    "#(9) fruits 리스트에서 \"복숭아\"를 제거하세요.\n",
    "\n",
    "# del fruits[0] : index를 이용한 삭제\n",
    "fruits.remove(\"복숭아\")\n",
    "fruits"
   ]
  },
  {
   "cell_type": "code",
   "execution_count": 102,
   "id": "9e93fba2",
   "metadata": {},
   "outputs": [],
   "source": [
    "#문제 10 ~ 15\n",
    "#(10)본인의 이름, 나이, email주소, 취미, 결혼유무를 사전(딕셔너리)으로 생성. \n",
    "# 취미는 2개 이상의 값을 넣는다..\n",
    "\n",
    "#d = dict(이름 = '김민성', 나이 = 31, email = \"a@a.com\", 취미 = ['영화감상', '게임'], 결혼유무 = '미혼')\n",
    "\n",
    "d = {\n",
    "    '이름':'홍길동',\n",
    "    '나이':20,\n",
    "    'email':'a@b.com',\n",
    "    '취미':['영화감상', '게임'],\n",
    "    '결혼유무': '미혼'\n",
    "}"
   ]
  },
  {
   "cell_type": "code",
   "execution_count": 103,
   "id": "cc46bd69",
   "metadata": {},
   "outputs": [
    {
     "data": {
      "text/plain": [
       "('홍길동', 'a@b.com')"
      ]
     },
     "execution_count": 103,
     "metadata": {},
     "output_type": "execute_result"
    }
   ],
   "source": [
    "#(11) 위 딕셔너리에서 이름과 email주소를 조회해서 출력하세요.\n",
    "d['이름'], d['email']"
   ]
  },
  {
   "cell_type": "code",
   "execution_count": 104,
   "id": "bbf3e7fd",
   "metadata": {},
   "outputs": [
    {
     "data": {
      "text/plain": [
       "'게임'"
      ]
     },
     "execution_count": 104,
     "metadata": {},
     "output_type": "execute_result"
    }
   ],
   "source": [
    "#(12) 위 딕셔너리에서 취미중 두번째 취미를 조회해서 출력하세요.\n",
    "d['취미'][1]"
   ]
  },
  {
   "cell_type": "code",
   "execution_count": 105,
   "id": "96380e5e",
   "metadata": {},
   "outputs": [
    {
     "data": {
      "text/plain": [
       "{'이름': '홍길동',\n",
       " '나이': 20,\n",
       " 'email': 'a@b.com',\n",
       " '취미': ['영화감상', '게임'],\n",
       " '결혼유무': '미혼',\n",
       " '체중': 75,\n",
       " '키': 180}"
      ]
     },
     "execution_count": 105,
     "metadata": {},
     "output_type": "execute_result"
    }
   ],
   "source": [
    "#(13) 위 딕셔너리에 몸무게와 키 항목을 추가하세요.\n",
    "d['체중'] = 75\n",
    "d['키'] = 180\n",
    "d"
   ]
  },
  {
   "cell_type": "code",
   "execution_count": 106,
   "id": "85633d0f",
   "metadata": {},
   "outputs": [
    {
     "data": {
      "text/plain": [
       "{'이름': '홍길동',\n",
       " 'email': 'a@b.com',\n",
       " '취미': ['영화감상', '게임'],\n",
       " '결혼유무': '미혼',\n",
       " '체중': 75,\n",
       " '키': 180}"
      ]
     },
     "execution_count": 106,
     "metadata": {},
     "output_type": "execute_result"
    }
   ],
   "source": [
    "#(14) 위 딕셔너리에서 나이를 제거하세요.\n",
    "del d['나이']\n",
    "d"
   ]
  },
  {
   "cell_type": "code",
   "execution_count": 107,
   "id": "c0e2c5b3",
   "metadata": {},
   "outputs": [
    {
     "data": {
      "text/plain": [
       "{'이름': '홍길동',\n",
       " 'email': 'b@b.com',\n",
       " '취미': ['영화감상', '게임'],\n",
       " '결혼유무': '미혼',\n",
       " '체중': 75,\n",
       " '키': 180}"
      ]
     },
     "execution_count": 107,
     "metadata": {},
     "output_type": "execute_result"
    }
   ],
   "source": [
    "#(15) 위 딕셔너리에서 email 주소를 다른 값으로 변경하세요.\n",
    "d['email'] = 'b@b.com'\n",
    "d"
   ]
  }
 ],
 "metadata": {
  "kernelspec": {
   "display_name": "Python 3 (ipykernel)",
   "language": "python",
   "name": "python3"
  },
  "language_info": {
   "codemirror_mode": {
    "name": "ipython",
    "version": 3
   },
   "file_extension": ".py",
   "mimetype": "text/x-python",
   "name": "python",
   "nbconvert_exporter": "python",
   "pygments_lexer": "ipython3",
   "version": "3.9.7"
  }
 },
 "nbformat": 4,
 "nbformat_minor": 5
}

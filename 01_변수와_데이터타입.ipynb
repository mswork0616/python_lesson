{
 "cells": [
  {
   "cell_type": "markdown",
   "id": "5cec0c1b",
   "metadata": {},
   "source": [
    "# 변수\n",
    "    – 데이터를 담는 메모리 공간     \n",
    "    – 값의 의미를 나타내는 이름"
   ]
  },
  {
   "cell_type": "markdown",
   "id": "724a709b",
   "metadata": {},
   "source": [
    "## 변수 선언 및 대입(할당) 구문\n",
    "    – 변수이름 = 값\n"
   ]
  },
  {
   "cell_type": "code",
   "execution_count": 1,
   "id": "f54f5978",
   "metadata": {},
   "outputs": [],
   "source": [
    "# 변수\n",
    "name = \"홍길동\" # \"홍길동\"이라는 값을 name이라는 변수에 대입.\n",
    "                # 이름이 name인 공간이 메모리에 없으면 새로 만들고 대입. 있으면 공간에 대입한다."
   ]
  },
  {
   "cell_type": "code",
   "execution_count": 2,
   "id": "b33d251d",
   "metadata": {},
   "outputs": [
    {
     "name": "stdout",
     "output_type": "stream",
     "text": [
      "홍길동\n"
     ]
    }
   ],
   "source": [
    "print(name) #print(값) : ()안의 값을 출력하는 함수"
   ]
  },
  {
   "cell_type": "code",
   "execution_count": 3,
   "id": "abf7c076",
   "metadata": {},
   "outputs": [],
   "source": [
    "age = 25"
   ]
  },
  {
   "cell_type": "code",
   "execution_count": 4,
   "id": "635fb7fe",
   "metadata": {},
   "outputs": [
    {
     "name": "stdout",
     "output_type": "stream",
     "text": [
      "25\n"
     ]
    }
   ],
   "source": [
    "print(age) # age 변수의 값을 출력"
   ]
  },
  {
   "cell_type": "code",
   "execution_count": 5,
   "id": "02f349c8",
   "metadata": {},
   "outputs": [],
   "source": [
    "age = 50  # age 변수의 값을 50으로 대체(재할당)"
   ]
  },
  {
   "cell_type": "code",
   "execution_count": 6,
   "id": "ddf21e06",
   "metadata": {},
   "outputs": [
    {
     "name": "stdout",
     "output_type": "stream",
     "text": [
      "50\n"
     ]
    }
   ],
   "source": [
    "print(age)"
   ]
  },
  {
   "cell_type": "code",
   "execution_count": 7,
   "id": "d641d395",
   "metadata": {},
   "outputs": [
    {
     "name": "stdout",
     "output_type": "stream",
     "text": [
      "홍길동\n"
     ]
    }
   ],
   "source": [
    "print(name)"
   ]
  },
  {
   "cell_type": "code",
   "execution_count": 8,
   "id": "c8e15ff2",
   "metadata": {},
   "outputs": [],
   "source": [
    "name = '이순신'"
   ]
  },
  {
   "cell_type": "code",
   "execution_count": 9,
   "id": "a08b11f6",
   "metadata": {},
   "outputs": [
    {
     "name": "stdout",
     "output_type": "stream",
     "text": [
      "이순신\n"
     ]
    }
   ],
   "source": [
    "print(name)"
   ]
  },
  {
   "cell_type": "code",
   "execution_count": 10,
   "id": "009b1c59",
   "metadata": {},
   "outputs": [],
   "source": [
    "age = age + 20  #1. age 변수가 가진 갑솨 20을 더하는 처리\n",
    "          #2. 1에서 처리한 값을 age 변수에 대입"
   ]
  },
  {
   "cell_type": "code",
   "execution_count": 11,
   "id": "038b57b3",
   "metadata": {},
   "outputs": [
    {
     "name": "stdout",
     "output_type": "stream",
     "text": [
      "70\n"
     ]
    }
   ],
   "source": [
    "print(age)"
   ]
  },
  {
   "cell_type": "code",
   "execution_count": 12,
   "id": "8e84c4ae",
   "metadata": {},
   "outputs": [],
   "source": [
    "age2 = age - 40 "
   ]
  },
  {
   "cell_type": "code",
   "execution_count": 13,
   "id": "d741ff8a",
   "metadata": {},
   "outputs": [
    {
     "name": "stdout",
     "output_type": "stream",
     "text": [
      "30\n"
     ]
    }
   ],
   "source": [
    "print(age2)"
   ]
  },
  {
   "cell_type": "code",
   "execution_count": 14,
   "id": "2e3ee4a5",
   "metadata": {},
   "outputs": [
    {
     "name": "stdout",
     "output_type": "stream",
     "text": [
      "70\n"
     ]
    }
   ],
   "source": [
    "print(age)"
   ]
  },
  {
   "cell_type": "code",
   "execution_count": 15,
   "id": "ecef2737",
   "metadata": {},
   "outputs": [
    {
     "ename": "NameError",
     "evalue": "name 'address' is not defined",
     "output_type": "error",
     "traceback": [
      "\u001b[1;31m---------------------------------------------------------------------------\u001b[0m",
      "\u001b[1;31mNameError\u001b[0m                                 Traceback (most recent call last)",
      "\u001b[1;32m~\\AppData\\Local\\Temp/ipykernel_13496/638600178.py\u001b[0m in \u001b[0;36m<module>\u001b[1;34m\u001b[0m\n\u001b[1;32m----> 1\u001b[1;33m \u001b[0mprint\u001b[0m\u001b[1;33m(\u001b[0m\u001b[0maddress\u001b[0m\u001b[1;33m)\u001b[0m \u001b[1;31m# 이름이 address인 변수의 값을 출력 => 없는 변수를 사용할 경우 에러 발생 - NameError\u001b[0m\u001b[1;33m\u001b[0m\u001b[1;33m\u001b[0m\u001b[0m\n\u001b[0m",
      "\u001b[1;31mNameError\u001b[0m: name 'address' is not defined"
     ]
    }
   ],
   "source": [
    "print(address) # 이름이 address인 변수의 값을 출력 => 없는 변수를 사용할 경우 에러 발생 - NameError"
   ]
  },
  {
   "cell_type": "code",
   "execution_count": null,
   "id": "f7d96b84",
   "metadata": {},
   "outputs": [],
   "source": [
    "age = 30"
   ]
  },
  {
   "cell_type": "code",
   "execution_count": 16,
   "id": "79f8a22e",
   "metadata": {},
   "outputs": [],
   "source": [
    "Age = 50"
   ]
  },
  {
   "cell_type": "code",
   "execution_count": 17,
   "id": "17fecc98",
   "metadata": {},
   "outputs": [
    {
     "name": "stdout",
     "output_type": "stream",
     "text": [
      "70 50\n"
     ]
    }
   ],
   "source": [
    "print(age, Age) #두개의 값을 한번에 출력"
   ]
  },
  {
   "cell_type": "code",
   "execution_count": 18,
   "id": "1e74a838",
   "metadata": {},
   "outputs": [
    {
     "name": "stdout",
     "output_type": "stream",
     "text": [
      "서울시 서초구 서초동\n"
     ]
    }
   ],
   "source": [
    "주소 = '서울시 서초구 서초동' #변수명으로 한글 가능\n",
    "print(주소)"
   ]
  },
  {
   "cell_type": "code",
   "execution_count": 19,
   "id": "7ec9ec69",
   "metadata": {},
   "outputs": [],
   "source": [
    "우리집_주소 = '서울시 강남구' #특수문자는 \"_\" 사용가능 \"_\"는 단어구분자로 사용. (snake 표기법)"
   ]
  },
  {
   "cell_type": "code",
   "execution_count": 20,
   "id": "0cfe27f6",
   "metadata": {},
   "outputs": [
    {
     "name": "stdout",
     "output_type": "stream",
     "text": [
      "서울시 강남구\n"
     ]
    }
   ],
   "source": [
    "print(우리집_주소)"
   ]
  },
  {
   "cell_type": "code",
   "execution_count": 21,
   "id": "2ff9c7d8",
   "metadata": {},
   "outputs": [],
   "source": [
    "my_email_address = 'abc@abc.com'"
   ]
  },
  {
   "cell_type": "code",
   "execution_count": 22,
   "id": "734e21cf",
   "metadata": {},
   "outputs": [],
   "source": [
    "# myEmailAddress = 'a@a,com' # camel 표기법"
   ]
  },
  {
   "cell_type": "markdown",
   "id": "fe3a9870",
   "metadata": {},
   "source": [
    "## 변수 명명 규칙\n",
    "    – 일반 문자 :  영어 알파벳 뿐 만 아니라 한글 한자 등 모든 일반 문자 사용가능\n",
    "        - 영어의 경우 대소문자 구분\n",
    "    - ), 숫자 , 특수 문자는 _(underscore) 만 가능\n",
    "    – 숫자는 두번째 글자부터 가능\n",
    "    – 예약어 사용 불가\n"
   ]
  },
  {
   "cell_type": "code",
   "execution_count": 23,
   "id": "7ca35ea5",
   "metadata": {},
   "outputs": [
    {
     "ename": "SyntaxError",
     "evalue": "invalid syntax (Temp/ipykernel_13496/900143823.py, line 1)",
     "output_type": "error",
     "traceback": [
      "\u001b[1;36m  File \u001b[1;32m\"C:\\Users\\C\\AppData\\Local\\Temp/ipykernel_13496/900143823.py\"\u001b[1;36m, line \u001b[1;32m1\u001b[0m\n\u001b[1;33m    5age = 30 # 변수명 작성 시 숫자는 문자 뒤에 ∴ 타당하지 않는 변수(오류 발생)\u001b[0m\n\u001b[1;37m     ^\u001b[0m\n\u001b[1;31mSyntaxError\u001b[0m\u001b[1;31m:\u001b[0m invalid syntax\n"
     ]
    }
   ],
   "source": [
    "5age = 30 # 변수명 작성 시 숫자는 문자 뒤에 ∴ 타당하지 않는 변수(오류 발생)"
   ]
  },
  {
   "cell_type": "code",
   "execution_count": 24,
   "id": "eb5233b5",
   "metadata": {},
   "outputs": [],
   "source": [
    "# 여려개 변수에 같은 값을 대입\n",
    "a = 10\n",
    "b = 10\n",
    "c = 10"
   ]
  },
  {
   "cell_type": "code",
   "execution_count": 25,
   "id": "98e7f838",
   "metadata": {},
   "outputs": [],
   "source": [
    "a = b = c = 20"
   ]
  },
  {
   "cell_type": "code",
   "execution_count": 26,
   "id": "c3b0ed6a",
   "metadata": {},
   "outputs": [
    {
     "name": "stdout",
     "output_type": "stream",
     "text": [
      "20 20 20\n"
     ]
    }
   ],
   "source": [
    "print(a, b, c)"
   ]
  },
  {
   "cell_type": "code",
   "execution_count": 27,
   "id": "bbebebcb",
   "metadata": {},
   "outputs": [
    {
     "name": "stdout",
     "output_type": "stream",
     "text": [
      "0 0 0 0 0\n"
     ]
    }
   ],
   "source": [
    "age1 = age2 = age3 = age4 = age5 = 0\n",
    "print(age1, age2, age3, age4, age5)"
   ]
  },
  {
   "cell_type": "code",
   "execution_count": 28,
   "id": "0e70be79",
   "metadata": {},
   "outputs": [],
   "source": [
    "#여러 개의 변수에 다른 값을 대입\n",
    "a = 10\n",
    "b = 20\n",
    "c = 30"
   ]
  },
  {
   "cell_type": "code",
   "execution_count": 29,
   "id": "0caa1fd3",
   "metadata": {},
   "outputs": [
    {
     "name": "stdout",
     "output_type": "stream",
     "text": [
      "10 20 30\n"
     ]
    }
   ],
   "source": [
    "# 듀플대입\n",
    "a, b, c = 10, 20, 30\n",
    "print(a, b, c)"
   ]
  },
  {
   "cell_type": "code",
   "execution_count": 30,
   "id": "c9f27408",
   "metadata": {},
   "outputs": [
    {
     "ename": "ValueError",
     "evalue": "not enough values to unpack (expected 3, got 2)",
     "output_type": "error",
     "traceback": [
      "\u001b[1;31m---------------------------------------------------------------------------\u001b[0m",
      "\u001b[1;31mValueError\u001b[0m                                Traceback (most recent call last)",
      "\u001b[1;32m~\\AppData\\Local\\Temp/ipykernel_13496/2535333037.py\u001b[0m in \u001b[0;36m<module>\u001b[1;34m\u001b[0m\n\u001b[0;32m      1\u001b[0m \u001b[1;31m# 변수의 개수와 값의 개수는 일치해야 한다.\u001b[0m\u001b[1;33m\u001b[0m\u001b[1;33m\u001b[0m\u001b[0m\n\u001b[1;32m----> 2\u001b[1;33m \u001b[0ma\u001b[0m\u001b[1;33m,\u001b[0m \u001b[0mb\u001b[0m\u001b[1;33m,\u001b[0m \u001b[0mc\u001b[0m\u001b[1;33m,\u001b[0m \u001b[1;33m=\u001b[0m \u001b[1;36m1\u001b[0m\u001b[1;33m,\u001b[0m \u001b[1;36m2\u001b[0m\u001b[1;33m\u001b[0m\u001b[1;33m\u001b[0m\u001b[0m\n\u001b[0m",
      "\u001b[1;31mValueError\u001b[0m: not enough values to unpack (expected 3, got 2)"
     ]
    }
   ],
   "source": [
    "# 변수의 개수와 값의 개수는 일치해야 한다.\n",
    "a, b, c, = 1, 2 "
   ]
  },
  {
   "cell_type": "code",
   "execution_count": 31,
   "id": "fbf0577d",
   "metadata": {},
   "outputs": [
    {
     "name": "stdout",
     "output_type": "stream",
     "text": [
      "50 60 70 80\n"
     ]
    }
   ],
   "source": [
    "age1, age2, age3, age4 = 50, 60, 70, 80\n",
    "print(age1, age2, age3, age4)"
   ]
  },
  {
   "cell_type": "code",
   "execution_count": 32,
   "id": "d75d4f75",
   "metadata": {},
   "outputs": [
    {
     "ename": "NameError",
     "evalue": "name 'age1' is not defined",
     "output_type": "error",
     "traceback": [
      "\u001b[1;31m---------------------------------------------------------------------------\u001b[0m",
      "\u001b[1;31mNameError\u001b[0m                                 Traceback (most recent call last)",
      "\u001b[1;32m~\\AppData\\Local\\Temp/ipykernel_13496/3949956304.py\u001b[0m in \u001b[0;36m<module>\u001b[1;34m\u001b[0m\n\u001b[0;32m      1\u001b[0m \u001b[1;31m# 변수 삭제\u001b[0m\u001b[1;33m\u001b[0m\u001b[1;33m\u001b[0m\u001b[0m\n\u001b[0;32m      2\u001b[0m \u001b[1;32mdel\u001b[0m \u001b[0mage1\u001b[0m\u001b[1;33m\u001b[0m\u001b[1;33m\u001b[0m\u001b[0m\n\u001b[1;32m----> 3\u001b[1;33m \u001b[0mprint\u001b[0m\u001b[1;33m(\u001b[0m\u001b[0mage1\u001b[0m\u001b[1;33m)\u001b[0m\u001b[1;33m\u001b[0m\u001b[1;33m\u001b[0m\u001b[0m\n\u001b[0m",
      "\u001b[1;31mNameError\u001b[0m: name 'age1' is not defined"
     ]
    }
   ],
   "source": [
    "# 변수 삭제\n",
    "del age1\n",
    "print(age1)"
   ]
  },
  {
   "cell_type": "markdown",
   "id": "29af5e73",
   "metadata": {},
   "source": [
    "## 동적 타입 언어\n",
    "    – 변수의 데이터 타입을 실행 시점에 결정\n",
    "    - 변수 선언 시 데이터 타입을 미지정\n",
    "        ∴ 그래서 같은 변수에 서로 다른 타입의 값들 재할당 가능  "
   ]
  },
  {
   "cell_type": "code",
   "execution_count": 33,
   "id": "02c78fbf",
   "metadata": {},
   "outputs": [
    {
     "name": "stdout",
     "output_type": "stream",
     "text": [
      "20\n",
      "12.5\n",
      "가나다라\n"
     ]
    }
   ],
   "source": [
    "#동적타입언어 => 하나의 변수에 다양한 타입의 값들을 대입할 수 있다.\n",
    "age = 20 # 정수\n",
    "print(age)\n",
    "age = 12.5 #실수\n",
    "print(age)\n",
    "age = '가나다라' #문자열\n",
    "print(age)"
   ]
  },
  {
   "cell_type": "markdown",
   "id": "97f71350",
   "metadata": {},
   "source": [
    "## 정적 타입 언어\n",
    "    - 변수의 데이터 타입이 선언시점에 결정되어 하나의 타입의 값만 저장"
   ]
  },
  {
   "cell_type": "code",
   "execution_count": 34,
   "id": "9fe66eae",
   "metadata": {},
   "outputs": [
    {
     "ename": "SyntaxError",
     "evalue": "invalid syntax (Temp/ipykernel_13496/2477199765.py, line 2)",
     "output_type": "error",
     "traceback": [
      "\u001b[1;36m  File \u001b[1;32m\"C:\\Users\\C\\AppData\\Local\\Temp/ipykernel_13496/2477199765.py\"\u001b[1;36m, line \u001b[1;32m2\u001b[0m\n\u001b[1;33m    int age = 20\u001b[0m\n\u001b[1;37m        ^\u001b[0m\n\u001b[1;31mSyntaxError\u001b[0m\u001b[1;31m:\u001b[0m invalid syntax\n"
     ]
    }
   ],
   "source": [
    "# 정적타입언어 변수에 타입을 고정하여 같은 타입의 값들만 저장.\n",
    "int age = 20\n",
    "\n",
    "age = '스무살' # 정수 선언으로 문자열은 대입 불가 따라서 에러 발생"
   ]
  },
  {
   "cell_type": "markdown",
   "id": "749a76d5",
   "metadata": {},
   "source": [
    "###  type\n",
    "    - 변수나 값의 데이터 타입을 확인하는 함수"
   ]
  },
  {
   "cell_type": "code",
   "execution_count": 35,
   "id": "265d14fb",
   "metadata": {},
   "outputs": [
    {
     "data": {
      "text/plain": [
       "str"
      ]
     },
     "execution_count": 35,
     "metadata": {},
     "output_type": "execute_result"
    }
   ],
   "source": [
    "# str : 문자열\n",
    "a = '가나다라'\n",
    "type(a) "
   ]
  },
  {
   "cell_type": "code",
   "execution_count": 36,
   "id": "3a908ffb",
   "metadata": {},
   "outputs": [
    {
     "data": {
      "text/plain": [
       "int"
      ]
     },
     "execution_count": 36,
     "metadata": {},
     "output_type": "execute_result"
    }
   ],
   "source": [
    "# int : 정수\n",
    "b = 30\n",
    "type(b) "
   ]
  },
  {
   "cell_type": "code",
   "execution_count": 37,
   "id": "de63570d",
   "metadata": {},
   "outputs": [
    {
     "data": {
      "text/plain": [
       "float"
      ]
     },
     "execution_count": 37,
     "metadata": {},
     "output_type": "execute_result"
    }
   ],
   "source": [
    "# float : 실수\n",
    "c = 3.14\n",
    "type(c)"
   ]
  },
  {
   "cell_type": "markdown",
   "id": "400bac0f",
   "metadata": {},
   "source": [
    "# 데이터 타입"
   ]
  },
  {
   "cell_type": "markdown",
   "id": "4e096a4b",
   "metadata": {},
   "source": [
    "## 숫자형"
   ]
  },
  {
   "cell_type": "code",
   "execution_count": 38,
   "id": "1f8b1146",
   "metadata": {},
   "outputs": [
    {
     "name": "stdout",
     "output_type": "stream",
     "text": [
      "0.5 356.7\n"
     ]
    }
   ],
   "source": [
    "f1 = 0.5  \n",
    "f2 = 356.7\n",
    "print(f1, f2)"
   ]
  },
  {
   "cell_type": "code",
   "execution_count": 39,
   "id": "c7ea51b6",
   "metadata": {},
   "outputs": [
    {
     "name": "stdout",
     "output_type": "stream",
     "text": [
      "0.5\n"
     ]
    }
   ],
   "source": [
    "# 정수부분이 0인 경우 0은 생략가능\n",
    "f3 = .5 \n",
    "print(f3) "
   ]
  },
  {
   "cell_type": "markdown",
   "id": "d234a375",
   "metadata": {},
   "source": [
    "### 지수표기법"
   ]
  },
  {
   "cell_type": "code",
   "execution_count": 40,
   "id": "34332741",
   "metadata": {},
   "outputs": [
    {
     "name": "stdout",
     "output_type": "stream",
     "text": [
      "30000000000.0\n"
     ]
    }
   ],
   "source": [
    "f4 = 3e10 # 3 *10^5\n",
    "print(f4)"
   ]
  },
  {
   "cell_type": "code",
   "execution_count": 41,
   "id": "a4aad1dd",
   "metadata": {},
   "outputs": [
    {
     "name": "stdout",
     "output_type": "stream",
     "text": [
      "324600000.0 <class 'float'>\n"
     ]
    }
   ],
   "source": [
    "f5 = 3246e5\n",
    "print(f5, type(f5))"
   ]
  },
  {
   "cell_type": "code",
   "execution_count": 42,
   "id": "060fe974",
   "metadata": {},
   "outputs": [
    {
     "name": "stdout",
     "output_type": "stream",
     "text": [
      "0.003\n"
     ]
    }
   ],
   "source": [
    "f6 = 3e-3 # 3 * 10^-3\n",
    "print(f6)"
   ]
  },
  {
   "cell_type": "markdown",
   "id": "94ad7876",
   "metadata": {},
   "source": [
    "### 산술연산자\n",
    "    - '+' : 더하기\n",
    "    - '-' : 빼기\n",
    "    - '*' : 곱하기\n",
    "    - '/' : 나누기\n",
    "    - '**' : 제곱\n",
    "    - '//' : 몫\n",
    "    - '%' : 나머지"
   ]
  },
  {
   "cell_type": "code",
   "execution_count": 43,
   "id": "9c7c4331",
   "metadata": {},
   "outputs": [
    {
     "name": "stdout",
     "output_type": "stream",
     "text": [
      "32\n",
      "3.3333333333333335\n",
      "3\n",
      "1\n"
     ]
    }
   ],
   "source": [
    "print(2**5) # 제곱\n",
    "print(10/3) # 나누기\n",
    "print(10//3) # 몫\n",
    "print(10%3) # 나머지"
   ]
  },
  {
   "cell_type": "code",
   "execution_count": 44,
   "id": "a9db055e",
   "metadata": {},
   "outputs": [
    {
     "name": "stdout",
     "output_type": "stream",
     "text": [
      "0\n"
     ]
    }
   ],
   "source": [
    "# num이 5의 배수인지 확인하는 법\n",
    "num = 100\n",
    "print(num%5)"
   ]
  },
  {
   "cell_type": "markdown",
   "id": "fac131fc",
   "metadata": {},
   "source": [
    "## 논리형\n",
    "    - 참 거짓을 표현 하는 값\n",
    "        - True : 참\n",
    "        - False : 거짓\n",
    "    - 주로 조건문에서 많이 사용"
   ]
  },
  {
   "cell_type": "code",
   "execution_count": 45,
   "id": "0d0487d3",
   "metadata": {},
   "outputs": [
    {
     "name": "stdout",
     "output_type": "stream",
     "text": [
      "True False\n"
     ]
    }
   ],
   "source": [
    "b1 = True\n",
    "b2 = False\n",
    "print(b1, b2)"
   ]
  },
  {
   "cell_type": "code",
   "execution_count": 46,
   "id": "bd0915d8",
   "metadata": {},
   "outputs": [
    {
     "name": "stdout",
     "output_type": "stream",
     "text": [
      "False True True\n",
      "False False True True\n",
      "False\n"
     ]
    }
   ],
   "source": [
    "# control + / : 주석\n",
    "# bool(값) 다른 타입의 값을 논리형으로 변환\n",
    "# 빈문자열, 0, none => False\n",
    "print(bool(''), bool('abc'), bool(' '))\n",
    "print(bool(0), bool(0.0), bool(50), bool(-50))\n",
    "print(bool(None))"
   ]
  },
  {
   "cell_type": "markdown",
   "id": "9339f837",
   "metadata": {},
   "source": [
    "### 비교연산자\n",
    "    - '==' : 같다\n",
    "         - '=' : 대입연산자\n",
    "    - '!=' : 같지 않다\n",
    "    - '>' : 크다\n",
    "    - '>=' : 크거나 같다\n",
    "    - '<' : 작다\n",
    "    - '<=' : 작거나 같다"
   ]
  },
  {
   "cell_type": "code",
   "execution_count": 47,
   "id": "cf938eb8",
   "metadata": {},
   "outputs": [
    {
     "name": "stdout",
     "output_type": "stream",
     "text": [
      "False\n",
      "True\n",
      "True\n",
      "False\n"
     ]
    }
   ],
   "source": [
    "# ! : 부정(not)의 뜻\n",
    "print(5 == 10)\n",
    "print(10 ==10)\n",
    "print(5 != 10)\n",
    "print(10 !=10)"
   ]
  },
  {
   "cell_type": "code",
   "execution_count": 48,
   "id": "653db3da",
   "metadata": {},
   "outputs": [
    {
     "name": "stdout",
     "output_type": "stream",
     "text": [
      "False\n",
      "97 98\n"
     ]
    }
   ],
   "source": [
    "# 문자열인 경우 사전식 비교로 나중에 나오는 글자가 크다\n",
    "print('a' > 'b')\n",
    "print(ord('a'), ord('b'))"
   ]
  },
  {
   "cell_type": "code",
   "execution_count": 49,
   "id": "89f1c1d5",
   "metadata": {},
   "outputs": [
    {
     "name": "stdout",
     "output_type": "stream",
     "text": [
      "35 48 65 97 12593\n"
     ]
    }
   ],
   "source": [
    "# 특수문자 < 숫자 < 영문자 < 한글\n",
    "print(ord('#'), ord('0'), ord('A'), ord('a'), ord('ㄱ'))"
   ]
  },
  {
   "cell_type": "markdown",
   "id": "19f5778e",
   "metadata": {},
   "source": [
    "### 논리연산자\n",
    "    - '&' : and \n",
    "    - '|' : or\n",
    "    - '^' : 두 값이 다를 경우 True, 같으면 False\n",
    "    - 'not' : 피연산자를 반대로 부정"
   ]
  },
  {
   "cell_type": "code",
   "execution_count": 50,
   "id": "b5f07349",
   "metadata": {},
   "outputs": [
    {
     "name": "stdout",
     "output_type": "stream",
     "text": [
      "False\n",
      "True\n",
      "True\n",
      "False\n"
     ]
    }
   ],
   "source": [
    "#### num이 5 ~ 20 사이의 숫자인가?\n",
    "num = 30\n",
    "result1 = (num > 5) & (num < 20) \n",
    "print(result1)\n",
    "print(not result1)\n",
    "result2 = (num < 5) | (num > 20) \n",
    "print(result2)\n",
    "print(not result2)"
   ]
  },
  {
   "cell_type": "code",
   "execution_count": 51,
   "id": "c11dc7dc",
   "metadata": {},
   "outputs": [
    {
     "data": {
      "text/plain": [
       "True"
      ]
     },
     "execution_count": 51,
     "metadata": {},
     "output_type": "execute_result"
    }
   ],
   "source": [
    "True ^ False"
   ]
  },
  {
   "cell_type": "code",
   "execution_count": 52,
   "id": "3c47582b",
   "metadata": {},
   "outputs": [
    {
     "data": {
      "text/plain": [
       "False"
      ]
     },
     "execution_count": 52,
     "metadata": {},
     "output_type": "execute_result"
    }
   ],
   "source": [
    "True ^ True"
   ]
  },
  {
   "cell_type": "markdown",
   "id": "13e0b4f0",
   "metadata": {},
   "source": [
    "### 조건연산자 (삼항 연산자)\n",
    "    – 조건이 True이거나 False이냐에 따라 결과값을 반환하는 연산자"
   ]
  },
  {
   "cell_type": "code",
   "execution_count": 53,
   "id": "834100f6",
   "metadata": {},
   "outputs": [
    {
     "name": "stdout",
     "output_type": "stream",
     "text": [
      "양수\n",
      "음수\n"
     ]
    }
   ],
   "source": [
    "num1 = 10\n",
    "var1 = '양수' if num1 >= 0 else '음수'\n",
    "print(var1)\n",
    "\n",
    "num2 = -10\n",
    "var2 = '양수' if num2 >= 0 else '음수'\n",
    "print(var2)"
   ]
  },
  {
   "cell_type": "markdown",
   "id": "44ac66f4",
   "metadata": {},
   "source": [
    "### None\n",
    "    – 아무 값도 없음을 나타내는 값\n",
    "    – 다른 언어에서는 주로 NULL 을 사용한다"
   ]
  },
  {
   "cell_type": "code",
   "execution_count": 54,
   "id": "fbb2a074",
   "metadata": {},
   "outputs": [
    {
     "name": "stdout",
     "output_type": "stream",
     "text": [
      "None\n"
     ]
    }
   ],
   "source": [
    "a = None\n",
    "print(a)"
   ]
  },
  {
   "cell_type": "markdown",
   "id": "01321724",
   "metadata": {},
   "source": [
    "## 문자열"
   ]
  },
  {
   "cell_type": "markdown",
   "id": "f08390cf",
   "metadata": {},
   "source": [
    "### Escape 문자\n",
    "    - 모든 프로그래밍 언어에서 사용하는 표준\n",
    "    - 키보드에는 있지만 글자로 표현할 수 없는 문자를 표현하기 위한 문자\n",
    "    - '\\문자'형식\n",
    "        - '\\b' : Back space\n",
    "        - '\\t' : Tab\n",
    "        - '\\n' :  Enter\n",
    "        - '\\\\' : \\\n",
    "        = '\\'' : 작은 따옴표. 문자열 감싸는 작은 따옴표와 구분할 때 사용\n",
    "        - '\\\"' : 큰 따옴표. 문자열 감싸는 큰 따옴표와 구분할 때 사용\n",
    "        - '\\r' : Carriage return (커서를 맨 앞으로 이동)"
   ]
  },
  {
   "cell_type": "code",
   "execution_count": 55,
   "id": "fd79b893",
   "metadata": {},
   "outputs": [
    {
     "name": "stdout",
     "output_type": "stream",
     "text": [
      "abc\bf\n",
      "abc\n",
      "def\n",
      "ghi\n",
      "abc\tdef\n"
     ]
    }
   ],
   "source": [
    "print('abc\\bf')\n",
    "print('abc\\ndef\\nghi')\n",
    "print('abc\\tdef')"
   ]
  },
  {
   "cell_type": "code",
   "execution_count": 56,
   "id": "2ac05dd7",
   "metadata": {
    "scrolled": true
   },
   "outputs": [
    {
     "name": "stdout",
     "output_type": "stream",
     "text": [
      "c:\\Windows\\System32\\cmd.exe\n",
      "c:\\Windows\\System32\\cmd.exe\n",
      "c:\\Windows\\System32\\cmd.exe\n"
     ]
    }
   ],
   "source": [
    "print('c:\\Windows\\System32\\cmd.exe') # 역슬래쉬를 표시할 수 없음\n",
    "print('c:\\\\Windows\\\\System32\\\\cmd.exe') # 역슬래쉬를 표시하려면 \\를 2번(\\\\)\n",
    "print(r'c:\\Windows\\System32\\cmd.exe') # r-string : escape문자의 \\를 무시"
   ]
  },
  {
   "cell_type": "code",
   "execution_count": 57,
   "id": "bff930e0",
   "metadata": {},
   "outputs": [
    {
     "name": "stdout",
     "output_type": "stream",
     "text": [
      "I'm a boy\n",
      "I'm a boy\n"
     ]
    }
   ],
   "source": [
    "# print('I'm a boy') \n",
    "print(\"I'm a boy\")\n",
    "print('I\\'m a boy')"
   ]
  },
  {
   "cell_type": "code",
   "execution_count": 58,
   "id": "d6149785",
   "metadata": {},
   "outputs": [
    {
     "name": "stdout",
     "output_type": "stream",
     "text": [
      "ab\n"
     ]
    }
   ],
   "source": [
    "# 문자열 + 문자열\n",
    "print('a' + 'b')"
   ]
  },
  {
   "cell_type": "code",
   "execution_count": 59,
   "id": "596b84a6",
   "metadata": {},
   "outputs": [
    {
     "name": "stdout",
     "output_type": "stream",
     "text": [
      "이름 : 홍길동\n"
     ]
    }
   ],
   "source": [
    "name = '홍길동'\n",
    "print('이름 : ' + name)"
   ]
  },
  {
   "cell_type": "code",
   "execution_count": 60,
   "id": "51024df3",
   "metadata": {},
   "outputs": [
    {
     "ename": "TypeError",
     "evalue": "can only concatenate str (not \"int\") to str",
     "output_type": "error",
     "traceback": [
      "\u001b[1;31m---------------------------------------------------------------------------\u001b[0m",
      "\u001b[1;31mTypeError\u001b[0m                                 Traceback (most recent call last)",
      "\u001b[1;32m~\\AppData\\Local\\Temp/ipykernel_13496/3450645234.py\u001b[0m in \u001b[0;36m<module>\u001b[1;34m\u001b[0m\n\u001b[0;32m      1\u001b[0m \u001b[0mage\u001b[0m \u001b[1;33m=\u001b[0m \u001b[1;36m20\u001b[0m\u001b[1;33m\u001b[0m\u001b[1;33m\u001b[0m\u001b[0m\n\u001b[1;32m----> 2\u001b[1;33m \u001b[0mprint\u001b[0m\u001b[1;33m(\u001b[0m\u001b[1;34m'나이 : '\u001b[0m \u001b[1;33m+\u001b[0m \u001b[0mage\u001b[0m\u001b[1;33m)\u001b[0m \u001b[1;31m# 문자열끼리만 가능하기 때문에 20(age의 값)은 나올 수 없다\u001b[0m\u001b[1;33m\u001b[0m\u001b[1;33m\u001b[0m\u001b[0m\n\u001b[0m",
      "\u001b[1;31mTypeError\u001b[0m: can only concatenate str (not \"int\") to str"
     ]
    }
   ],
   "source": [
    "age = 20 \n",
    "print('나이 : ' + age) # 문자열끼리만 가능하기 때문에 20(age의 값)은 나올 수 없다"
   ]
  },
  {
   "cell_type": "code",
   "execution_count": 61,
   "id": "7f02543a",
   "metadata": {},
   "outputs": [
    {
     "name": "stdout",
     "output_type": "stream",
     "text": [
      "나이 : 20\n"
     ]
    }
   ],
   "source": [
    "age = 20 \n",
    "print('나이 : ' + str(age))"
   ]
  },
  {
   "cell_type": "code",
   "execution_count": 62,
   "id": "61fdba95",
   "metadata": {},
   "outputs": [
    {
     "name": "stdout",
     "output_type": "stream",
     "text": [
      "-----\n"
     ]
    }
   ],
   "source": [
    "# 문자열*n : 문자열을 n회 반복\n",
    "print('-'*5)"
   ]
  },
  {
   "cell_type": "code",
   "execution_count": 63,
   "id": "0dd6ade4",
   "metadata": {},
   "outputs": [
    {
     "name": "stdout",
     "output_type": "stream",
     "text": [
      "홍길동 3\n"
     ]
    }
   ],
   "source": [
    "# len(문자열) : 글자수\n",
    "name = '홍길동'\n",
    "print(name, len(name))"
   ]
  },
  {
   "cell_type": "code",
   "execution_count": 64,
   "id": "8ff564c2",
   "metadata": {},
   "outputs": [
    {
     "name": "stdout",
     "output_type": "stream",
     "text": [
      "True False\n"
     ]
    }
   ],
   "source": [
    "add = \"서울시 서초구 서초동\"\n",
    "r1 = '서초구' in add # add 내 '서초구'라는 단어가 있는지\n",
    "r2 = '강남구' in add # add 내 '강남구'라는 단어가 있는지\n",
    "print(r1, r2)"
   ]
  },
  {
   "cell_type": "code",
   "execution_count": 65,
   "id": "bfea68b7",
   "metadata": {},
   "outputs": [
    {
     "name": "stdout",
     "output_type": "stream",
     "text": [
      "a 20 30\n",
      "a|20|30\n"
     ]
    }
   ],
   "source": [
    "print('a', 20, '30') # 출력하려는 값이 복수일 경우 ,를 구분자로 해서 나열\n",
    "print('a', 20, '30', sep ='|') # sep : 구분을 출력하는 문자를 설정"
   ]
  },
  {
   "cell_type": "code",
   "execution_count": 66,
   "id": "382f521e",
   "metadata": {},
   "outputs": [
    {
     "name": "stdout",
     "output_type": "stream",
     "text": [
      "abc\n",
      "def\n"
     ]
    }
   ],
   "source": [
    "# 출력할 값뒤 엔터를 기본적으로 붙인 후 출력한다. 따라서 다음 출력은 다음줄에 나온다.\n",
    "print('abc')\n",
    "print('def')"
   ]
  },
  {
   "cell_type": "code",
   "execution_count": 67,
   "id": "f0805862",
   "metadata": {},
   "outputs": [
    {
     "name": "stdout",
     "output_type": "stream",
     "text": [
      "abd-def\n"
     ]
    }
   ],
   "source": [
    "# end : 출력 후 다음 표시방법\n",
    "print('abd', end = '-') \n",
    "print('def')"
   ]
  },
  {
   "cell_type": "markdown",
   "id": "dc52a35c",
   "metadata": {},
   "source": [
    "## indexing\n",
    "    - 문자열의 각 문자는 index 번호를 가진다.\n",
    "    – index 는 0 부터 시작한다.\n",
    "    – 문자열 [ index ]\n",
    "        - index 의 글자를 조회\n",
    "        - index를 음수로 주면 뒤에서부터 조회\n",
    "        - 변경은 안된다."
   ]
  },
  {
   "cell_type": "code",
   "execution_count": 68,
   "id": "942e87ed",
   "metadata": {},
   "outputs": [
    {
     "name": "stdout",
     "output_type": "stream",
     "text": [
      "안녕하세요. 반갑습니다.\n"
     ]
    }
   ],
   "source": [
    "s = \"안녕하세요. 반갑습니다.\"\n",
    "print(s)"
   ]
  },
  {
   "cell_type": "code",
   "execution_count": 69,
   "id": "89a3fbe8",
   "metadata": {},
   "outputs": [
    {
     "name": "stdout",
     "output_type": "stream",
     "text": [
      "2번 index 글자(3번째) 하\n",
      "5번 index 글자(6번째) .\n",
      "뒤에서 2번째 글자 :  다\n",
      " \n",
      "반 반\n"
     ]
    }
   ],
   "source": [
    "print('2번 index 글자(3번째)', s[2])\n",
    "print('5번 index 글자(6번째)', s[5])\n",
    "print('뒤에서 2번째 글자 : ', s[-2])\n",
    "print(s[6])\n",
    "print(s[7], s[-6])"
   ]
  },
  {
   "cell_type": "code",
   "execution_count": 70,
   "id": "c5d0fd6f",
   "metadata": {},
   "outputs": [
    {
     "ename": "TypeError",
     "evalue": "'str' object does not support item assignment",
     "output_type": "error",
     "traceback": [
      "\u001b[1;31m---------------------------------------------------------------------------\u001b[0m",
      "\u001b[1;31mTypeError\u001b[0m                                 Traceback (most recent call last)",
      "\u001b[1;32m~\\AppData\\Local\\Temp/ipykernel_13496/4016997897.py\u001b[0m in \u001b[0;36m<module>\u001b[1;34m\u001b[0m\n\u001b[1;32m----> 1\u001b[1;33m \u001b[0ms\u001b[0m\u001b[1;33m[\u001b[0m\u001b[1;36m3\u001b[0m\u001b[1;33m]\u001b[0m \u001b[1;33m=\u001b[0m \u001b[1;34m'가'\u001b[0m \u001b[1;31m# index를 이용해 문자를 변경할 수 없다.\u001b[0m\u001b[1;33m\u001b[0m\u001b[1;33m\u001b[0m\u001b[0m\n\u001b[0m",
      "\u001b[1;31mTypeError\u001b[0m: 'str' object does not support item assignment"
     ]
    }
   ],
   "source": [
    "s[3] = '가' # index를 이용해 문자를 변경할 수 없다."
   ]
  },
  {
   "cell_type": "markdown",
   "id": "25a1ed27",
   "metadata": {},
   "source": [
    "## slixing\n",
    "    - 문자열의 index의 범위로 문자열을 조회\n",
    "    - 문자열 [ 시작 index : 종료 index : 간격 ]\n",
    "    - 0 번 index 부터 조회 시 시작 index 는 생략가능\n",
    "    - 마지막 index 까지 (끝까지) 조회 시 종료 index 는 생략 가능\n",
    "    - 종료 index > 시작 index, 간격을 음수로 하면 역으로 반환한다"
   ]
  },
  {
   "cell_type": "code",
   "execution_count": 71,
   "id": "46f718ed",
   "metadata": {},
   "outputs": [
    {
     "name": "stdout",
     "output_type": "stream",
     "text": [
      "14\n"
     ]
    }
   ],
   "source": [
    "s = 'abcdefghijklmn'\n",
    "print(len(s)) #14글자 : index 0 ~ 13"
   ]
  },
  {
   "cell_type": "code",
   "execution_count": 72,
   "id": "29a287ba",
   "metadata": {},
   "outputs": [
    {
     "data": {
      "text/plain": [
       "'cegi'"
      ]
     },
     "execution_count": 72,
     "metadata": {},
     "output_type": "execute_result"
    }
   ],
   "source": [
    "s[2:10:2] #범위 2 ~ 10-1(9), 간격 : 2 (2, 4, 6, 8)"
   ]
  },
  {
   "cell_type": "code",
   "execution_count": 73,
   "id": "6fdee7bb",
   "metadata": {},
   "outputs": [
    {
     "data": {
      "text/plain": [
       "'cdefghij'"
      ]
     },
     "execution_count": 73,
     "metadata": {},
     "output_type": "execute_result"
    }
   ],
   "source": [
    "s[2:10] # 간격 생락 시 기본값 : 1, \":\" 도 생략가능"
   ]
  },
  {
   "cell_type": "code",
   "execution_count": 74,
   "id": "dfafc933",
   "metadata": {},
   "outputs": [
    {
     "data": {
      "text/plain": [
       "'abcdefghij'"
      ]
     },
     "execution_count": 74,
     "metadata": {},
     "output_type": "execute_result"
    }
   ],
   "source": [
    "s[:10] # 시작 생략 기본값 : 0 (0 ~ 9)"
   ]
  },
  {
   "cell_type": "code",
   "execution_count": 75,
   "id": "33e4f09f",
   "metadata": {},
   "outputs": [
    {
     "data": {
      "text/plain": [
       "'klmn'"
      ]
     },
     "execution_count": 75,
     "metadata": {},
     "output_type": "execute_result"
    }
   ],
   "source": [
    "s[10:] # 종료 생략 : 마지막 index 까지"
   ]
  },
  {
   "cell_type": "code",
   "execution_count": 76,
   "id": "778eaa6c",
   "metadata": {},
   "outputs": [
    {
     "data": {
      "text/plain": [
       "'adgjm'"
      ]
     },
     "execution_count": 76,
     "metadata": {},
     "output_type": "execute_result"
    }
   ],
   "source": [
    "s[::3]"
   ]
  },
  {
   "cell_type": "code",
   "execution_count": 77,
   "id": "19842635",
   "metadata": {},
   "outputs": [
    {
     "data": {
      "text/plain": [
       "''"
      ]
     },
     "execution_count": 77,
     "metadata": {},
     "output_type": "execute_result"
    }
   ],
   "source": [
    "s[5:1] # 시작 : 5 ~ 종료 : 2 , 간격이 1이기 때문에 다음 index는 6이라 인식하지 못함."
   ]
  },
  {
   "cell_type": "code",
   "execution_count": 78,
   "id": "6e0e3eca",
   "metadata": {},
   "outputs": [
    {
     "data": {
      "text/plain": [
       "'fedc'"
      ]
     },
     "execution_count": 78,
     "metadata": {},
     "output_type": "execute_result"
    }
   ],
   "source": [
    "s[5:1:-1] # 역행하려면 간격을 -1로 설정 # 역행 시 마지막 범위는 +1"
   ]
  },
  {
   "cell_type": "code",
   "execution_count": 79,
   "id": "b3f469bd",
   "metadata": {},
   "outputs": [
    {
     "data": {
      "text/plain": [
       "'nmlkjihgfedcba'"
      ]
     },
     "execution_count": 79,
     "metadata": {},
     "output_type": "execute_result"
    }
   ],
   "source": [
    "s[::-1]"
   ]
  },
  {
   "cell_type": "code",
   "execution_count": 80,
   "id": "f6556497",
   "metadata": {},
   "outputs": [
    {
     "data": {
      "text/plain": [
       "'mlkjihgfe'"
      ]
     },
     "execution_count": 80,
     "metadata": {},
     "output_type": "execute_result"
    }
   ],
   "source": [
    "s[-2:3:-1]"
   ]
  },
  {
   "cell_type": "markdown",
   "id": "04770661",
   "metadata": {},
   "source": [
    "### f-string\n",
    "    -  파이썬 3.6에서 추가된 형식\n",
    "    - 값을 넣을 자리에 {변수명} 을 이용해 변수가 가진 값을 문자열에 추가한다.\n",
    "    - 구문 : f” “\n",
    "    - 변수는 { } 안에 넣는다"
   ]
  },
  {
   "cell_type": "code",
   "execution_count": 81,
   "id": "576d582d",
   "metadata": {},
   "outputs": [],
   "source": [
    "# formatting 문자열\n",
    "name1, age1, address1 = '홍길동', 10, '서울'\n",
    "name2, age2, address2 = '이순신', 20, '인천' \n",
    "name3, age3, address3 = '강감찬', 30, '부산'"
   ]
  },
  {
   "cell_type": "code",
   "execution_count": 82,
   "id": "7b29d831",
   "metadata": {},
   "outputs": [
    {
     "name": "stdout",
     "output_type": "stream",
     "text": [
      "이름 : 홍길동\n",
      "나이 : 10 세\n",
      "주소 : 서울\n"
     ]
    }
   ],
   "source": [
    "info = '이름 : ' + name1 + '\\n나이 : ' + str(age1) + ' 세\\n주소 : ' + address1\n",
    "print(info)"
   ]
  },
  {
   "cell_type": "code",
   "execution_count": 83,
   "id": "8306797c",
   "metadata": {},
   "outputs": [],
   "source": [
    "#{} : 나중에 값이 들어갈 자리\n",
    "info_layout = '이름 : {}\\n나이 : {}세\\n주소 : {}'\n",
    "\n",
    "info1 = info_layout.format(name1, age1, address1)"
   ]
  },
  {
   "cell_type": "code",
   "execution_count": 84,
   "id": "1a266e1c",
   "metadata": {},
   "outputs": [
    {
     "name": "stdout",
     "output_type": "stream",
     "text": [
      "이름 : {}\n",
      "나이 : {}세\n",
      "주소 : {}\n"
     ]
    }
   ],
   "source": [
    "print(info_layout)"
   ]
  },
  {
   "cell_type": "code",
   "execution_count": 85,
   "id": "5123c540",
   "metadata": {},
   "outputs": [
    {
     "name": "stdout",
     "output_type": "stream",
     "text": [
      "이름 : 홍길동\n",
      "나이 : 10세\n",
      "주소 : 서울\n"
     ]
    }
   ],
   "source": [
    "print(info1)"
   ]
  },
  {
   "cell_type": "code",
   "execution_count": 86,
   "id": "fb590678",
   "metadata": {},
   "outputs": [
    {
     "name": "stdout",
     "output_type": "stream",
     "text": [
      "이름 : 이순신\n",
      "나이 : 20세\n",
      "주소 : 인천\n",
      "이름 : 강감찬\n",
      "나이 : 30세\n",
      "주소 : 부산\n"
     ]
    }
   ],
   "source": [
    "print(info_layout.format(name2, age2, address2))\n",
    "print(info_layout.format(name3, age3, address3))"
   ]
  },
  {
   "cell_type": "code",
   "execution_count": 87,
   "id": "a40dcc93",
   "metadata": {},
   "outputs": [
    {
     "name": "stdout",
     "output_type": "stream",
     "text": [
      "이름 : 홍길동\n",
      "나이 : 10세\n",
      "주소 : 서울\n"
     ]
    }
   ],
   "source": [
    "print('이름 : {}\\n나이 : {}세\\n주소 : {}'.format(name1, age1, address1))"
   ]
  },
  {
   "cell_type": "code",
   "execution_count": 88,
   "id": "46b32ee0",
   "metadata": {},
   "outputs": [
    {
     "name": "stdout",
     "output_type": "stream",
     "text": [
      "이름 : 홍길동\n",
      "나이 : 10세\n",
      "주소 : 서울\n"
     ]
    }
   ],
   "source": [
    "# {0} : 첫번째 값, {1} : 2번째 값\n",
    "print('이름 : {0}\\n나이 : {1}세\\n주소 : {2}'.format(name1, age1, address1))"
   ]
  },
  {
   "cell_type": "code",
   "execution_count": 89,
   "id": "0da46cfe",
   "metadata": {},
   "outputs": [
    {
     "name": "stdout",
     "output_type": "stream",
     "text": [
      "이름 : 10\n",
      "나이 : 홍길동세\n",
      "주소 : 서울\n"
     ]
    }
   ],
   "source": [
    "print('이름 : {1}\\n나이 : {0}세\\n주소 : {2}'.format(name1, age1, address1))"
   ]
  },
  {
   "cell_type": "code",
   "execution_count": 90,
   "id": "397f66bb",
   "metadata": {},
   "outputs": [
    {
     "name": "stdout",
     "output_type": "stream",
     "text": [
      "이름 : 홍길동\n",
      "나이 : 10세\n",
      "주소 : 서울\n",
      "이름 : 홍길동\n"
     ]
    }
   ],
   "source": [
    "print('이름 : {}\\n나이 : {}세\\n주소 : {}\\n이름 : {}'.format(name1, age1, address1, name1))"
   ]
  },
  {
   "cell_type": "code",
   "execution_count": 91,
   "id": "3b6dcc43",
   "metadata": {},
   "outputs": [
    {
     "name": "stdout",
     "output_type": "stream",
     "text": [
      "이름 : 홍길동\n",
      "나이 : 10세\n",
      "주소 : 서울\n",
      "이름 : 홍길동\n"
     ]
    }
   ],
   "source": [
    "# 동일한 값을 여러군데에서 사용할 경우\n",
    "print('이름 : {0}\\n나이 : {1}세\\n주소 : {2}\\n이름 : {0}'.format(name1, age1, address1))"
   ]
  },
  {
   "cell_type": "code",
   "execution_count": 92,
   "id": "f32d2483",
   "metadata": {},
   "outputs": [
    {
     "name": "stdout",
     "output_type": "stream",
     "text": [
      "이름 : 홍길동\n",
      "나이 : 10세\n",
      "주소 : 서울\n"
     ]
    }
   ],
   "source": [
    "# {name} : 괄호의 이름 지정. 값 전달시 괄호이름 = 값\n",
    "print('이름 : {name}\\n나이 : {age}세\\n주소 : {addr}'.format(name = name1,\n",
    "                                                              age = age1, \n",
    "                                                              addr= address1))"
   ]
  },
  {
   "cell_type": "code",
   "execution_count": 93,
   "id": "e6846021",
   "metadata": {},
   "outputs": [
    {
     "name": "stdout",
     "output_type": "stream",
     "text": [
      "이름 : 홍길동, 나이 :23, 몸무게 : 72.7\n"
     ]
    }
   ],
   "source": [
    "# 형식문자를 이용한 문자열 formatting\n",
    "# %s : string, %d : int, %f : float\n",
    "name, age, weight = '홍길동', 23, 72.7\n",
    "info = '이름 : %s, 나이 :%d, 몸무게 : %.1f' % (name, age, weight) # %f 사이에 .n을 쓰면 소수점 n자리만큼 출력\n",
    "print(info)"
   ]
  },
  {
   "cell_type": "code",
   "execution_count": 94,
   "id": "1fb79008",
   "metadata": {},
   "outputs": [
    {
     "name": "stdout",
     "output_type": "stream",
     "text": [
      "이름 : 홍길동, 나이 : 23, 몸무게 : 72.7\n"
     ]
    }
   ],
   "source": [
    "# f-string\n",
    "name, age, weight = '홍길동', 23, 72.7\n",
    "print(f'이름 : {name}, 나이 : {age}, 몸무게 : {weight}')"
   ]
  },
  {
   "cell_type": "code",
   "execution_count": 95,
   "id": "87644f51",
   "metadata": {},
   "outputs": [
    {
     "name": "stdout",
     "output_type": "stream",
     "text": [
      "이름 :  홍길동 , 나이 : 23, 몸무게 : 72.7\n"
     ]
    }
   ],
   "source": [
    "print(f'이름 : {name:^5}, 나이 : {age}, 몸무게 : {weight}') # >,<,^ : 정렬. 정렬 후 최소자리수 설정. 값 < 최소자리수이면 공백을 만든다."
   ]
  },
  {
   "cell_type": "code",
   "execution_count": 96,
   "id": "568fa188",
   "metadata": {},
   "outputs": [
    {
     "name": "stdout",
     "output_type": "stream",
     "text": [
      "이름 :  홍길동 , 나이 : 23, 몸무게 : 81.16\n"
     ]
    }
   ],
   "source": [
    "weight = 81.156\n",
    "print(f'이름 : {name:^5}, 나이 : {age}, 몸무게 : {weight:.2f}')"
   ]
  },
  {
   "cell_type": "code",
   "execution_count": 97,
   "id": "3ff52cd9",
   "metadata": {},
   "outputs": [
    {
     "ename": "ValueError",
     "evalue": "Unknown format code 'f' for object of type 'str'",
     "output_type": "error",
     "traceback": [
      "\u001b[1;31m---------------------------------------------------------------------------\u001b[0m",
      "\u001b[1;31mValueError\u001b[0m                                Traceback (most recent call last)",
      "\u001b[1;32m~\\AppData\\Local\\Temp/ipykernel_13496/1722929922.py\u001b[0m in \u001b[0;36m<module>\u001b[1;34m\u001b[0m\n\u001b[0;32m      1\u001b[0m \u001b[1;31m# 타입 : f(실수), d(정수), s(문자열)\u001b[0m\u001b[1;33m\u001b[0m\u001b[1;33m\u001b[0m\u001b[0m\n\u001b[1;32m----> 2\u001b[1;33m \u001b[1;34mf'이름 : {name:.2f}'\u001b[0m\u001b[1;33m\u001b[0m\u001b[1;33m\u001b[0m\u001b[0m\n\u001b[0m",
      "\u001b[1;31mValueError\u001b[0m: Unknown format code 'f' for object of type 'str'"
     ]
    }
   ],
   "source": [
    "# 타입 : f(실수), d(정수), s(문자열)\n",
    "f'이름 : {name:.2f}'"
   ]
  },
  {
   "cell_type": "markdown",
   "id": "d07cb622",
   "metadata": {},
   "source": [
    "###  String 주요 메소드\n",
    "    - split(구분문자열) : 문자열을 기준으로 나눈다\n",
    "    - strip(), lstrip(), rstrip() : 앞뒤(strip) 앞(lstrip) 뒤(rstrip) 공백 제거\n",
    "    - replace('바꿀 문자열 ', '새문자열') : 바꿀 문자열을 새 문자열로 반환\n",
    "    - in, not in (연산자) : 문자열 네 특정 문자열이 있는지 (in) 없는지 (not in) 확인. 결과는 boolean 출력\n",
    "    - count('문자열') : 문자열이 몇 번 쓰였는지 확인\n",
    "    - index(문자열)/find(문자열) : 문자열이 몇 번째 index 에 있는지 확인\n",
    "    - upper(), lower() : 대문자(upper) 소문자(lower)로 변환\n",
    "    - startswith('문자열')/endswith('문자열') : 문자열로 시작/끝 나는지 확인"
   ]
  },
  {
   "cell_type": "code",
   "execution_count": 98,
   "id": "74a2fefa",
   "metadata": {},
   "outputs": [
    {
     "data": {
      "text/plain": [
       "['사과', '귤', '배', '수박', '복숭아']"
      ]
     },
     "execution_count": 98,
     "metadata": {},
     "output_type": "execute_result"
    }
   ],
   "source": [
    "# 문자열 관련 함수/메소드\n",
    "s = '사과|귤|배|수박|복숭아'\n",
    "s.split('|') # |를 기준으로 구분하여 토큰화"
   ]
  },
  {
   "cell_type": "code",
   "execution_count": 99,
   "id": "51271430",
   "metadata": {},
   "outputs": [
    {
     "name": "stdout",
     "output_type": "stream",
     "text": [
      "   abc   \n",
      "abc   \n",
      "   abc\n",
      "abc\n"
     ]
    }
   ],
   "source": [
    "s2 = '   abc   '\n",
    "print(s2)\n",
    "print(s2.lstrip()) # 좌측공백 삭제\n",
    "print(s2.rstrip()) # 우측공백 삭제\n",
    "print(s2.strip()) # 양측공백 삭제"
   ]
  },
  {
   "cell_type": "code",
   "execution_count": 100,
   "id": "a1f7c2a9",
   "metadata": {},
   "outputs": [
    {
     "data": {
      "text/plain": [
       "'가c가c가c'"
      ]
     },
     "execution_count": 100,
     "metadata": {},
     "output_type": "execute_result"
    }
   ],
   "source": [
    "s3 = 'abcabcabc'\n",
    "s3.replace('ab', '가')"
   ]
  },
  {
   "cell_type": "code",
   "execution_count": 101,
   "id": "2b4c2b77",
   "metadata": {},
   "outputs": [
    {
     "data": {
      "text/plain": [
       "3"
      ]
     },
     "execution_count": 101,
     "metadata": {},
     "output_type": "execute_result"
    }
   ],
   "source": [
    "len(s3) # s3의 글자수\n",
    "s3.count('a')"
   ]
  },
  {
   "cell_type": "code",
   "execution_count": 102,
   "id": "2cf59e3a",
   "metadata": {},
   "outputs": [
    {
     "name": "stdout",
     "output_type": "stream",
     "text": [
      "0\n"
     ]
    },
    {
     "ename": "ValueError",
     "evalue": "substring not found",
     "output_type": "error",
     "traceback": [
      "\u001b[1;31m---------------------------------------------------------------------------\u001b[0m",
      "\u001b[1;31mValueError\u001b[0m                                Traceback (most recent call last)",
      "\u001b[1;32m~\\AppData\\Local\\Temp/ipykernel_13496/2735356471.py\u001b[0m in \u001b[0;36m<module>\u001b[1;34m\u001b[0m\n\u001b[0;32m      1\u001b[0m \u001b[0mprint\u001b[0m\u001b[1;33m(\u001b[0m\u001b[0ms3\u001b[0m\u001b[1;33m.\u001b[0m\u001b[0mindex\u001b[0m\u001b[1;33m(\u001b[0m\u001b[1;34m'a'\u001b[0m\u001b[1;33m)\u001b[0m\u001b[1;33m)\u001b[0m \u001b[1;31m# index에서 a를 찾음\u001b[0m\u001b[1;33m\u001b[0m\u001b[1;33m\u001b[0m\u001b[0m\n\u001b[1;32m----> 2\u001b[1;33m \u001b[0mprint\u001b[0m\u001b[1;33m(\u001b[0m\u001b[0ms3\u001b[0m\u001b[1;33m.\u001b[0m\u001b[0mindex\u001b[0m\u001b[1;33m(\u001b[0m\u001b[1;34m'가'\u001b[0m\u001b[1;33m)\u001b[0m\u001b[1;33m)\u001b[0m\u001b[1;31m# 찾는 결과가 없으면 에러\u001b[0m\u001b[1;33m\u001b[0m\u001b[1;33m\u001b[0m\u001b[0m\n\u001b[0m",
      "\u001b[1;31mValueError\u001b[0m: substring not found"
     ]
    }
   ],
   "source": [
    "print(s3.index('a')) # index에서 a를 찾음\n",
    "print(s3.index('가'))# 찾는 결과가 없으면 에러"
   ]
  },
  {
   "cell_type": "code",
   "execution_count": 103,
   "id": "4eb6f8d4",
   "metadata": {},
   "outputs": [
    {
     "name": "stdout",
     "output_type": "stream",
     "text": [
      "0\n",
      "-1\n"
     ]
    }
   ],
   "source": [
    "print(s3.find('a'))\n",
    "print(s3.find('가')) # 찾는 결과가 없으면 -1로 표시"
   ]
  },
  {
   "cell_type": "code",
   "execution_count": 104,
   "id": "30eda68b",
   "metadata": {},
   "outputs": [
    {
     "name": "stdout",
     "output_type": "stream",
     "text": [
      "ABCDE\n",
      "abcde\n"
     ]
    }
   ],
   "source": [
    "s4 = 'AbCdE'\n",
    "print(s4.upper())\n",
    "print(s4.lower())"
   ]
  },
  {
   "cell_type": "code",
   "execution_count": 105,
   "id": "e4569c91",
   "metadata": {},
   "outputs": [
    {
     "name": "stdout",
     "output_type": "stream",
     "text": [
      "True\n",
      "False\n"
     ]
    }
   ],
   "source": [
    "addr = '서울시 서대문구'\n",
    "print(addr.startswith('서울'))\n",
    "print(addr.startswith('광주'))"
   ]
  },
  {
   "cell_type": "code",
   "execution_count": 106,
   "id": "3dbf229b",
   "metadata": {},
   "outputs": [
    {
     "name": "stdout",
     "output_type": "stream",
     "text": [
      "True\n",
      "False\n"
     ]
    }
   ],
   "source": [
    "url = 'www.naver.com'\n",
    "print(url.endswith('.com'))\n",
    "print(url.endswith('.net'))"
   ]
  },
  {
   "cell_type": "code",
   "execution_count": null,
   "id": "4c2f7ab3",
   "metadata": {},
   "outputs": [],
   "source": []
  },
  {
   "cell_type": "markdown",
   "id": "e7e5e4c2",
   "metadata": {},
   "source": [
    "# 연습 문제"
   ]
  },
  {
   "cell_type": "code",
   "execution_count": 107,
   "id": "00b3074a",
   "metadata": {},
   "outputs": [
    {
     "name": "stdout",
     "output_type": "stream",
     "text": [
      "901211\n",
      "901211\n"
     ]
    }
   ],
   "source": [
    "#1. 주민번호 \"901211-1027213\"의 앞 6자리만 조회해서 출력하시오.\n",
    "\n",
    "주민번호 = \"901211-1027213\"\n",
    "print(주민번호[:6])\n",
    "\n",
    "print(주민번호.split('-')[0])"
   ]
  },
  {
   "cell_type": "code",
   "execution_count": 108,
   "id": "d68e7caf",
   "metadata": {},
   "outputs": [
    {
     "name": "stdout",
     "output_type": "stream",
     "text": [
      "\"안녕하세요\"\"안녕하세요\"\"안녕하세요\"\"안녕하세요\"\"안녕하세요\"\"안녕하세요\"\"안녕하세요\"\"안녕하세요\"\"안녕하세요\"\"안녕하세요\"\n"
     ]
    }
   ],
   "source": [
    "#2. \"안녕하세요\" 를 10번 출력하시오.\n",
    "\n",
    "print('\"안녕하세요\"'*10)"
   ]
  },
  {
   "cell_type": "code",
   "execution_count": 109,
   "id": "58277b6c",
   "metadata": {},
   "outputs": [
    {
     "name": "stdout",
     "output_type": "stream",
     "text": [
      "24\n"
     ]
    }
   ],
   "source": [
    "#3. 다음 문자열의 글자수를 출력하시오.\n",
    "b = \"akdlclkdkdlelql39du7마구0ㅌ\"\n",
    "\n",
    "print(len(b))"
   ]
  },
  {
   "cell_type": "code",
   "execution_count": 110,
   "id": "6c0837a7",
   "metadata": {},
   "outputs": [
    {
     "name": "stdout",
     "output_type": "stream",
     "text": [
      "제품명 : TV, 가격 : 300000, 제조사 : LG\n",
      "제품명 : TV, 가격 : 300000, 제조사 : LG\n",
      "제품명 : TV, 가격 : 300000, 제조사 : LG\n",
      "제품명 : TV, 가격 : 300000, 제조사 : LG\n"
     ]
    }
   ],
   "source": [
    "#4.\n",
    "name=\"TV\"\n",
    "price=300000\n",
    "maker = \"LG\"\n",
    "# 위 변수의 값을 다음과 같은 형태로 출력하시오.\n",
    "#\"제품명 : TV, 가격 : 300000, 제조사 : LG\"\n",
    "\n",
    "c = '제품명 : ' + name + ', 가격 : ' + str(price) + ', 제조사 : ' + maker\n",
    "print(c)\n",
    "\n",
    "print('제품명 : {}, 가격 : {}, 제조사 : {}'.format(name, price, maker))\n",
    "print(f'제품명 : {name}, 가격 : {price}, 제조사 : {maker}')\n",
    "print('제품명 : %s, 가격 : %d, 제조사 : %s' % (name, price, maker))"
   ]
  },
  {
   "cell_type": "code",
   "execution_count": 111,
   "id": "62b17e97",
   "metadata": {},
   "outputs": [
    {
     "name": "stdout",
     "output_type": "stream",
     "text": [
      "False\n",
      "없음\n"
     ]
    }
   ],
   "source": [
    "#5\n",
    "fruits = \"사과 복숭아 귤 배\"\n",
    "# 위 fruits에 \"수박\"이 있는지 확인하는 코드를 작성하시오.\n",
    "\n",
    "d = '수박' in fruits\n",
    "print(d)\n",
    "\n",
    "e ='있음' if '수박' in fruits else '없음'\n",
    "print(e)"
   ]
  },
  {
   "cell_type": "code",
   "execution_count": 112,
   "id": "4bd8155e",
   "metadata": {},
   "outputs": [
    {
     "name": "stdout",
     "output_type": "stream",
     "text": [
      "9\n",
      "a의 개수 :  9\n"
     ]
    }
   ],
   "source": [
    "#6 \n",
    "str_value=\"aldkjaldjfalfjlksajfladlkaalalkdjfa\"\n",
    "# str_value 문자열안에 a가 몇개 있는지 출력하시오.\n",
    "\n",
    "print(str_value.count('a'))\n",
    "\n",
    "print('a의 개수 : ',str_value.count('a'))"
   ]
  }
 ],
 "metadata": {
  "kernelspec": {
   "display_name": "Python 3 (ipykernel)",
   "language": "python",
   "name": "python3"
  },
  "language_info": {
   "codemirror_mode": {
    "name": "ipython",
    "version": 3
   },
   "file_extension": ".py",
   "mimetype": "text/x-python",
   "name": "python",
   "nbconvert_exporter": "python",
   "pygments_lexer": "ipython3",
   "version": "3.9.7"
  }
 },
 "nbformat": 4,
 "nbformat_minor": 5
}

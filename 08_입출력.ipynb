{
 "cells": [
  {
   "cell_type": "markdown",
   "id": "b7752ea8",
   "metadata": {},
   "source": [
    "# 경로(Path)\n",
    "- 파일 디렉토리 위치"
   ]
  },
  {
   "cell_type": "markdown",
   "id": "e10ad443",
   "metadata": {},
   "source": [
    "## 절대경로\n",
    "- Root 디렉토리(폴더)부터 자원(파일, 디렉토리)의 위치를 표현    \n",
    "    - 시작경로: root 디렉토리    \n",
    "- 자원의 전체 경로를 표현하는 방식"
   ]
  },
  {
   "cell_type": "markdown",
   "id": "f38abc09",
   "metadata": {},
   "source": [
    "## 상대경로\n",
    "- 현재 디렉토리(위치)로 부터 찾아가는 경로 표현방식\n",
    "    - 시작: 현재 디렉토리\n",
    "- 구문\n",
    "    - `.` : 현재 디렉토리\n",
    "    - `..`: 상위 디렉토리\n",
    "    - `\\` : 경로 구분자"
   ]
  },
  {
   "cell_type": "code",
   "execution_count": 1,
   "id": "dfb50990",
   "metadata": {},
   "outputs": [
    {
     "name": "stdout",
     "output_type": "stream",
     "text": [
      "C:\\playdata\\playdata_workspace\\실습\\01_python 기초\n"
     ]
    }
   ],
   "source": [
    "# 현재 경로 - workdirectory 경로 조회\n",
    "import os # os 모듈 import\n",
    "cwd = os.getcwd() # current work directory\n",
    "print(cwd) #상대 경로의 현재 위치"
   ]
  },
  {
   "cell_type": "markdown",
   "id": "5e2130e9",
   "metadata": {},
   "source": [
    "#  입출력\n",
    "\n",
    "## text 입출력\n",
    "- 문자열을 입출력 하는 것"
   ]
  },
  {
   "cell_type": "code",
   "execution_count": 2,
   "id": "f06a9876",
   "metadata": {},
   "outputs": [
    {
     "name": "stdout",
     "output_type": "stream",
     "text": [
      "hello\n",
      "world\n"
     ]
    }
   ],
   "source": [
    "# 1. 출력 데이터 출력\n",
    "txt = '''hello\n",
    "world'''\n",
    "print(txt)"
   ]
  },
  {
   "cell_type": "markdown",
   "id": "08d5f2a0",
   "metadata": {},
   "source": [
    "### 출력"
   ]
  },
  {
   "cell_type": "code",
   "execution_count": 3,
   "id": "bba89069",
   "metadata": {},
   "outputs": [],
   "source": [
    "# txt의 문자열 데이터를 '현재작업경로/a.txt' 파일에 출력(저장)\n",
    "# 1. a.txt와 연결 : 목적(출력), 데이터종류(string, text)\n",
    "# file_path = r'C:\\playdata\\playdata_workspace\\실습\\01_python 기초' 절대 경로\n",
    "file_path = 'a.txt' # 상대경로 (./를 생략)\n",
    "mode = 'wt' # 목적/데이터 종류 # wt : 쓰기(write), 텍스트(text) 모드\n",
    "fw = open(file_path, mode, encoding = 'utf-8') # 파일과 지정한 모드에 맞춰서 연결하고 입출력할 수 있는 기능(메소드)를 제공하는 객체를 반환\n",
    "# 출력 연결의 경우 : 파일이 없으면 생성, 있으면 있는 파일과 연결(단 기존 데이터는 삭제)\n",
    "# 입력 연결의 경우 : 연결할 파일이 없으면 exception 발생"
   ]
  },
  {
   "cell_type": "code",
   "execution_count": 4,
   "id": "f0ba780b",
   "metadata": {},
   "outputs": [
    {
     "data": {
      "text/plain": [
       "11"
      ]
     },
     "execution_count": 4,
     "metadata": {},
     "output_type": "execute_result"
    }
   ],
   "source": [
    "# 2. 출력\n",
    "fw.write(txt)"
   ]
  },
  {
   "cell_type": "code",
   "execution_count": 5,
   "id": "446a8df4",
   "metadata": {},
   "outputs": [],
   "source": [
    "# 연결 닫기\n",
    "fw.close()"
   ]
  },
  {
   "cell_type": "markdown",
   "id": "e302715d",
   "metadata": {},
   "source": [
    "### 입력"
   ]
  },
  {
   "cell_type": "code",
   "execution_count": 6,
   "id": "9630cc68",
   "metadata": {},
   "outputs": [
    {
     "name": "stdout",
     "output_type": "stream",
     "text": [
      "hello\n",
      "world\n"
     ]
    },
    {
     "data": {
      "text/plain": [
       "<function TextIOWrapper.close()>"
      ]
     },
     "execution_count": 6,
     "metadata": {},
     "output_type": "execute_result"
    }
   ],
   "source": [
    "i_file_path = 'a.txt' # 상대경로\n",
    "i_mode = 'rt'# 목적 : 읽기(r-기본값), 데이터 : string (text-기본값)\n",
    "# 1. 연결\n",
    "fi = open(i_file_path, i_mode, encoding = 'utf-8')\n",
    "# 2. 입력 : read()\n",
    "r_txt = fi.read()\n",
    "print(r_txt)\n",
    "# 3. 연결 닫기\n",
    "fi.close\n",
    "\n",
    "# UnicodeDecodeError : 잘못된(저장된 인코딩 방식과 다른) encoding 방식으로 읽을 경우 발생"
   ]
  },
  {
   "cell_type": "code",
   "execution_count": 7,
   "id": "f1643391",
   "metadata": {},
   "outputs": [
    {
     "name": "stdout",
     "output_type": "stream",
     "text": [
      "hello\n",
      "world\n",
      "연결 닫기\n"
     ]
    }
   ],
   "source": [
    "try:\n",
    "    fi = open('a.txt', 'rt')\n",
    "    t = fi.read()\n",
    "    print(t)\n",
    "except:\n",
    "    print('처리')\n",
    "finally:\n",
    "    print('연결 닫기')\n",
    "    fi.close()"
   ]
  },
  {
   "cell_type": "markdown",
   "id": "c00eb802",
   "metadata": {},
   "source": [
    "### with 문(절)\n",
    "```python\n",
    "with 연결함수 as 변수\n",
    "    작업코드\n",
    "```"
   ]
  },
  {
   "cell_type": "code",
   "execution_count": 8,
   "id": "2b819968",
   "metadata": {},
   "outputs": [
    {
     "name": "stdout",
     "output_type": "stream",
     "text": [
      "False\n",
      "hello\n",
      "world\n",
      "with block 밖 : True\n"
     ]
    }
   ],
   "source": [
    "# fi = open(...)\n",
    "with open('a.txt', 'rt', encoding = 'utf-8') as fi: # 연결\n",
    "    # 입출력 코드\n",
    "    try:\n",
    "        r = fi.read()\n",
    "        print(fi.closed) # 연결 여부 반환 : True(연결 끊김), False(연결 상태)\n",
    "        print(r)\n",
    "    except:\n",
    "        print('처리')\n",
    "        \n",
    "print('with block 밖 :', fi.closed)\n",
    "# with block을 빠져 나오면 close를 자동으로 처리"
   ]
  },
  {
   "cell_type": "markdown",
   "id": "88f2f673",
   "metadata": {},
   "source": [
    "### 출력 메소드"
   ]
  },
  {
   "cell_type": "code",
   "execution_count": 9,
   "id": "52541c49",
   "metadata": {},
   "outputs": [],
   "source": [
    "with open('b.txt', 'wt') as fw:\n",
    "    # 출력은 여러번에 걸쳐 가능 단 줄바꿈 경우 \\n 삽입\n",
    "    fw.write('안녕하세요! ')\n",
    "    fw.write('반갑습니다.\\n')\n",
    "    fw.write('좋은 하루 되세요.\\n')\n",
    "    fw.write('100') # 출력 가능한 타입은 srting"
   ]
  },
  {
   "cell_type": "code",
   "execution_count": 10,
   "id": "0fe31e0b",
   "metadata": {},
   "outputs": [],
   "source": [
    "txt_lst = ['안녕하세요!\\n', '현재 시간은 12:30 입니다.\\n', str(200)]\n",
    "with open('c.txt', 'wt') as fw1:\n",
    "    fw1.writelines(txt_lst) # list의 원소들을 한번에 출력\n",
    "    \n",
    "# for i in txt_lst\n",
    "#     fw1.write(txt_lst[i])"
   ]
  },
  {
   "cell_type": "markdown",
   "id": "6f60d345",
   "metadata": {},
   "source": [
    "### 입력 메소드"
   ]
  },
  {
   "cell_type": "code",
   "execution_count": 11,
   "id": "56423eb8",
   "metadata": {},
   "outputs": [
    {
     "name": "stdout",
     "output_type": "stream",
     "text": [
      "True\n",
      "비트코인 시세가 겹악재에 2만8000달러대까지 떨어졌다. 루나코인 사태의 후유증, G7의 암호화폐 규제 논의, 뉴욕 증시 나스닥 폭락 등 하락 요인이 겹쳤다.\n",
      "\n",
      "5월 19일 암호화폐 시세추적사이트 코인마켓캡에 따르면 비트코인은 오전 11시 5분 기준 24시간 전보다 4.69% 내린 2만8790.09달러에 거래되고 있다. 전날 3만달러선에서 강한 지지선을 구축하고 박스권을 횡보했지만 결국 내려앉았다.\n",
      "\n",
      "아직 암호화폐 시장은 루나코인 폭락 사태에 따른 크고작은 여진이 이어지고 있다. 암호화폐에 대한 신뢰도가 급격히 하락하면서 투자심리가 살아날 기미가 보이지 않는다. 비교적 안전하다고 알려진 스테이블 코인이 몰락하는 모습을 지켜본 투자자들이 암호화폐 시장에서 매도에 나섰다. 19일 북미 최대 암호화폐거래소 코인베이스의 '코인베이스 프리미엄 지수'를 살펴보면 나흘째 '음수(-)' 상태다. 지수가 낮을수록 투자자들의 매도 압력이 강하다는 것을 의미한다.\n"
     ]
    }
   ],
   "source": [
    "news_file_path = 'text_data/news.txt'\n",
    "with open(news_file_path, 'rt', encoding = 'utf-8') as fi:\n",
    "    news = fi.read() # 파일의 전체내용을 한번에 읽음\n",
    "    \n",
    "print(fi.closed)\n",
    "print(news)"
   ]
  },
  {
   "cell_type": "code",
   "execution_count": 12,
   "id": "ad40a5fd",
   "metadata": {},
   "outputs": [
    {
     "name": "stdout",
     "output_type": "stream",
     "text": [
      "비트코인 시세가 겹악재에 2만8000달러대까지 떨어졌다. 루나코인 사태의 후유증, G7의 암호화폐 규제 논의, 뉴욕 증시 나스닥 폭락 등 하락 요인이 겹쳤다.\n",
      "\n",
      "--------------------\n",
      "\n",
      "\n",
      "--------------------\n",
      "5월 19일 암호화폐 시세추적사이트 코인마켓캡에 따르면 비트코인은 오전 11시 5분 기준 24시간 전보다 4.69% 내린 2만8790.09달러에 거래되고 있다. 전날 3만달러선에서 강한 지지선을 구축하고 박스권을 횡보했지만 결국 내려앉았다.\n",
      "\n"
     ]
    }
   ],
   "source": [
    "with open(news_file_path, 'rt', encoding = 'utf-8') as fi:\n",
    "    text_list = fi.readlines() # 한줄을 원소로 하는 리스트 반환print(text_list)\n",
    "    \n",
    "print(text_list[0])\n",
    "print('-' * 20)\n",
    "print(text_list[1])\n",
    "print('-' * 20)\n",
    "print(text_list[2])"
   ]
  },
  {
   "cell_type": "code",
   "execution_count": 13,
   "id": "ac16486e",
   "metadata": {},
   "outputs": [
    {
     "name": "stdout",
     "output_type": "stream",
     "text": [
      "1.비트코인 시세가 겹악재에 2만8000달러대까지 떨어졌다. 루나코인 사태의 후유증, G7의 암호화폐 규제 논의, 뉴욕 증시 나스닥 폭락 등 하락 요인이 겹쳤다.\n",
      "\n",
      "2.\n",
      "\n",
      "3.5월 19일 암호화폐 시세추적사이트 코인마켓캡에 따르면 비트코인은 오전 11시 5분 기준 24시간 전보다 4.69% 내린 2만8790.09달러에 거래되고 있다. 전날 3만달러선에서 강한 지지선을 구축하고 박스권을 횡보했지만 결국 내려앉았다.\n",
      "\n",
      "4.\n",
      "\n",
      "5.아직 암호화폐 시장은 루나코인 폭락 사태에 따른 크고작은 여진이 이어지고 있다. 암호화폐에 대한 신뢰도가 급격히 하락하면서 투자심리가 살아날 기미가 보이지 않는다. 비교적 안전하다고 알려진 스테이블 코인이 몰락하는 모습을 지켜본 투자자들이 암호화폐 시장에서 매도에 나섰다. 19일 북미 최대 암호화폐거래소 코인베이스의 '코인베이스 프리미엄 지수'를 살펴보면 나흘째 '음수(-)' 상태다. 지수가 낮을수록 투자자들의 매도 압력이 강하다는 것을 의미한다.\n"
     ]
    }
   ],
   "source": [
    "# 줄단위 처리\n",
    "# 줄 번호 삽입\n",
    "for line_num, txt in enumerate(text_list, start = 1):\n",
    "    print(f'{line_num}.{txt}')"
   ]
  },
  {
   "cell_type": "code",
   "execution_count": 14,
   "id": "e86a67cd",
   "metadata": {},
   "outputs": [
    {
     "name": "stdout",
     "output_type": "stream",
     "text": [
      "1.비트코인 시세가 겹악재에 2만8000달러대까지 떨어졌다. 루나코인 사태의 후유증, G7의 암호화폐 규제 논의, 뉴욕 증시 나스닥 폭락 등 하락 요인이 겹쳤다.\n",
      "\n",
      "2.\n",
      "\n",
      "3.5월 19일 암호화폐 시세추적사이트 코인마켓캡에 따르면 비트코인은 오전 11시 5분 기준 24시간 전보다 4.69% 내린 2만8790.09달러에 거래되고 있다. 전날 3만달러선에서 강한 지지선을 구축하고 박스권을 횡보했지만 결국 내려앉았다.\n",
      "\n",
      "4.\n",
      "\n",
      "5.아직 암호화폐 시장은 루나코인 폭락 사태에 따른 크고작은 여진이 이어지고 있다. 암호화폐에 대한 신뢰도가 급격히 하락하면서 투자심리가 살아날 기미가 보이지 않는다. 비교적 안전하다고 알려진 스테이블 코인이 몰락하는 모습을 지켜본 투자자들이 암호화폐 시장에서 매도에 나섰다. 19일 북미 최대 암호화폐거래소 코인베이스의 '코인베이스 프리미엄 지수'를 살펴보면 나흘째 '음수(-)' 상태다. 지수가 낮을수록 투자자들의 매도 압력이 강하다는 것을 의미한다.\n"
     ]
    }
   ],
   "source": [
    "# 반복문을 이용해 한줄 씩 읽을 경우 : rt 모드를 연결한 객체(txtIOWraper)tk iterable => 직접 for in 문의 in 자리에 넣을 수 있다.\n",
    "with open(news_file_path, 'rt', encoding = 'utf-8') as fi:\n",
    "    for ln, text in enumerate(fi, start = 1):\n",
    "        print(f'{ln}.{text}')"
   ]
  },
  {
   "cell_type": "code",
   "execution_count": 15,
   "id": "b6d546d5",
   "metadata": {},
   "outputs": [
    {
     "name": "stdout",
     "output_type": "stream",
     "text": [
      "비트코인 시세가 겹악재에 2만8000달러대까지 떨어졌다. 루나코인 사태의 후유증, G7의 암호화폐 규제 논의, 뉴욕 증시 나스닥 폭락 등 하락 요인이 겹쳤다.\n",
      "\n"
     ]
    }
   ],
   "source": [
    "with open(news_file_path, 'rt', encoding = 'utf-8') as fi:\n",
    "    print(fi.readline()) # 한 줄만 읽는다"
   ]
  },
  {
   "cell_type": "markdown",
   "id": "da06f597",
   "metadata": {},
   "source": [
    "## binary file 입출력\n",
    "- text파일을 제외한 나머지\n",
    "- 모드 : 목적 + 데이터형식(b) rb, wb \n",
    "- 메소드 : write(), read() "
   ]
  },
  {
   "cell_type": "code",
   "execution_count": 16,
   "id": "69099a8a",
   "metadata": {},
   "outputs": [
    {
     "name": "stdout",
     "output_type": "stream",
     "text": [
      "<class 'bytes'>\n"
     ]
    }
   ],
   "source": [
    "# 사진 파일 복사 (읽은 후 다른이름으로 다시 쓰기)\n",
    "try:\n",
    "    fi = open('img.jpg', 'rb')\n",
    "    img = fi.read()\n",
    "    print(type(img))\n",
    "finally:\n",
    "    fi.close()"
   ]
  },
  {
   "cell_type": "code",
   "execution_count": 17,
   "id": "15c32720",
   "metadata": {},
   "outputs": [],
   "source": [
    "try:\n",
    "    fo = open('img2.jpg', 'wb')\n",
    "    fo.write(img)\n",
    "finally:\n",
    "    fo.close()"
   ]
  },
  {
   "cell_type": "code",
   "execution_count": 18,
   "id": "c3e04086",
   "metadata": {},
   "outputs": [],
   "source": [
    "# fi = open('img.png', 'rb')\n",
    "# fo = open('img.png', 'rb')\n",
    "# img = fi.read()\n",
    "# fo.write(img)\n",
    "# 위 식을 with 중첩으로 쓰기\n",
    "\n",
    "with open('img.jpg', 'rb') as fi:\n",
    "    with open('img3.jpg', 'wb') as fo:\n",
    "        img = fi.read()\n",
    "        fo.write(img)"
   ]
  },
  {
   "cell_type": "code",
   "execution_count": 19,
   "id": "3f669d75",
   "metadata": {},
   "outputs": [
    {
     "data": {
      "text/plain": [
       "(True, True)"
      ]
     },
     "execution_count": 19,
     "metadata": {},
     "output_type": "execute_result"
    }
   ],
   "source": [
    "fi.closed, fo.closed"
   ]
  },
  {
   "cell_type": "markdown",
   "id": "9711e1a3",
   "metadata": {},
   "source": [
    "# pickle\n",
    "- 파이썬 객체(모든 종류의 값)를 binary로 입출력할 때 사용하는 모듈"
   ]
  },
  {
   "cell_type": "code",
   "execution_count": 20,
   "id": "f5076f8f",
   "metadata": {},
   "outputs": [],
   "source": [
    "class Item:\n",
    "    \n",
    "    def __init__(self, name, price):\n",
    "        self.name, self.price = name, price\n",
    "        \n",
    "    def __str__(self):\n",
    "        return f'Type : {type(self)}, name : {self.name}, price : {self.price}'"
   ]
  },
  {
   "cell_type": "code",
   "execution_count": 21,
   "id": "bafd4044",
   "metadata": {},
   "outputs": [],
   "source": [
    "import pickle # 피클 모듈 import\n",
    "\n",
    "\n",
    "# 리스드 객체를 파일에 저장\n",
    "# data = ['a', True, 10]\n",
    "\n",
    "data = Item('TV',3500000)\n",
    "with open('list.pkl', 'wb') as fo:\n",
    "    pickle.dump(data, fo)"
   ]
  },
  {
   "cell_type": "code",
   "execution_count": 22,
   "id": "1637d603",
   "metadata": {},
   "outputs": [
    {
     "name": "stdout",
     "output_type": "stream",
     "text": [
      "Type : <class '__main__.Item'>, name : TV, price : 3500000\n",
      "<class '__main__.Item'>\n"
     ]
    }
   ],
   "source": [
    "# 리클로 정한 데이터 읽기\n",
    "with open('list.pkl', 'rb') as fi:\n",
    "    read_list = pickle.load(fi)\n",
    "\n",
    "print(read_list)\n",
    "print(type(read_list))"
   ]
  },
  {
   "cell_type": "markdown",
   "id": "f90e3a00",
   "metadata": {},
   "source": [
    "# To do\n",
    "1. TODO - 간단한 메모장\n",
    "1. 사용자로부터 파일명을 입력받는다.\n",
    "1. 사용자로 부터 파일에 저장할 문장을 입력받아서 파일에 저장한다.\n",
    "1. 사용자가 !q 를 입력하면 종료한다.\n",
    "1. 사용자가 저장한 파일을 읽어서 출력한다."
   ]
  },
  {
   "cell_type": "code",
   "execution_count": 23,
   "id": "98d67503",
   "metadata": {},
   "outputs": [
    {
     "name": "stdout",
     "output_type": "stream",
     "text": [
      "파일명 : answer.txt\n",
      "파일에 저장할 내용을 입력하세요.\n",
      "--------------------------------------------------\n",
      "Hello\n",
      "World\n",
      "!q\n"
     ]
    }
   ],
   "source": [
    "filename = input('파일명 : ')\n",
    "with open(filename, 'wt') as fw:\n",
    "    print('파일에 저장할 내용을 입력하세요.')\n",
    "    print('-' * 50)\n",
    "    while True:\n",
    "        txt = input()\n",
    "        if txt == '!q':\n",
    "            break\n",
    "        fw.write(txt + '\\n')"
   ]
  },
  {
   "cell_type": "markdown",
   "id": "a4500e95",
   "metadata": {},
   "source": [
    "## CSV(Comma Separated Value) 파일 형식\n",
    "- 데이터를 **표형태**로 **텍스트파일**에 저장하기 위한 문서양식\n",
    "- 하나의 데이터는 한줄에 작성 (enter : 데이터값 구분자)\n",
    "- 하나의 데이터를 구성하는 속성값은 ','로 구분\n",
    "    - tab로 구분 (TSV)"
   ]
  },
  {
   "cell_type": "code",
   "execution_count": 24,
   "id": "724d851c",
   "metadata": {},
   "outputs": [],
   "source": [
    "# TODO - member.csv 파일을 읽어서 각 열의 값을 배열에 담는다.\n",
    "# 이름,나이,주소  형태의 csv를 읽어\n",
    "# names = []\n",
    "# ages =[]\n",
    "# address =[]\n",
    "# 각 리스트에 넣는다."
   ]
  },
  {
   "cell_type": "code",
   "execution_count": 25,
   "id": "f20626ad",
   "metadata": {},
   "outputs": [
    {
     "name": "stdout",
     "output_type": "stream",
     "text": [
      "name,age,address\n",
      "김영수,20,서울\n",
      "박영희,21,서울\n",
      "오민수,30,부산\n",
      "최정길,15,인천\n",
      "이명수,22,광주\n",
      "이철수,17,대전\n",
      "\n"
     ]
    }
   ],
   "source": [
    "# 전체 읽기\n",
    "filename = 'member.csv'\n",
    "with open(filename, 'rt', encoding = 'utf-8') as fi:\n",
    "    data = fi.read()\n",
    "\n",
    "print(data)"
   ]
  },
  {
   "cell_type": "code",
   "execution_count": 26,
   "id": "88d608a5",
   "metadata": {},
   "outputs": [
    {
     "name": "stdout",
     "output_type": "stream",
     "text": [
      "['김영수', '박영희', '오민수', '최정길', '이명수', '이철수']\n",
      "['20', '21', '30', '15', '22', '17']\n",
      "['서울', '서울', '부산', '인천', '광주', '대전']\n"
     ]
    }
   ],
   "source": [
    "names = []\n",
    "ages = []\n",
    "addresses = []\n",
    "with open(filename, 'rt', encoding = 'utf-8') as fi:\n",
    "    for idx, line in enumerate(fi):\n",
    "        if idx == 0:\n",
    "            continue\n",
    "        tmp = line.split(',')\n",
    "        names.append(tmp[0])\n",
    "        ages.append(tmp[1])\n",
    "        addresses.append(tmp[2].rstrip())\n",
    "        \n",
    "        # 또는 \n",
    "        # name, age, address = line.split(',')\n",
    "        # names.append(name)\n",
    "        # ages.append(age)\n",
    "        # addresses.append(address.rstrip())\n",
    "         \n",
    "        \n",
    "print(names)\n",
    "print(ages)\n",
    "print(addresses)"
   ]
  },
  {
   "cell_type": "code",
   "execution_count": 27,
   "id": "54295d3a",
   "metadata": {},
   "outputs": [],
   "source": [
    "# names, ages, addresses 를 member_2.csv형식으로 저장 (zip함수)\n",
    "save_filename = 'member_2.csv'\n",
    "with open(save_filename, 'wt', encoding = 'utf-8') as fw:\n",
    "    fw.write('이름, 나이, 주소\\n')\n",
    "    for name, age, addr in zip(names, ages, addresses):\n",
    "        fw.write(f'{name}, {age}, {addr}\\n')"
   ]
  }
 ],
 "metadata": {
  "kernelspec": {
   "display_name": "Python 3 (ipykernel)",
   "language": "python",
   "name": "python3"
  },
  "language_info": {
   "codemirror_mode": {
    "name": "ipython",
    "version": 3
   },
   "file_extension": ".py",
   "mimetype": "text/x-python",
   "name": "python",
   "nbconvert_exporter": "python",
   "pygments_lexer": "ipython3",
   "version": "3.9.12"
  }
 },
 "nbformat": 4,
 "nbformat_minor": 5
}

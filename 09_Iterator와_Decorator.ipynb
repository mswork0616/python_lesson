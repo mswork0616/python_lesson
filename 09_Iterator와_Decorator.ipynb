{
 "cells": [
  {
   "cell_type": "markdown",
   "id": "deab3a39",
   "metadata": {},
   "source": [
    "# Iterator\n",
    "\n",
    "- iterable\n",
    "    - 여러개의 대이터를 하나씩 또는 한 난위씩 제공하는 객체\n",
    "    - 값 하나 하나를 직접 제공하진 않고 Iterator를 이용해 제공\n",
    "    - \\_\\_iter\\_\\_() 특수메소드를 반드시 정의해야 하며 Iterator객체를 반환하도록 구현\n",
    "\n",
    "- Iterator\n",
    "    - 자신을 생성한 Iterable의 값들을 하나씩 또는 한 단위씩 제공하는 객체\n",
    "    - \\_\\_next\\_\\_() 특수메소드를 반드시 정의해야 하며 자신을 생성한 Iterable의 원소를 제공하는 구현"
   ]
  },
  {
   "cell_type": "code",
   "execution_count": 1,
   "id": "01199350",
   "metadata": {},
   "outputs": [],
   "source": [
    "class MyIterable():\n",
    "    '''\n",
    "    Instance 변수(Attribute)에 제공할 값을 저장\n",
    "    Iterator를 제공하는 메소드(__init__())를 제공\n",
    "    '''\n",
    "    \n",
    "    def __init__(self, *args):\n",
    "        self.values = args\n",
    "        \n",
    "        \n",
    "    def __str__(self):\n",
    "        return str(self.values)\n",
    "    \n",
    "    def __iter__(self):\n",
    "        '''\n",
    "        Iterator(MyItorator)객체를 반환\n",
    "        '''\n",
    "        return MyIterator(self)\n"
   ]
  },
  {
   "cell_type": "code",
   "execution_count": 2,
   "id": "38f4cf0d",
   "metadata": {},
   "outputs": [],
   "source": [
    "class MyIterator:\n",
    "    '''\n",
    "    MyIterable의 원소들을 제공하는 Iterator\n",
    "    '''\n",
    "    def __init__(self, iterable):\n",
    "        self.iterable = iterable\n",
    "        self.index = 0\n",
    "    \n",
    "    def __next__(self):\n",
    "        '''\n",
    "        Iterable의 원소를 제공하는 메소드 (한번 호출되면 한개(단위)의 값을 제공)\n",
    "        '''\n",
    "        # self.iterable : MyIterable 객체. values : MyIterable의 attribute => 제공할 값들을 가진 튜플\n",
    "        if len(self.iterable.values) <= self.index:\n",
    "            self.index = 0\n",
    "            raise StopIteration() # 더 제공할 원소가 없음\n",
    "            \n",
    "        ret_value  = self.iterable.values[self.index]\n",
    "        self.index += 1\n",
    "        return ret_value"
   ]
  },
  {
   "cell_type": "code",
   "execution_count": 3,
   "id": "60b99a0c",
   "metadata": {},
   "outputs": [],
   "source": [
    "# Iterable과 Iterator를 하나의 클래스에 구현\n",
    "class MyIterable2():\n",
    "    '''\n",
    "    한 클래스에 __iter__(), __next__()를 수현\n",
    "    '''\n",
    "    \n",
    "    def __init__(self, *args):\n",
    "        self.values = args\n",
    "        self.index = 0\n",
    "        \n",
    "    def __str__(self):\n",
    "        return str(self.values)\n",
    "    \n",
    "    def __iter__(self):\n",
    "        '''\n",
    "        MyIterable2 = Iterable + Iterator\n",
    "        '''\n",
    "        return self\n",
    "    \n",
    "    def __next__(self):\n",
    "        if len(self.values) <= self.index:\n",
    "            self.index = 0\n",
    "            raise StopIteration()\n",
    "            \n",
    "        ret_value  = self.values[self.index]\n",
    "        self.index += 1\n",
    "        return ret_value"
   ]
  },
  {
   "cell_type": "code",
   "execution_count": 4,
   "id": "86168bc0",
   "metadata": {},
   "outputs": [
    {
     "name": "stdout",
     "output_type": "stream",
     "text": [
      "<class '__main__.MyIterator'>\n"
     ]
    }
   ],
   "source": [
    "# 1. MyIerable로 부터 Iterator를 조회 -> __iter__() 호출\n",
    "m_iter = MyIterable(1, 2, 3, 4, 5, 6, 7)\n",
    "m_iterator = iter(m_iter) # m_iter.__Iter__()\n",
    "print(type(m_iterator))"
   ]
  },
  {
   "cell_type": "code",
   "execution_count": 5,
   "id": "a8ce6210",
   "metadata": {},
   "outputs": [
    {
     "name": "stdout",
     "output_type": "stream",
     "text": [
      "1\n",
      "2\n",
      "3\n",
      "4\n",
      "5\n",
      "6\n",
      "7\n"
     ]
    },
    {
     "ename": "StopIteration",
     "evalue": "",
     "output_type": "error",
     "traceback": [
      "\u001b[1;31m---------------------------------------------------------------------------\u001b[0m",
      "\u001b[1;31mStopIteration\u001b[0m                             Traceback (most recent call last)",
      "Input \u001b[1;32mIn [5]\u001b[0m, in \u001b[0;36m<cell line: 9>\u001b[1;34m()\u001b[0m\n\u001b[0;32m      7\u001b[0m \u001b[38;5;28mprint\u001b[39m(\u001b[38;5;28mnext\u001b[39m(m_iterator))\n\u001b[0;32m      8\u001b[0m \u001b[38;5;28mprint\u001b[39m(\u001b[38;5;28mnext\u001b[39m(m_iterator))\n\u001b[1;32m----> 9\u001b[0m \u001b[38;5;28mprint\u001b[39m(\u001b[38;5;28;43mnext\u001b[39;49m\u001b[43m(\u001b[49m\u001b[43mm_iterator\u001b[49m\u001b[43m)\u001b[49m)\n",
      "Input \u001b[1;32mIn [2]\u001b[0m, in \u001b[0;36mMyIterator.__next__\u001b[1;34m(self)\u001b[0m\n\u001b[0;32m     14\u001b[0m \u001b[38;5;28;01mif\u001b[39;00m \u001b[38;5;28mlen\u001b[39m(\u001b[38;5;28mself\u001b[39m\u001b[38;5;241m.\u001b[39miterable\u001b[38;5;241m.\u001b[39mvalues) \u001b[38;5;241m<\u001b[39m\u001b[38;5;241m=\u001b[39m \u001b[38;5;28mself\u001b[39m\u001b[38;5;241m.\u001b[39mindex:\n\u001b[0;32m     15\u001b[0m     \u001b[38;5;28mself\u001b[39m\u001b[38;5;241m.\u001b[39mindex \u001b[38;5;241m=\u001b[39m \u001b[38;5;241m0\u001b[39m\n\u001b[1;32m---> 16\u001b[0m     \u001b[38;5;28;01mraise\u001b[39;00m \u001b[38;5;167;01mStopIteration\u001b[39;00m() \u001b[38;5;66;03m# 더 제공할 원소가 없음\u001b[39;00m\n\u001b[0;32m     18\u001b[0m ret_value  \u001b[38;5;241m=\u001b[39m \u001b[38;5;28mself\u001b[39m\u001b[38;5;241m.\u001b[39miterable\u001b[38;5;241m.\u001b[39mvalues[\u001b[38;5;28mself\u001b[39m\u001b[38;5;241m.\u001b[39mindex]\n\u001b[0;32m     19\u001b[0m \u001b[38;5;28mself\u001b[39m\u001b[38;5;241m.\u001b[39mindex \u001b[38;5;241m+\u001b[39m\u001b[38;5;241m=\u001b[39m \u001b[38;5;241m1\u001b[39m\n",
      "\u001b[1;31mStopIteration\u001b[0m: "
     ]
    }
   ],
   "source": [
    "# 원소 조회 next(iterator) -> iterator.__next__()\n",
    "print(next(m_iterator))\n",
    "print(next(m_iterator))\n",
    "print(next(m_iterator))\n",
    "print(next(m_iterator))\n",
    "print(next(m_iterator))\n",
    "print(next(m_iterator))\n",
    "print(next(m_iterator))\n",
    "print(next(m_iterator)) # ∵ 7 이후 더 제공할 원소가 없음"
   ]
  },
  {
   "cell_type": "code",
   "execution_count": 6,
   "id": "a89fd2b5",
   "metadata": {},
   "outputs": [
    {
     "name": "stdout",
     "output_type": "stream",
     "text": [
      "1\n",
      "2\n",
      "3\n",
      "4\n",
      "5\n"
     ]
    }
   ],
   "source": [
    "for v in MyIterable(1, 2, 3, 4, 5):\n",
    "    print(v)"
   ]
  },
  {
   "cell_type": "code",
   "execution_count": 7,
   "id": "7947ee91",
   "metadata": {},
   "outputs": [],
   "source": [
    "def for_simul(iterable):\n",
    "    iterator = iter(iterable)\n",
    "    while True:\n",
    "        try:\n",
    "            v = next(iterator)\n",
    "            print(v)\n",
    "        except:\n",
    "            break"
   ]
  },
  {
   "cell_type": "code",
   "execution_count": 8,
   "id": "3b7e3c2a",
   "metadata": {},
   "outputs": [
    {
     "name": "stdout",
     "output_type": "stream",
     "text": [
      "1\n",
      "2\n",
      "3\n",
      "4\n",
      "5\n"
     ]
    }
   ],
   "source": [
    "for_simul(MyIterable(1, 2, 3, 4, 5))"
   ]
  },
  {
   "cell_type": "code",
   "execution_count": 9,
   "id": "54373bf1",
   "metadata": {},
   "outputs": [
    {
     "name": "stdout",
     "output_type": "stream",
     "text": [
      "<class 'list_iterator'>\n"
     ]
    }
   ],
   "source": [
    "l = [1, 2, 3]\n",
    "l_iter = iter(l)\n",
    "print(type(l_iter))"
   ]
  },
  {
   "cell_type": "code",
   "execution_count": 10,
   "id": "2aa29e72",
   "metadata": {},
   "outputs": [
    {
     "name": "stdout",
     "output_type": "stream",
     "text": [
      "1\n",
      "2\n",
      "3\n"
     ]
    },
    {
     "ename": "StopIteration",
     "evalue": "",
     "output_type": "error",
     "traceback": [
      "\u001b[1;31m---------------------------------------------------------------------------\u001b[0m",
      "\u001b[1;31mStopIteration\u001b[0m                             Traceback (most recent call last)",
      "Input \u001b[1;32mIn [10]\u001b[0m, in \u001b[0;36m<cell line: 4>\u001b[1;34m()\u001b[0m\n\u001b[0;32m      2\u001b[0m \u001b[38;5;28mprint\u001b[39m(\u001b[38;5;28mnext\u001b[39m(l_iter))\n\u001b[0;32m      3\u001b[0m \u001b[38;5;28mprint\u001b[39m(\u001b[38;5;28mnext\u001b[39m(l_iter))\n\u001b[1;32m----> 4\u001b[0m \u001b[38;5;28mprint\u001b[39m(\u001b[38;5;28;43mnext\u001b[39;49m\u001b[43m(\u001b[49m\u001b[43ml_iter\u001b[49m\u001b[43m)\u001b[49m)\n",
      "\u001b[1;31mStopIteration\u001b[0m: "
     ]
    }
   ],
   "source": [
    "print(next(l_iter))\n",
    "print(next(l_iter))\n",
    "print(next(l_iter))\n",
    "print(next(l_iter))"
   ]
  },
  {
   "cell_type": "markdown",
   "id": "61608d12",
   "metadata": {},
   "source": [
    "# Generator\n",
    "- Iterator 의 역할을 하는 함수\n",
    "    - Iterator는 구현 시 클래스를 만들고 생성자, __iter__(), __next__()를 구현해야만 하기 때문에 번거로움\n",
    "- yield\n",
    "    - Generator는 일반함수의 형태로 구현하되 반환을 yield를 이용해 원소를 반환"
   ]
  },
  {
   "cell_type": "code",
   "execution_count": 11,
   "id": "610adfed",
   "metadata": {},
   "outputs": [],
   "source": [
    "# yield - 일시정지 - generator 하나의 값을 반환하는 구문에서 사용.\n",
    "def test_f():\n",
    "    v = 10\n",
    "    return v\n",
    "    v += 10\n",
    "    return v"
   ]
  },
  {
   "cell_type": "code",
   "execution_count": 12,
   "id": "a8e1126f",
   "metadata": {},
   "outputs": [
    {
     "data": {
      "text/plain": [
       "10"
      ]
     },
     "execution_count": 12,
     "metadata": {},
     "output_type": "execute_result"
    }
   ],
   "source": [
    "# 함수 호풀\n",
    "test_f() # 이미 10에서 return을 했기 때문에 10으로 출력"
   ]
  },
  {
   "cell_type": "code",
   "execution_count": 13,
   "id": "260498ee",
   "metadata": {},
   "outputs": [],
   "source": [
    "def test_g():\n",
    "    v = 10\n",
    "    yield v\n",
    "    \n",
    "    v += 10\n",
    "    yield v\n",
    "    \n",
    "    v += 20\n",
    "    yield v\n",
    "    \n",
    "    v += 30\n",
    "    yield v\n",
    "\n",
    "    return \"종료\""
   ]
  },
  {
   "cell_type": "code",
   "execution_count": 14,
   "id": "020facef",
   "metadata": {},
   "outputs": [
    {
     "data": {
      "text/plain": [
       "<generator object test_g at 0x000001BE0F74FAC0>"
      ]
     },
     "execution_count": 14,
     "metadata": {},
     "output_type": "execute_result"
    }
   ],
   "source": [
    "# 함수구현에 yield구문이 들어가면 함수가 아니라 Generator가 된다.\n",
    "# Generator 사용 \n",
    "#1. 생성\n",
    "g = test_g()\n",
    "g"
   ]
  },
  {
   "cell_type": "code",
   "execution_count": 15,
   "id": "9c515cc6",
   "metadata": {},
   "outputs": [
    {
     "name": "stdout",
     "output_type": "stream",
     "text": [
      "10\n"
     ]
    }
   ],
   "source": [
    "#2. 값 조회 - next()\n",
    "v1 = next(g)  # yield를 만날때 까지 실행후 일시정시 상태. yield의 반환값을 가지고 돌아온다.\n",
    "print(v1)"
   ]
  },
  {
   "cell_type": "code",
   "execution_count": 16,
   "id": "7a702833",
   "metadata": {},
   "outputs": [
    {
     "name": "stdout",
     "output_type": "stream",
     "text": [
      "20\n",
      "40\n",
      "70\n"
     ]
    },
    {
     "ename": "StopIteration",
     "evalue": "종료",
     "output_type": "error",
     "traceback": [
      "\u001b[1;31m---------------------------------------------------------------------------\u001b[0m",
      "\u001b[1;31mStopIteration\u001b[0m                             Traceback (most recent call last)",
      "Input \u001b[1;32mIn [16]\u001b[0m, in \u001b[0;36m<cell line: 4>\u001b[1;34m()\u001b[0m\n\u001b[0;32m      2\u001b[0m \u001b[38;5;28mprint\u001b[39m(\u001b[38;5;28mnext\u001b[39m(g))\n\u001b[0;32m      3\u001b[0m \u001b[38;5;28mprint\u001b[39m(\u001b[38;5;28mnext\u001b[39m(g))\n\u001b[1;32m----> 4\u001b[0m \u001b[38;5;28mprint\u001b[39m(\u001b[38;5;28;43mnext\u001b[39;49m\u001b[43m(\u001b[49m\u001b[43mg\u001b[49m\u001b[43m)\u001b[49m)\n",
      "\u001b[1;31mStopIteration\u001b[0m: 종료"
     ]
    }
   ],
   "source": [
    "print(next(g))\n",
    "print(next(g))\n",
    "print(next(g))\n",
    "print(next(g)) # generator가 return하면 종료 StopIteration except를 발생"
   ]
  },
  {
   "cell_type": "code",
   "execution_count": 17,
   "id": "e9cd81ac",
   "metadata": {},
   "outputs": [
    {
     "name": "stdout",
     "output_type": "stream",
     "text": [
      "10\n",
      "20\n",
      "40\n",
      "70\n"
     ]
    }
   ],
   "source": [
    "for v in test_g():\n",
    "    print(v)"
   ]
  },
  {
   "cell_type": "code",
   "execution_count": 18,
   "id": "0514d847",
   "metadata": {},
   "outputs": [],
   "source": [
    "# range()를 generator로 구현\n",
    "def my_range(start, end = None, step = 1):\n",
    "    if end == None:\n",
    "        end = start\n",
    "        start = 0\n",
    "        \n",
    "    while True:\n",
    "        if start >= end:\n",
    "            break\n",
    "        \n",
    "        yield start\n",
    "        start += step"
   ]
  },
  {
   "cell_type": "code",
   "execution_count": 19,
   "id": "6bf6683e",
   "metadata": {},
   "outputs": [
    {
     "data": {
      "text/plain": [
       "[1, 2, 3, 4, 5, 6, 7, 8, 9]"
      ]
     },
     "execution_count": 19,
     "metadata": {},
     "output_type": "execute_result"
    }
   ],
   "source": [
    "r = my_range(1, 10)\n",
    "list(r)"
   ]
  },
  {
   "cell_type": "code",
   "execution_count": 20,
   "id": "e8a63aa6",
   "metadata": {},
   "outputs": [
    {
     "name": "stdout",
     "output_type": "stream",
     "text": [
      "1\n",
      "4\n",
      "7\n"
     ]
    },
    {
     "ename": "StopIteration",
     "evalue": "",
     "output_type": "error",
     "traceback": [
      "\u001b[1;31m---------------------------------------------------------------------------\u001b[0m",
      "\u001b[1;31mStopIteration\u001b[0m                             Traceback (most recent call last)",
      "Input \u001b[1;32mIn [20]\u001b[0m, in \u001b[0;36m<cell line: 5>\u001b[1;34m()\u001b[0m\n\u001b[0;32m      3\u001b[0m \u001b[38;5;28mprint\u001b[39m(\u001b[38;5;28mnext\u001b[39m(r2))\n\u001b[0;32m      4\u001b[0m \u001b[38;5;28mprint\u001b[39m(\u001b[38;5;28mnext\u001b[39m(r2))\n\u001b[1;32m----> 5\u001b[0m \u001b[38;5;28mprint\u001b[39m(\u001b[38;5;28;43mnext\u001b[39;49m\u001b[43m(\u001b[49m\u001b[43mr2\u001b[49m\u001b[43m)\u001b[49m)\n",
      "\u001b[1;31mStopIteration\u001b[0m: "
     ]
    }
   ],
   "source": [
    "r2 = my_range(1, 10, 3)\n",
    "print(next(r2))\n",
    "print(next(r2))\n",
    "print(next(r2))\n",
    "print(next(r2))"
   ]
  },
  {
   "cell_type": "code",
   "execution_count": 21,
   "id": "a9b70a58",
   "metadata": {},
   "outputs": [],
   "source": [
    "def list_simul(gen):\n",
    "    l = []\n",
    "    for v in gen:\n",
    "        l.append(v)\n",
    "        \n",
    "    return 1"
   ]
  },
  {
   "cell_type": "code",
   "execution_count": 22,
   "id": "89f2e5e5",
   "metadata": {},
   "outputs": [
    {
     "data": {
      "text/plain": [
       "1"
      ]
     },
     "execution_count": 22,
     "metadata": {},
     "output_type": "execute_result"
    }
   ],
   "source": [
    "list_simul(my_range(1, 10))"
   ]
  },
  {
   "cell_type": "code",
   "execution_count": 23,
   "id": "018c9fb7",
   "metadata": {},
   "outputs": [],
   "source": [
    "def list_simul2(gen):\n",
    "    l = []\n",
    "    while True:\n",
    "        try:\n",
    "            v = next(gen)\n",
    "            l.append(v)\n",
    "        except StopIteration:\n",
    "            break\n",
    "    return 1"
   ]
  },
  {
   "cell_type": "code",
   "execution_count": 24,
   "id": "2fd86fca",
   "metadata": {},
   "outputs": [
    {
     "data": {
      "text/plain": [
       "1"
      ]
     },
     "execution_count": 24,
     "metadata": {},
     "output_type": "execute_result"
    }
   ],
   "source": [
    "list_simul2(my_range(100, 200, 5))"
   ]
  },
  {
   "cell_type": "markdown",
   "id": "9e72b808",
   "metadata": {},
   "source": [
    "## Generator 표현식\n",
    "- 컴프리헨션을 ()로 형태로 묶게 함\n",
    "- 반복 가능한 객체만 만들고 실제 원소에 대한 요청이 왔을 때 값을 생성"
   ]
  },
  {
   "cell_type": "code",
   "execution_count": 25,
   "id": "0811ea67",
   "metadata": {},
   "outputs": [
    {
     "data": {
      "text/plain": [
       "[100, 200, 300, 400, 500, 600, 700, 800, 900]"
      ]
     },
     "execution_count": 25,
     "metadata": {},
     "output_type": "execute_result"
    }
   ],
   "source": [
    "[i * 100 for i in range(1,10)]"
   ]
  },
  {
   "cell_type": "code",
   "execution_count": 26,
   "id": "2cb3f403",
   "metadata": {},
   "outputs": [
    {
     "name": "stdout",
     "output_type": "stream",
     "text": [
      "100\n",
      "200\n",
      "300\n"
     ]
    }
   ],
   "source": [
    "g = (i * 100 for i in range(1,10))\n",
    "print(next(g))\n",
    "print(next(g))\n",
    "print(next(g))"
   ]
  },
  {
   "cell_type": "code",
   "execution_count": 27,
   "id": "cfcfc1fd",
   "metadata": {},
   "outputs": [
    {
     "name": "stdout",
     "output_type": "stream",
     "text": [
      "400,500,600,700,800,900,"
     ]
    }
   ],
   "source": [
    "for v in g:\n",
    "    print(v, end = ',')"
   ]
  },
  {
   "cell_type": "code",
   "execution_count": 28,
   "id": "eec3bd0d",
   "metadata": {},
   "outputs": [],
   "source": [
    "def my_g():\n",
    "    for i in range(1, 10):\n",
    "        yield i * 100"
   ]
  },
  {
   "cell_type": "code",
   "execution_count": 29,
   "id": "bf6d119d",
   "metadata": {},
   "outputs": [
    {
     "data": {
      "text/plain": [
       "<generator object <genexpr> at 0x000001BE0F943350>"
      ]
     },
     "execution_count": 29,
     "metadata": {},
     "output_type": "execute_result"
    }
   ],
   "source": [
    "g2 = (i * 100 for i in range(10) if i % 2 == 0)\n",
    "g2"
   ]
  },
  {
   "cell_type": "markdown",
   "id": "8716e935",
   "metadata": {},
   "source": [
    "# 지역함수(Local Function)\n",
    "- 함수 내에 정의 한 함수\n",
    "- 함수 내부에서만 호출 가능\n",
    "    - 단 외부 함수가 local 함수를 반환하면 외부함수를 호출한 곳에서 호출 가능"
   ]
  },
  {
   "cell_type": "code",
   "execution_count": 30,
   "id": "7c432909",
   "metadata": {},
   "outputs": [],
   "source": [
    "def test():\n",
    "    print('hello')"
   ]
  },
  {
   "cell_type": "code",
   "execution_count": 31,
   "id": "74f29563",
   "metadata": {},
   "outputs": [
    {
     "name": "stdout",
     "output_type": "stream",
     "text": [
      "hello\n"
     ]
    }
   ],
   "source": [
    "# 호출\n",
    "test()"
   ]
  },
  {
   "cell_type": "code",
   "execution_count": 32,
   "id": "43fecdde",
   "metadata": {},
   "outputs": [],
   "source": [
    "# 함수자체\n",
    "a = test"
   ]
  },
  {
   "cell_type": "code",
   "execution_count": 33,
   "id": "244478df",
   "metadata": {},
   "outputs": [
    {
     "name": "stdout",
     "output_type": "stream",
     "text": [
      "hello\n"
     ]
    }
   ],
   "source": [
    "a()"
   ]
  },
  {
   "cell_type": "code",
   "execution_count": 34,
   "id": "0534d082",
   "metadata": {},
   "outputs": [],
   "source": [
    "def f(fun): # 매개변수를 함수로 받음\n",
    "    fun()"
   ]
  },
  {
   "cell_type": "code",
   "execution_count": 35,
   "id": "15e4da57",
   "metadata": {},
   "outputs": [
    {
     "name": "stdout",
     "output_type": "stream",
     "text": [
      "hello\n"
     ]
    }
   ],
   "source": [
    "f(test)"
   ]
  },
  {
   "cell_type": "code",
   "execution_count": 36,
   "id": "181c7690",
   "metadata": {},
   "outputs": [],
   "source": [
    "def f2():\n",
    "    return test # test 함수를 반환"
   ]
  },
  {
   "cell_type": "code",
   "execution_count": 37,
   "id": "977a6b22",
   "metadata": {},
   "outputs": [
    {
     "name": "stdout",
     "output_type": "stream",
     "text": [
      "hello\n"
     ]
    }
   ],
   "source": [
    "b = f2()\n",
    "b()"
   ]
  },
  {
   "cell_type": "code",
   "execution_count": 38,
   "id": "37e11a05",
   "metadata": {},
   "outputs": [],
   "source": [
    "# 지역변수(Local variable) : 함수 내에서 선언한 변수 ∴ 함수 내에서만 사용 가능 (메모리에 로딩 - 함수시작, 함수가 종료되면 메모리에서 제거)\n",
    "def test():\n",
    "    # var1, var2 : 지역변수\n",
    "    var1 = 10\n",
    "    var2 = 20\n",
    "    print(var1 + var2)    "
   ]
  },
  {
   "cell_type": "code",
   "execution_count": 39,
   "id": "539e0308",
   "metadata": {},
   "outputs": [
    {
     "name": "stdout",
     "output_type": "stream",
     "text": [
      "30\n"
     ]
    }
   ],
   "source": [
    "test()"
   ]
  },
  {
   "cell_type": "code",
   "execution_count": 40,
   "id": "29bf663b",
   "metadata": {},
   "outputs": [
    {
     "ename": "NameError",
     "evalue": "name 'var1' is not defined",
     "output_type": "error",
     "traceback": [
      "\u001b[1;31m---------------------------------------------------------------------------\u001b[0m",
      "\u001b[1;31mNameError\u001b[0m                                 Traceback (most recent call last)",
      "Input \u001b[1;32mIn [40]\u001b[0m, in \u001b[0;36m<cell line: 1>\u001b[1;34m()\u001b[0m\n\u001b[1;32m----> 1\u001b[0m \u001b[43mvar1\u001b[49m\n",
      "\u001b[1;31mNameError\u001b[0m: name 'var1' is not defined"
     ]
    }
   ],
   "source": [
    "var1 # 함수 내에서만 실행된 변수기 때문에 출력 불가"
   ]
  },
  {
   "cell_type": "code",
   "execution_count": 41,
   "id": "6410af45",
   "metadata": {},
   "outputs": [],
   "source": [
    "g_var = 10 # 전역변수(Global variable)\n",
    "\n",
    "def test2():\n",
    "    var1 = 10 # var1 : 지역변수\n",
    "    g_var = 200 # 지역변수 g_var를 정의\n",
    "    print(var1 + g_var)\n",
    "    \n",
    "def test3():\n",
    "    var2 = 20 # var2 : 지역변수\n",
    "    print(var2 * g_var)"
   ]
  },
  {
   "cell_type": "code",
   "execution_count": 42,
   "id": "b925b930",
   "metadata": {},
   "outputs": [
    {
     "name": "stdout",
     "output_type": "stream",
     "text": [
      "210\n"
     ]
    }
   ],
   "source": [
    "test2()"
   ]
  },
  {
   "cell_type": "code",
   "execution_count": 43,
   "id": "f6258604",
   "metadata": {},
   "outputs": [
    {
     "name": "stdout",
     "output_type": "stream",
     "text": [
      "10\n"
     ]
    }
   ],
   "source": [
    "print(g_var) # 전역변수 값 출력"
   ]
  },
  {
   "cell_type": "code",
   "execution_count": 44,
   "id": "cbbddef4",
   "metadata": {},
   "outputs": [
    {
     "name": "stdout",
     "output_type": "stream",
     "text": [
      "200\n"
     ]
    }
   ],
   "source": [
    "test3()"
   ]
  },
  {
   "cell_type": "code",
   "execution_count": 45,
   "id": "e9849fb7",
   "metadata": {},
   "outputs": [],
   "source": [
    "# 함수 내 전역변수 사용 시\n",
    "g_var = 10 # 전역변수(Global variable)\n",
    "\n",
    "def test4():\n",
    "    var1 = 10 # var1 : 지역변수\n",
    "    global g_var # 전역변수 g_var를 사용하겠다는 선언\n",
    "    print(var1 + g_var)"
   ]
  },
  {
   "cell_type": "code",
   "execution_count": 46,
   "id": "a639ac65",
   "metadata": {},
   "outputs": [
    {
     "name": "stdout",
     "output_type": "stream",
     "text": [
      "20\n"
     ]
    }
   ],
   "source": [
    "test4()"
   ]
  },
  {
   "cell_type": "code",
   "execution_count": 47,
   "id": "fc76d540",
   "metadata": {},
   "outputs": [],
   "source": [
    "# 지역함수 : 함수내 함수를 선언\n",
    "def outer():\n",
    "    outer_var = '외부함수의 변수'\n",
    "    def inner(a): # 로컬함수\n",
    "        print(10, a)\n",
    "        print(outer_var)\n",
    "        return 10 - a\n",
    "    \n",
    "    inner(300)"
   ]
  },
  {
   "cell_type": "code",
   "execution_count": 48,
   "id": "53f7d1f5",
   "metadata": {},
   "outputs": [
    {
     "name": "stdout",
     "output_type": "stream",
     "text": [
      "10 300\n",
      "외부함수의 변수\n"
     ]
    }
   ],
   "source": [
    "outer()"
   ]
  },
  {
   "cell_type": "code",
   "execution_count": 49,
   "id": "944d4457",
   "metadata": {},
   "outputs": [
    {
     "ename": "NameError",
     "evalue": "name 'inner' is not defined",
     "output_type": "error",
     "traceback": [
      "\u001b[1;31m---------------------------------------------------------------------------\u001b[0m",
      "\u001b[1;31mNameError\u001b[0m                                 Traceback (most recent call last)",
      "Input \u001b[1;32mIn [49]\u001b[0m, in \u001b[0;36m<cell line: 1>\u001b[1;34m()\u001b[0m\n\u001b[1;32m----> 1\u001b[0m \u001b[43minner\u001b[49m()\n",
      "\u001b[1;31mNameError\u001b[0m: name 'inner' is not defined"
     ]
    }
   ],
   "source": [
    "inner() # 함수 내에서만 실행된 함수이기 때문에 출력 불가"
   ]
  },
  {
   "cell_type": "code",
   "execution_count": 50,
   "id": "b7523018",
   "metadata": {},
   "outputs": [],
   "source": [
    "# inner 함수 가지고 오기\n",
    "def outer2():\n",
    "    outer_var = '외부함수의 변수'\n",
    "    def inner2(a): # 로컬함수\n",
    "        print(10, a)\n",
    "        print(outer_var) # \n",
    "        return 10 - a\n",
    "    \n",
    "    return inner2"
   ]
  },
  {
   "cell_type": "code",
   "execution_count": 51,
   "id": "a5837a11",
   "metadata": {},
   "outputs": [
    {
     "name": "stdout",
     "output_type": "stream",
     "text": [
      "10 100\n",
      "외부함수의 변수\n"
     ]
    },
    {
     "data": {
      "text/plain": [
       "-90"
      ]
     },
     "execution_count": 51,
     "metadata": {},
     "output_type": "execute_result"
    }
   ],
   "source": [
    "f = outer2() # f함수 == outer2의 inner2 함수\n",
    "f(100)"
   ]
  },
  {
   "cell_type": "markdown",
   "id": "d1cb264e",
   "metadata": {},
   "source": [
    "# Decorator\n",
    "- 기존 함수를 매개변수로 받아 새롭게 변형된 함수로 바꾸어 반환하는 함수\n",
    "- 기존 함수코드를 고치지 않고 기능을 추가하는 것이 목적"
   ]
  },
  {
   "cell_type": "code",
   "execution_count": 52,
   "id": "2234b671",
   "metadata": {},
   "outputs": [],
   "source": [
    "def a_func():\n",
    "    print('안녕하세요')\n",
    "\n",
    "def b_func():\n",
    "    print('hello world')"
   ]
  },
  {
   "cell_type": "code",
   "execution_count": 53,
   "id": "0a04569f",
   "metadata": {},
   "outputs": [],
   "source": [
    "# original 함수를 매개변수로 받음.\n",
    "def dash_decorator(func):\n",
    "    # original 함수 전/후로 추가 처리를 하는 지역함수 정의\n",
    "    def wrapper():\n",
    "        print('-' * 30)\n",
    "        func()\n",
    "        print('-' * 30)\n",
    "        \n",
    "    return wrapper"
   ]
  },
  {
   "cell_type": "code",
   "execution_count": 54,
   "id": "e1f94747",
   "metadata": {},
   "outputs": [
    {
     "name": "stdout",
     "output_type": "stream",
     "text": [
      "------------------------------\n",
      "안녕하세요\n",
      "------------------------------\n"
     ]
    }
   ],
   "source": [
    "f = dash_decorator(a_func)\n",
    "f() # wrapper() 출"
   ]
  },
  {
   "cell_type": "code",
   "execution_count": 55,
   "id": "4967c8da",
   "metadata": {},
   "outputs": [
    {
     "name": "stdout",
     "output_type": "stream",
     "text": [
      "------------------------------\n",
      "hello world\n",
      "------------------------------\n"
     ]
    }
   ],
   "source": [
    "f2 = dash_decorator(b_func)\n",
    "f2()"
   ]
  },
  {
   "cell_type": "code",
   "execution_count": 56,
   "id": "2fb0d7f8",
   "metadata": {},
   "outputs": [],
   "source": [
    "# 장식자(@decoator)로 적용\n",
    "@dash_decorator # greetin_kor 함수에 dash_decorator 장식자(decorator)를 붙여 전/후처리를 진행\n",
    "def greeting_kor():\n",
    "    print('안녕하세요')"
   ]
  },
  {
   "cell_type": "code",
   "execution_count": 57,
   "id": "59379370",
   "metadata": {},
   "outputs": [
    {
     "name": "stdout",
     "output_type": "stream",
     "text": [
      "------------------------------\n",
      "안녕하세요\n",
      "------------------------------\n"
     ]
    }
   ],
   "source": [
    "greeting_kor()"
   ]
  },
  {
   "cell_type": "markdown",
   "id": "6de3168f",
   "metadata": {},
   "source": [
    "### 매개변수가 있는 함수에 대한 decorator 만들기"
   ]
  },
  {
   "cell_type": "code",
   "execution_count": 58,
   "id": "84078fcd",
   "metadata": {},
   "outputs": [],
   "source": [
    "def sharp_decorator(func):\n",
    "    \n",
    "    def wrapper(name, age): # wrapper에서 매개변수를 선언\n",
    "        print('#' * 20)\n",
    "        func(name, age) # 함수 호출 시 전달\n",
    "        print('#' * 20)\n",
    "        \n",
    "    return wrapper"
   ]
  },
  {
   "cell_type": "code",
   "execution_count": 59,
   "id": "67647b0d",
   "metadata": {},
   "outputs": [],
   "source": [
    "def per_decorator(func):\n",
    "    '''\n",
    "    kor_greeting에 적용할 decorator\n",
    "    [parmeter]\n",
    "        func : 함수(kor_greeting)\n",
    "    [return]\n",
    "        함수 위/아래줄에 %장식를 출력\n",
    "    [exception]\n",
    "    '''\n",
    "    \n",
    "    def wrapper(name, age):\n",
    "        print('%' * 30)\n",
    "        func(name, age)\n",
    "        print('%' * 30)\n",
    "    \n",
    "    return wrapper"
   ]
  },
  {
   "cell_type": "code",
   "execution_count": 60,
   "id": "e08abc44",
   "metadata": {},
   "outputs": [],
   "source": [
    "@per_decorator\n",
    "def kor_greeting(name, age):\n",
    "    greeting = f'{age}세 {name}님 안녕하세요.'\n",
    "    print(greeting)"
   ]
  },
  {
   "cell_type": "code",
   "execution_count": 61,
   "id": "e06b2623",
   "metadata": {
    "scrolled": true
   },
   "outputs": [
    {
     "name": "stdout",
     "output_type": "stream",
     "text": [
      "%%%%%%%%%%%%%%%%%%%%%%%%%%%%%%\n",
      "15세 홍길동님 안녕하세요.\n",
      "%%%%%%%%%%%%%%%%%%%%%%%%%%%%%%\n"
     ]
    }
   ],
   "source": [
    "kor_greeting('홍길동', 15)"
   ]
  },
  {
   "cell_type": "markdown",
   "id": "d3d6f111",
   "metadata": {},
   "source": [
    "# To do"
   ]
  },
  {
   "cell_type": "code",
   "execution_count": 62,
   "id": "c602d8a2",
   "metadata": {},
   "outputs": [],
   "source": [
    "# 함수가 실행된 실행시간을 재는 decorator"
   ]
  },
  {
   "cell_type": "code",
   "execution_count": 63,
   "id": "4d2b8a8f",
   "metadata": {},
   "outputs": [
    {
     "data": {
      "text/plain": [
       "1654610031.448849"
      ]
     },
     "execution_count": 63,
     "metadata": {},
     "output_type": "execute_result"
    }
   ],
   "source": [
    "import time\n",
    "\n",
    "time.time() # 1970년 1월 1일 0시 0분 0초부터 코드실행지점까지 몇초지났는지 반환."
   ]
  },
  {
   "cell_type": "code",
   "execution_count": 64,
   "id": "38fa9a18",
   "metadata": {},
   "outputs": [],
   "source": [
    "start = time.time()"
   ]
  },
  {
   "cell_type": "code",
   "execution_count": 65,
   "id": "91b2fe4b",
   "metadata": {},
   "outputs": [],
   "source": [
    "end = time.time()"
   ]
  },
  {
   "cell_type": "code",
   "execution_count": 66,
   "id": "c7675bb1",
   "metadata": {},
   "outputs": [
    {
     "data": {
      "text/plain": [
       "0.9043"
      ]
     },
     "execution_count": 66,
     "metadata": {},
     "output_type": "execute_result"
    }
   ],
   "source": [
    "round(end - start, 4)"
   ]
  },
  {
   "cell_type": "code",
   "execution_count": 67,
   "id": "92627b48",
   "metadata": {},
   "outputs": [
    {
     "name": "stdout",
     "output_type": "stream",
     "text": [
      "a\n",
      "b\n"
     ]
    }
   ],
   "source": [
    "print('a')\n",
    "time.sleep(2) # 지정된 초 만큼 대기 시킨다\n",
    "print('b')"
   ]
  },
  {
   "cell_type": "code",
   "execution_count": 68,
   "id": "b0bda0ea",
   "metadata": {},
   "outputs": [],
   "source": [
    "# 텍스트 입력 후 1초 후 함수 이름, 텍스트 내용, 실행되기 까지의 소요시간을 출력하는 decorator를 만들것"
   ]
  },
  {
   "cell_type": "code",
   "execution_count": 69,
   "id": "71ede167",
   "metadata": {},
   "outputs": [],
   "source": [
    "import time\n",
    "\n",
    "def timechecker(func):\n",
    "    \n",
    "    def wrapper(txt):\n",
    "        s_time = time.time()\n",
    "        func(txt)\n",
    "        e_time = time.time()\n",
    "        # 함수.__name__ : 함수 이름\n",
    "        print(f'함수이름 : {func.__name__}')\n",
    "        print(f'소요시간 : {round(e_time - s_time, 2)} 초')\n",
    "        \n",
    "    return wrapper"
   ]
  },
  {
   "cell_type": "code",
   "execution_count": 70,
   "id": "390f73d9",
   "metadata": {},
   "outputs": [],
   "source": [
    "@timechecker\n",
    "def test_func(txt):\n",
    "    time.sleep(1)\n",
    "    print('함수 내용 :', txt)"
   ]
  },
  {
   "cell_type": "code",
   "execution_count": 71,
   "id": "e4525050",
   "metadata": {},
   "outputs": [
    {
     "name": "stdout",
     "output_type": "stream",
     "text": [
      "함수 내용 : abc\n",
      "함수이름 : test_func\n",
      "소요시간 : 1.01 초\n"
     ]
    }
   ],
   "source": [
    "test_func('abc')"
   ]
  }
 ],
 "metadata": {
  "kernelspec": {
   "display_name": "Python 3 (ipykernel)",
   "language": "python",
   "name": "python3"
  },
  "language_info": {
   "codemirror_mode": {
    "name": "ipython",
    "version": 3
   },
   "file_extension": ".py",
   "mimetype": "text/x-python",
   "name": "python",
   "nbconvert_exporter": "python",
   "pygments_lexer": "ipython3",
   "version": "3.9.12"
  }
 },
 "nbformat": 4,
 "nbformat_minor": 5
}

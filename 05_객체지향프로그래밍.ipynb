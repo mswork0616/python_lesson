{
 "cells": [
  {
   "cell_type": "markdown",
   "id": "15518076",
   "metadata": {},
   "source": [
    "# 클래스와 객체\n",
    "\n",
    "- 클래스(class)\n",
    "    - 사용자 정의 데이터 타입\n",
    "    - 특정 데이터에 맞게 정의한 dictionary개념.(값을 key-value쌍으로 관리)\n",
    "- 객체(insrance)\n",
    "    - 클래스로 부터 생성된 값\n",
    "- 속성(attribute, instance 변수)\n",
    "    - 객체를 구성하는 겂으로 객체의 속성, 상태를 표현한다.\n",
    "    - 보통 initializer를 이요하여 초기화 한다.\n",
    "- instnace method(메소드)\n",
    "    - 객체가 데공하는 기능으로 사용자 정의 데이터 타입(class)의 연산자\n",
    "    - 클래스 구현부에 정의\n",
    "\n"
   ]
  },
  {
   "cell_type": "code",
   "execution_count": 1,
   "id": "c01798fa",
   "metadata": {},
   "outputs": [],
   "source": [
    "# person 이란 이름의 클래스 정의\n",
    "# class 이름 : 변수규칙과 동일\n",
    "#            관례 - 파스칼표기법(단어의 첫글자는 대문자로 하고 나머진 소문자.)\n",
    "# member_name :  snake표기\n",
    "# MemberName : 파스칼표기법\n",
    "# memberName : camel 표기법\n",
    "class Person: #클래스 선언부\n",
    "    pass # block내용이 없음 # 클래스 구현(block)"
   ]
  },
  {
   "cell_type": "code",
   "execution_count": 2,
   "id": "e7ff149e",
   "metadata": {},
   "outputs": [
    {
     "name": "stdout",
     "output_type": "stream",
     "text": [
      "<class '__main__.Person'>\n"
     ]
    }
   ],
   "source": [
    "# 객체 생성 -> 값을 생성\n",
    "# 클래스이름()\n",
    "p = Person()\n",
    "print(type(p))"
   ]
  },
  {
   "cell_type": "code",
   "execution_count": 3,
   "id": "bedc069b",
   "metadata": {},
   "outputs": [],
   "source": [
    "# Person 객체에 속성을 추가/조회\n",
    "# 객체의 속성/메소드에 접근(호출) - '.'표기법 사용\n",
    "# 초기화 : 처음 값을 대입\n",
    "p.name = '홍길동' #p의(.) 이름dms(=) 홍길동 # 객체.변수 표기법: 속성명을 변수로 처리\n",
    "p.age = 30\n",
    "p.address = '서울'"
   ]
  },
  {
   "cell_type": "code",
   "execution_count": 4,
   "id": "c4968433",
   "metadata": {},
   "outputs": [
    {
     "name": "stdout",
     "output_type": "stream",
     "text": [
      "이름 : 홍길동\n",
      "나이 : 30\n",
      "주소 : 서울\n"
     ]
    }
   ],
   "source": [
    "print('이름 :', p.name)\n",
    "print('나이 :', p.age)\n",
    "print('주소 :', p.address)"
   ]
  },
  {
   "cell_type": "code",
   "execution_count": 5,
   "id": "cbd2bb17",
   "metadata": {},
   "outputs": [
    {
     "name": "stdout",
     "output_type": "stream",
     "text": [
      "새나이 :  11\n"
     ]
    }
   ],
   "source": [
    "p.age = 11\n",
    "print('새나이 : ', p.age)"
   ]
  },
  {
   "cell_type": "markdown",
   "id": "0e3415cb",
   "metadata": {},
   "source": [
    "## 클래스에 메소드 정의\n",
    "- 클래스에 객체의 [속성과 관련된] 연산자(함수)를 추가하는 개념\n",
    "```python\n",
    "#메소드 구문\n",
    "# 1개 이상의 매개변수 정의, 첫번째 매개변수의름은 관례적으로 self로 준다. self는 개체를 받는다.\n",
    "def 메소드이름(self, v1, v2, ...): \n",
    "    구현\n",
    "```"
   ]
  },
  {
   "cell_type": "code",
   "execution_count": 6,
   "id": "c362e07a",
   "metadata": {},
   "outputs": [],
   "source": [
    "class Person2:\n",
    "    \n",
    "    #사람의 속성값을 모두 출력하는 메소드\n",
    "    def print_info(self):\n",
    "        info = f'이름 : {self.name}, 나이 : {self.age}, 주소 : {self.address}'\n",
    "        # self.name : 이 클래스로부터 생성된 객체(self)의(.) 속성 neme\n",
    "        \n",
    "        print(info)\n",
    "        \n",
    "    # 나이에 특정 값을 더하는 메소드\n",
    "    def add_age(self, value): # value는 age에 더할 값 호출하는 곳에서 받을 값을 저장할 매개변수는 두번째 변수부터 선언.\n",
    "        self.age = self.age + value"
   ]
  },
  {
   "cell_type": "code",
   "execution_count": 7,
   "id": "4dae9909",
   "metadata": {},
   "outputs": [],
   "source": [
    "p2 = Person2()\n",
    "p2.name = '홍길동'\n",
    "p2.age = 25\n",
    "p2.address = '인천'"
   ]
  },
  {
   "cell_type": "code",
   "execution_count": 8,
   "id": "8972ad7e",
   "metadata": {},
   "outputs": [
    {
     "name": "stdout",
     "output_type": "stream",
     "text": [
      "이름 : 홍길동, 나이 : 25, 주소 : 인천\n"
     ]
    }
   ],
   "source": [
    "p2.print_info()"
   ]
  },
  {
   "cell_type": "code",
   "execution_count": 9,
   "id": "271db0e6",
   "metadata": {},
   "outputs": [
    {
     "name": "stdout",
     "output_type": "stream",
     "text": [
      "이름 : 홍길동, 나이 : 25, 주소 : 수원\n"
     ]
    }
   ],
   "source": [
    "p2.address = '수원'\n",
    "p2.print_info()"
   ]
  },
  {
   "cell_type": "code",
   "execution_count": 10,
   "id": "cb7a7bec",
   "metadata": {},
   "outputs": [
    {
     "name": "stdout",
     "output_type": "stream",
     "text": [
      "이름 : 홍길동, 나이 : 28, 주소 : 수원\n"
     ]
    }
   ],
   "source": [
    "p2.add_age(3)\n",
    "p2.print_info()"
   ]
  },
  {
   "cell_type": "code",
   "execution_count": 11,
   "id": "1c39dde7",
   "metadata": {},
   "outputs": [],
   "source": [
    "# int 타입 :1 int 값 : 1, 2, 4, -1, 2, 3000, 1, 1, 1,\n",
    "# 클래스 : 타입 1 객체 값 : 무한대\n",
    "\n",
    "#Person2 클래스애서 객체 3개 생성\n",
    "p1 = Person2()\n",
    "p2 = Person2()\n",
    "p3 = Person2()"
   ]
  },
  {
   "cell_type": "code",
   "execution_count": 12,
   "id": "007aa375",
   "metadata": {},
   "outputs": [],
   "source": [
    "p1.name = '이름1'\n",
    "p1.age = 10\n",
    "p1.address = '주소1'"
   ]
  },
  {
   "cell_type": "code",
   "execution_count": 13,
   "id": "f7c77491",
   "metadata": {},
   "outputs": [],
   "source": [
    "p2.name = '이름2'\n",
    "p2.age = 20\n",
    "p2.address = '주소2'"
   ]
  },
  {
   "cell_type": "code",
   "execution_count": 14,
   "id": "8870cacb",
   "metadata": {},
   "outputs": [],
   "source": [
    "p3.name = '이름3'\n",
    "p3.age = 30\n",
    "p3.address = '주소3'\n",
    "p3.email = 'abc@a.com'"
   ]
  },
  {
   "cell_type": "code",
   "execution_count": 15,
   "id": "59d494e5",
   "metadata": {},
   "outputs": [
    {
     "name": "stdout",
     "output_type": "stream",
     "text": [
      "이름 : 이름1, 나이 : 50, 주소 : 주소1\n"
     ]
    }
   ],
   "source": [
    "p1.add_age(40)\n",
    "p1.print_info()"
   ]
  },
  {
   "cell_type": "code",
   "execution_count": 16,
   "id": "b8bfad4e",
   "metadata": {},
   "outputs": [
    {
     "ename": "AttributeError",
     "evalue": "'Person2' object has no attribute 'pop'",
     "output_type": "error",
     "traceback": [
      "\u001b[1;31m---------------------------------------------------------------------------\u001b[0m",
      "\u001b[1;31mAttributeError\u001b[0m                            Traceback (most recent call last)",
      "\u001b[1;32m~\\AppData\\Local\\Temp/ipykernel_19596/3763313902.py\u001b[0m in \u001b[0;36m<module>\u001b[1;34m\u001b[0m\n\u001b[0;32m      1\u001b[0m \u001b[1;31m# p2 :  Person2에서 생성된 객체 ∴ Person2에 정의된 메소드만 호출 가능\u001b[0m\u001b[1;33m\u001b[0m\u001b[1;33m\u001b[0m\u001b[0m\n\u001b[1;32m----> 2\u001b[1;33m \u001b[0mp2\u001b[0m\u001b[1;33m.\u001b[0m\u001b[0mpop\u001b[0m\u001b[1;33m(\u001b[0m\u001b[1;34m'name'\u001b[0m\u001b[1;33m)\u001b[0m\u001b[1;33m\u001b[0m\u001b[1;33m\u001b[0m\u001b[0m\n\u001b[0m",
      "\u001b[1;31mAttributeError\u001b[0m: 'Person2' object has no attribute 'pop'"
     ]
    }
   ],
   "source": [
    "# p2 :  Person2에서 생성된 객체 ∴ Person2에 정의된 메소드만 호출 가능\n",
    "p2.pop('name')"
   ]
  },
  {
   "cell_type": "code",
   "execution_count": 17,
   "id": "cc4692ee",
   "metadata": {},
   "outputs": [
    {
     "ename": "AttributeError",
     "evalue": "'Person2' object has no attribute 'name'",
     "output_type": "error",
     "traceback": [
      "\u001b[1;31m---------------------------------------------------------------------------\u001b[0m",
      "\u001b[1;31mAttributeError\u001b[0m                            Traceback (most recent call last)",
      "\u001b[1;32m~\\AppData\\Local\\Temp/ipykernel_19596/4099170323.py\u001b[0m in \u001b[0;36m<module>\u001b[1;34m\u001b[0m\n\u001b[0;32m      1\u001b[0m \u001b[1;31m# AttributeError : 객체에 없는 속성/메소드를 호출(조회)할 때 발생하는 에러\u001b[0m\u001b[1;33m\u001b[0m\u001b[1;33m\u001b[0m\u001b[0m\n\u001b[0;32m      2\u001b[0m \u001b[0mp4\u001b[0m \u001b[1;33m=\u001b[0m \u001b[0mPerson2\u001b[0m\u001b[1;33m(\u001b[0m\u001b[1;33m)\u001b[0m\u001b[1;33m\u001b[0m\u001b[1;33m\u001b[0m\u001b[0m\n\u001b[1;32m----> 3\u001b[1;33m \u001b[0mp4\u001b[0m\u001b[1;33m.\u001b[0m\u001b[0mprint_info\u001b[0m\u001b[1;33m(\u001b[0m\u001b[1;33m)\u001b[0m \u001b[1;31m# 속성값을 미설정했기 때문에 출력 불가\u001b[0m\u001b[1;33m\u001b[0m\u001b[1;33m\u001b[0m\u001b[0m\n\u001b[0m\u001b[0;32m      4\u001b[0m \u001b[0mp4\u001b[0m\u001b[1;33m.\u001b[0m\u001b[0madd_age\u001b[0m\u001b[1;33m(\u001b[0m\u001b[1;36m2\u001b[0m\u001b[1;33m)\u001b[0m \u001b[1;31m# age를 할당 하지 않았기 때문에 호출 불가\u001b[0m\u001b[1;33m\u001b[0m\u001b[1;33m\u001b[0m\u001b[0m\n",
      "\u001b[1;32m~\\AppData\\Local\\Temp/ipykernel_19596/3116490908.py\u001b[0m in \u001b[0;36mprint_info\u001b[1;34m(self)\u001b[0m\n\u001b[0;32m      3\u001b[0m     \u001b[1;31m#사람의 속성값을 모두 출력하는 메소드\u001b[0m\u001b[1;33m\u001b[0m\u001b[1;33m\u001b[0m\u001b[0m\n\u001b[0;32m      4\u001b[0m     \u001b[1;32mdef\u001b[0m \u001b[0mprint_info\u001b[0m\u001b[1;33m(\u001b[0m\u001b[0mself\u001b[0m\u001b[1;33m)\u001b[0m\u001b[1;33m:\u001b[0m\u001b[1;33m\u001b[0m\u001b[1;33m\u001b[0m\u001b[0m\n\u001b[1;32m----> 5\u001b[1;33m         \u001b[0minfo\u001b[0m \u001b[1;33m=\u001b[0m \u001b[1;34mf'이름 : {self.name}, 나이 : {self.age}, 주소 : {self.address}'\u001b[0m\u001b[1;33m\u001b[0m\u001b[1;33m\u001b[0m\u001b[0m\n\u001b[0m\u001b[0;32m      6\u001b[0m         \u001b[1;31m# self.name : 이 클래스로부터 생성된 객체(self)의(.) 속성 neme\u001b[0m\u001b[1;33m\u001b[0m\u001b[1;33m\u001b[0m\u001b[0m\n\u001b[0;32m      7\u001b[0m \u001b[1;33m\u001b[0m\u001b[0m\n",
      "\u001b[1;31mAttributeError\u001b[0m: 'Person2' object has no attribute 'name'"
     ]
    }
   ],
   "source": [
    "# AttributeError : 객체에 없는 속성/메소드를 호출(조회)할 때 발생하는 에러\n",
    "p4 = Person2()\n",
    "p4.print_info() # 속성값을 미설정했기 때문에 출력 불가\n",
    "p4.add_age(2) # age를 할당 하지 않았기 때문에 호출 불가"
   ]
  },
  {
   "cell_type": "markdown",
   "id": "98cd85e5",
   "metadata": {},
   "source": [
    "## initializer 메소드 (constructor-생성자)\n",
    "- 객체 생성 시점에 속성값들을 초기화 하도록 강제하는 시스템\n",
    "    - **객체를 구성하는 Attribute들을 정의 초기화하는 역할**\n",
    "        - 객체를 생성하는 곳으로부터 argument로 반드시 받아야하는 것은 기본값이 없는 매개변수로 선언한다.\n",
    "        - 객체를 생성하는 곳에서 값을 줄 수도 안 줄 수도 있는 경우 기본값이 있는 매개변수로 선언한다.\n",
    "    - 객체 생성 후 메소드들이 호출되기 전 반드시 생성되어야 하는 attribute들을 객체에 설정하는 역할\n",
    "    - default 속성들을 설정해주는 메소드\n",
    "- 객체 생성 시 호출되는 메소드\n",
    "    - self로 생성되는 객체를 받음"
   ]
  },
  {
   "cell_type": "code",
   "execution_count": 18,
   "id": "6e22620d",
   "metadata": {},
   "outputs": [],
   "source": [
    "class Test:\n",
    "    \n",
    "    # initializer : 이름 - __init__(self, 변수들...)\n",
    "    def __init__(self, var5 = None):\n",
    "        print('test의 __init__() 실행')\n",
    "        self.var1 = '변수1'\n",
    "        self.var2 = '변수2'\n",
    "        self.var3 = True\n",
    "        self.var4 = 10000\n",
    "        self.var5 = var5 # 매개변수(지역변수) var5로 받은 값을 attribute var5에 대입"
   ]
  },
  {
   "cell_type": "code",
   "execution_count": 19,
   "id": "ea4e2032",
   "metadata": {},
   "outputs": [
    {
     "name": "stdout",
     "output_type": "stream",
     "text": [
      "test의 __init__() 실행\n"
     ]
    }
   ],
   "source": [
    "t = Test() # 객체생성 : 클래스이름() 클래스의 initializer를 호출"
   ]
  },
  {
   "cell_type": "code",
   "execution_count": 20,
   "id": "43caf6a0",
   "metadata": {},
   "outputs": [
    {
     "name": "stdout",
     "output_type": "stream",
     "text": [
      "변수1 변수2 True 10000 None\n"
     ]
    }
   ],
   "source": [
    "print(t.var1, t.var2, t.var3, t.var4, t.var5)"
   ]
  },
  {
   "cell_type": "code",
   "execution_count": 21,
   "id": "20d22175",
   "metadata": {},
   "outputs": [
    {
     "name": "stdout",
     "output_type": "stream",
     "text": [
      "test의 __init__() 실행\n"
     ]
    }
   ],
   "source": [
    "t1 = Test(200)"
   ]
  },
  {
   "cell_type": "code",
   "execution_count": 22,
   "id": "7040e7fd",
   "metadata": {},
   "outputs": [],
   "source": [
    "class Person3:\n",
    "    #name, age, address  속성을 초기화하는 initializer \n",
    "    def __init__(self, name, age, address=None):# , email=None, telnum=None):\n",
    "        self.name = name  #Attribute = Parameter\n",
    "        self.age = age\n",
    "        self.address = address\n",
    "        # self.point = 10000  # 모든 객체에 같은 값을 넣는 Attribute.\n",
    "    \n",
    "    # 사람의 속성값들을 모두 출력하는 메소드\n",
    "    def print_info(self):\n",
    "        info = f\"이름: {self.name}, 나이: {self.age}, 주소: {self.address}\"  \n",
    "        print(info)\n",
    "        \n",
    "    # 나이에 특정 값을 더하는 메소드\n",
    "    def add_age(self, value): # value는 age에 더할 값 호출하는 곳에서 받을 값을 저장할 매개변수는 두번째 변수부터 선언\n",
    "        self.age = self.age + value"
   ]
  },
  {
   "cell_type": "code",
   "execution_count": 23,
   "id": "a64a8fd4",
   "metadata": {},
   "outputs": [
    {
     "name": "stdout",
     "output_type": "stream",
     "text": [
      "이름: 홍길동, 나이: 20, 주소: None\n",
      "이름: 홍길동, 나이: 25, 주소: None\n"
     ]
    }
   ],
   "source": [
    "p = Person3(\"홍길동\", 20)\n",
    "p.print_info()\n",
    "p.add_age(5)\n",
    "p.print_info()"
   ]
  },
  {
   "cell_type": "code",
   "execution_count": 24,
   "id": "8b4f4a45",
   "metadata": {},
   "outputs": [
    {
     "name": "stdout",
     "output_type": "stream",
     "text": [
      "이름: 이순신, 나이: 30, 주소: 서울\n"
     ]
    }
   ],
   "source": [
    "p2 = Person3('이순신', 30, '서울')\n",
    "p2.print_info()"
   ]
  },
  {
   "cell_type": "code",
   "execution_count": 25,
   "id": "b00f1f68",
   "metadata": {},
   "outputs": [
    {
     "name": "stdout",
     "output_type": "stream",
     "text": [
      "이름: 이순신, 나이: 30, 주소: 서울\n"
     ]
    }
   ],
   "source": [
    "p2 = Person3('이순신', 30, '서울')\n",
    "p2.print_info()"
   ]
  },
  {
   "cell_type": "code",
   "execution_count": 26,
   "id": "dfa38add",
   "metadata": {},
   "outputs": [
    {
     "data": {
      "text/plain": [
       "type"
      ]
     },
     "execution_count": 26,
     "metadata": {},
     "output_type": "execute_result"
    }
   ],
   "source": [
    "type(Person3) # type(class 이름) => type으로 출력됨"
   ]
  },
  {
   "cell_type": "code",
   "execution_count": 27,
   "id": "89cd2f92",
   "metadata": {},
   "outputs": [
    {
     "data": {
      "text/plain": [
       "{'name': '이름3', 'age': 30, 'address': '주소3', 'email': 'abc@a.com'}"
      ]
     },
     "execution_count": 27,
     "metadata": {},
     "output_type": "execute_result"
    }
   ],
   "source": [
    "p3.__dict__ # .__dict__ : instance 조회 명령여"
   ]
  },
  {
   "cell_type": "markdown",
   "id": "988dc1f7",
   "metadata": {},
   "source": [
    "## 정보은닉 (information hidding)\n",
    "- Attribute에 아무 값이나 대입하지 못하게 하고 어떤 규칙을 설정하고 싶을 때 적용\n",
    "1. Attribute에 접근하는 것을 막음.\n",
    "    - Attribute 이름 앞에 __(double underscore)를 붇인다. **뒤에는 붙여선 안됨**\n",
    "        - 내부적으로 면수의 이름을 `_클래스이름_속셩명`으로 변환해서 객체에 저장 (메소드에서 self.\\_\\_변수로 설정한 경우)\n",
    "1. Attribute의 값을 변경하는 메소드(여기에 변경규칙을 넣음) - setter    \n",
    "   Attribute의 값을 반환하는 메소드 - getter    \n",
    "   를 제공한다\n",
    "  "
   ]
  },
  {
   "cell_type": "code",
   "execution_count": 28,
   "id": "d0755910",
   "metadata": {},
   "outputs": [],
   "source": [
    "class Person4:\n",
    "    \n",
    "    def __init__(self, age):\n",
    "        if age >= 0:\n",
    "            self.__age = age\n",
    "        else:\n",
    "            self.__age = None\n",
    "    # age 속성값을 변경하는 메소드 - setter\n",
    "    def set_age(self, age):\n",
    "        if age >= 0:\n",
    "            self.__age = age  # 같은 클래스에서는 __변수를 호출 가능\n",
    "\n",
    "    # age 속성값을 반환하는 메소드 - getter\n",
    "    def get_age(self):\n",
    "        return self.__age\n"
   ]
  },
  {
   "cell_type": "code",
   "execution_count": 29,
   "id": "dcf9dc11",
   "metadata": {},
   "outputs": [],
   "source": [
    "p = Person4(20)"
   ]
  },
  {
   "cell_type": "code",
   "execution_count": 30,
   "id": "545c2e43",
   "metadata": {},
   "outputs": [
    {
     "data": {
      "text/plain": [
       "{'_Person4__age': 20}"
      ]
     },
     "execution_count": 30,
     "metadata": {},
     "output_type": "execute_result"
    }
   ],
   "source": [
    "p.__dict__"
   ]
  },
  {
   "cell_type": "code",
   "execution_count": 31,
   "id": "2b6cc252",
   "metadata": {},
   "outputs": [
    {
     "data": {
      "text/plain": [
       "{'_Person4__age': 30}"
      ]
     },
     "execution_count": 31,
     "metadata": {},
     "output_type": "execute_result"
    }
   ],
   "source": [
    "# 변경\n",
    "p.set_age(30)\n",
    "p.__dict__"
   ]
  },
  {
   "cell_type": "code",
   "execution_count": 32,
   "id": "5978a81e",
   "metadata": {},
   "outputs": [
    {
     "data": {
      "text/plain": [
       "{'_Person4__age': 30}"
      ]
     },
     "execution_count": 32,
     "metadata": {},
     "output_type": "execute_result"
    }
   ],
   "source": [
    "p.set_age(-50)\n",
    "p.__dict__"
   ]
  },
  {
   "cell_type": "code",
   "execution_count": 33,
   "id": "5eaa4db0",
   "metadata": {},
   "outputs": [
    {
     "name": "stdout",
     "output_type": "stream",
     "text": [
      "30\n"
     ]
    }
   ],
   "source": [
    "print(p.get_age())"
   ]
  },
  {
   "cell_type": "markdown",
   "id": "7a3f8555",
   "metadata": {},
   "source": [
    "#### setter,getter 메소드를 변수처럼 호출할 수 있도록 처리\n",
    "1. property()함수 사용\n",
    "1. property decorator를 이용"
   ]
  },
  {
   "cell_type": "code",
   "execution_count": 34,
   "id": "ef48878a",
   "metadata": {},
   "outputs": [],
   "source": [
    "# property() 함수를 이용\n",
    "class Person5:\n",
    "    \n",
    "    def __init__(self, name, age):\n",
    "        if name: #한글자 이상이면 넣어라.\n",
    "            self.__name = name\n",
    "        if age >= 0: # 양수이면 넣어라.\n",
    "            self.__age = age\n",
    "            \n",
    "    # name 의 setter/getter\n",
    "    def set_name(self, name):\n",
    "        if name: #한글자 이상이면 넣어라.\n",
    "            self.__name = name\n",
    "\n",
    "    def get_name(self):\n",
    "        return self.__name\n",
    "    \n",
    "    # age의 setter/getter \n",
    "    def set_age(self, age):\n",
    "        if age>=0:\n",
    "            self.__age = age\n",
    "            \n",
    "    def get_age(self):\n",
    "        return self.__age\n",
    "    \n",
    "#  변수명 = property(getter, setter)  객체.변수명 으로 값을 조회할 경우 getter메소드 호출, 값을 대입하면 setter메소드를 호출\n",
    "    name = property(get_name, set_name)\n",
    "    age = property(get_age, set_age)"
   ]
  },
  {
   "cell_type": "code",
   "execution_count": 35,
   "id": "41c2b673",
   "metadata": {},
   "outputs": [
    {
     "data": {
      "text/plain": [
       "{'_Person5__name': '홍길동', '_Person5__age': 30}"
      ]
     },
     "execution_count": 35,
     "metadata": {},
     "output_type": "execute_result"
    }
   ],
   "source": [
    "p = Person5('홍길동', 30)\n",
    "p.__dict__"
   ]
  },
  {
   "cell_type": "code",
   "execution_count": 36,
   "id": "230ec379",
   "metadata": {},
   "outputs": [
    {
     "data": {
      "text/plain": [
       "{'_Person5__name': '홍길동', '_Person5__age': 30}"
      ]
     },
     "execution_count": 36,
     "metadata": {},
     "output_type": "execute_result"
    }
   ],
   "source": [
    "# name 속성에 값을 대입 => set_name\n",
    "# p.name = '유관순'\n",
    "p.name = None\n",
    "p.__dict__"
   ]
  },
  {
   "cell_type": "code",
   "execution_count": 37,
   "id": "a45d265f",
   "metadata": {},
   "outputs": [
    {
     "data": {
      "text/plain": [
       "{'_Person5__name': '홍길동', '_Person5__age': 30}"
      ]
     },
     "execution_count": 37,
     "metadata": {},
     "output_type": "execute_result"
    }
   ],
   "source": [
    "# p.age = 50 #==set_age\n",
    "p.age = -40\n",
    "p.__dict__"
   ]
  },
  {
   "cell_type": "code",
   "execution_count": 38,
   "id": "8cfa4068",
   "metadata": {},
   "outputs": [
    {
     "name": "stdout",
     "output_type": "stream",
     "text": [
      "30 홍길동\n"
     ]
    }
   ],
   "source": [
    "print(p.age, p.name)  #name, age 속성을 조회 -> getter 이 호출된다."
   ]
  },
  {
   "cell_type": "code",
   "execution_count": 39,
   "id": "7fbc382f",
   "metadata": {},
   "outputs": [],
   "source": [
    "# decorator를 이용하여 setter/ getter를 변수처럼 사용\n",
    "# 1. setter/ getter 메소드의 이름 사용할 변수명을 준다.\n",
    "# 2. getter 메소드에 @property 데코레이터를 붙인다.\n",
    "#    setter 메소드에 @getter.메소드명.setter 데코레이터를 붙인다.\n",
    "class Person6:\n",
    "    def __init__(self, name, age):\n",
    "        if name: #한글자 이상이면 넣어라.\n",
    "            self.__name = name\n",
    "        if age >= 0: # 양수이면 넣어라.\n",
    "            self.__age = age\n",
    "    \n",
    "    @property\n",
    "    def name(self): #getter\n",
    "        return self.__name\n",
    "    \n",
    "    @name.setter  #name에 대한 setter\n",
    "    def name(self, name): #setter\n",
    "        # print('name setter')\n",
    "        if name:\n",
    "            self.__name = name\n",
    "\n",
    "    @property  #age의 getter\n",
    "    def age(self):\n",
    "        return self.__age\n",
    "    \n",
    "    @age.setter #age의 setter\n",
    "    def age(self, age):\n",
    "        if age>=0:\n",
    "            self.__age = age\n"
   ]
  },
  {
   "cell_type": "code",
   "execution_count": 40,
   "id": "8b271418",
   "metadata": {},
   "outputs": [
    {
     "data": {
      "text/plain": [
       "{'_Person6__name': '이순신', '_Person6__age': 10}"
      ]
     },
     "execution_count": 40,
     "metadata": {},
     "output_type": "execute_result"
    }
   ],
   "source": [
    "p = Person6('이순신', 10)\n",
    "p.__dict__"
   ]
  },
  {
   "cell_type": "code",
   "execution_count": 41,
   "id": "de9cba41",
   "metadata": {},
   "outputs": [
    {
     "data": {
      "text/plain": [
       "{'_Person6__name': '이순신', '_Person6__age': 10}"
      ]
     },
     "execution_count": 41,
     "metadata": {},
     "output_type": "execute_result"
    }
   ],
   "source": [
    "# p.name = '홍길동'  #name setter호출\n",
    "# p.name = ''\n",
    "p.name = None\n",
    "p.__dict__"
   ]
  },
  {
   "cell_type": "code",
   "execution_count": 42,
   "id": "2e8e36b0",
   "metadata": {},
   "outputs": [
    {
     "data": {
      "text/plain": [
       "{'_Person6__name': '이순신', '_Person6__age': 10}"
      ]
     },
     "execution_count": 42,
     "metadata": {},
     "output_type": "execute_result"
    }
   ],
   "source": [
    "# p.age = 100\n",
    "p.age = -20\n",
    "p.__dict__"
   ]
  },
  {
   "cell_type": "code",
   "execution_count": 43,
   "id": "c3b14673",
   "metadata": {},
   "outputs": [
    {
     "name": "stdout",
     "output_type": "stream",
     "text": [
      "이순신 10\n"
     ]
    }
   ],
   "source": [
    "print(p.name, p.age)"
   ]
  },
  {
   "cell_type": "markdown",
   "id": "453160cb",
   "metadata": {},
   "source": [
    "# 상속 (inheritance)"
   ]
  },
  {
   "cell_type": "code",
   "execution_count": 44,
   "id": "d8a97082",
   "metadata": {},
   "outputs": [],
   "source": [
    "class Person:\n",
    "    def eat(self):\n",
    "        print('점심을 먹는다.')"
   ]
  },
  {
   "cell_type": "code",
   "execution_count": 45,
   "id": "6a8a0b23",
   "metadata": {},
   "outputs": [],
   "source": [
    "class Student(Person): # Person을 상속 받은 Student 클래스를 정의\n",
    "    # def eat(self):\n",
    "       # print('점심을 먹는다.')    \n",
    "        \n",
    "    \n",
    "    def study(self):\n",
    "        print('공부를 한다.')    \n",
    "    "
   ]
  },
  {
   "cell_type": "code",
   "execution_count": 46,
   "id": "db2f3866",
   "metadata": {},
   "outputs": [
    {
     "name": "stdout",
     "output_type": "stream",
     "text": [
      "점심을 먹는다.\n"
     ]
    }
   ],
   "source": [
    "p = Person()\n",
    "p.eat()"
   ]
  },
  {
   "cell_type": "code",
   "execution_count": 47,
   "id": "889d3369",
   "metadata": {},
   "outputs": [
    {
     "name": "stdout",
     "output_type": "stream",
     "text": [
      "점심을 먹는다.\n",
      "공부를 한다.\n"
     ]
    }
   ],
   "source": [
    "s = Student()\n",
    "s.eat()\n",
    "s.study()"
   ]
  },
  {
   "cell_type": "code",
   "execution_count": 48,
   "id": "5630e8ac",
   "metadata": {},
   "outputs": [],
   "source": [
    "class Person2:\n",
    "    \n",
    "    def __init__(self, name):\n",
    "        self.name = name\n",
    "        \n",
    "    def eat(self):\n",
    "        print(f'{self.name}이 점심을 먹는다.')\n",
    "        \n",
    "    def get_info(self):\n",
    "        \"\"\"\n",
    "        Person 객체가 가지는 정보(name)를 이름 : name 형식으로 반환하는 메소드\n",
    "        \"\"\"\n",
    "        return f'이름 : {self.name}'"
   ]
  },
  {
   "cell_type": "code",
   "execution_count": 49,
   "id": "eea4f33f",
   "metadata": {},
   "outputs": [],
   "source": [
    "class Student2(Person2): # Person2을 상속 받은 Student2 클래스를 정의\n",
    "\n",
    "    def __init__(self, name, subject):\n",
    "        super().__init__(name) # super() : 상위 클래스를 가리킴,  super().__init__(name) : 상위 클래스의 __init__() 메소드 호출\n",
    "        self.subject = subject\n",
    "        \n",
    "    def study(self):\n",
    "        print(f'{self.subject}과목을 공부를 한다.')    \n",
    "        \n",
    "    def get_info(self): # 상위 클래스인 Person2의 get_info()의 메소드를 하위 클래스인 Student에서 재정의(내용만 수정) => metheod overriding\n",
    "        v = super().get_info() # metheod overriding한 메소드 상위 클래스의 원본메소드를 호출할 경우 : super()\n",
    "        return f'{v}, 과목 : {self.subject}'"
   ]
  },
  {
   "cell_type": "code",
   "execution_count": 50,
   "id": "5d0145f4",
   "metadata": {},
   "outputs": [],
   "source": [
    "class Teacher(Person2):\n",
    "\n",
    "    def __init__(self, name, job):\n",
    "        super().__init__(name)\n",
    "        self.job = job\n",
    "        \n",
    "    def get_teacher_info(self):\n",
    "        return f'이름 :{self.name}, 과목 : {self.job}'"
   ]
  },
  {
   "cell_type": "code",
   "execution_count": 51,
   "id": "3a7de50c",
   "metadata": {},
   "outputs": [
    {
     "name": "stdout",
     "output_type": "stream",
     "text": [
      "python과목을 공부를 한다.\n"
     ]
    }
   ],
   "source": [
    "s2 = Student2('홍길동', 'python')\n",
    "s2.study()"
   ]
  },
  {
   "cell_type": "code",
   "execution_count": 52,
   "id": "08edc09d",
   "metadata": {},
   "outputs": [
    {
     "name": "stdout",
     "output_type": "stream",
     "text": [
      "홍길동이 점심을 먹는다.\n"
     ]
    }
   ],
   "source": [
    "s2.eat()"
   ]
  },
  {
   "cell_type": "code",
   "execution_count": 53,
   "id": "0656fe88",
   "metadata": {},
   "outputs": [
    {
     "name": "stdout",
     "output_type": "stream",
     "text": [
      "이름 : 홍길동, 과목 : python\n"
     ]
    }
   ],
   "source": [
    "# v = s2.get_stu_info()\n",
    "v = s2.get_info()\n",
    "print(v)"
   ]
  },
  {
   "cell_type": "code",
   "execution_count": 54,
   "id": "18ae1aea",
   "metadata": {},
   "outputs": [
    {
     "name": "stdout",
     "output_type": "stream",
     "text": [
      "이름 : 이순신\n"
     ]
    }
   ],
   "source": [
    "p2 = Person2('이순신')\n",
    "v2 = p2.get_info()\n",
    "print(v2)"
   ]
  },
  {
   "cell_type": "code",
   "execution_count": 55,
   "id": "e184baba",
   "metadata": {},
   "outputs": [
    {
     "name": "stdout",
     "output_type": "stream",
     "text": [
      "이름 : 박선생\n"
     ]
    }
   ],
   "source": [
    "t = Teacher('박선생', '교무주임')\n",
    "v3 = t.get_info()\n",
    "print(v3)"
   ]
  },
  {
   "cell_type": "code",
   "execution_count": 56,
   "id": "d6ee043e",
   "metadata": {},
   "outputs": [
    {
     "name": "stdout",
     "output_type": "stream",
     "text": [
      "박선생이 점심을 먹는다.\n",
      "홍길동이 점심을 먹는다.\n"
     ]
    }
   ],
   "source": [
    "t.eat()\n",
    "s2.eat()"
   ]
  },
  {
   "cell_type": "code",
   "execution_count": 57,
   "id": "0e875d75",
   "metadata": {},
   "outputs": [
    {
     "data": {
      "text/plain": [
       "{'name': '박선생', 'job': '교무주임'}"
      ]
     },
     "execution_count": 57,
     "metadata": {},
     "output_type": "execute_result"
    }
   ],
   "source": [
    "t.__dict__ # 객체가 가지고 있는 instance 변수들과 대입된 값을 dictionary 에 넣어 반환"
   ]
  },
  {
   "cell_type": "code",
   "execution_count": 58,
   "id": "4dfb9c5d",
   "metadata": {},
   "outputs": [
    {
     "data": {
      "text/plain": [
       "(__main__.Teacher, __main__.Person2)"
      ]
     },
     "execution_count": 58,
     "metadata": {},
     "output_type": "execute_result"
    }
   ],
   "source": [
    "t.__class__, p2.__class__ # 객체의 타입을 반환"
   ]
  },
  {
   "cell_type": "code",
   "execution_count": 59,
   "id": "5190bf2f",
   "metadata": {},
   "outputs": [
    {
     "data": {
      "text/plain": [
       "True"
      ]
     },
     "execution_count": 59,
     "metadata": {},
     "output_type": "execute_result"
    }
   ],
   "source": [
    "# isinstance(객체, 클래스이름) : 객체가 클래스이름의 하위 클래스인지 확인\n",
    "isinstance(t,Person2) # t 객체는 Person2 하위 클래스에서 생성된 객체"
   ]
  },
  {
   "cell_type": "markdown",
   "id": "c6f35055",
   "metadata": {},
   "source": [
    "##  특수 매소드들 (여기부터 넣기)"
   ]
  },
  {
   "cell_type": "code",
   "execution_count": 60,
   "id": "709ab936",
   "metadata": {},
   "outputs": [],
   "source": [
    "class Test:\n",
    "    \n",
    "    #initializer : 객체 생성 시 호출 (attribute 초기화)\n",
    "    def __init__(self,num):\n",
    "        self.num = num\n",
    "    \n",
    "    # 객체를 함수처럼 호출하면 실행괴는 메소드\n",
    "    def __call__(self, cnt):\n",
    "        print(self.num + cnt)\n",
    "        return self.num * cnt\n",
    "    \n",
    "    # 객체를 문자열로 바꿀때 나올 string을 반환 => attribute변수의 값들을 하나로 합쳐 문자열로 반환\n",
    "    def __str__(self):\n",
    "        return f'num : {self.num}'\n",
    "    \n",
    "    def __repr__(self):\n",
    "        return 'Test'"
   ]
  },
  {
   "cell_type": "code",
   "execution_count": 61,
   "id": "8d545294",
   "metadata": {},
   "outputs": [],
   "source": [
    "test = Test(10)"
   ]
  },
  {
   "cell_type": "code",
   "execution_count": 62,
   "id": "720c60c0",
   "metadata": {},
   "outputs": [
    {
     "name": "stdout",
     "output_type": "stream",
     "text": [
      "60\n"
     ]
    },
    {
     "data": {
      "text/plain": [
       "500"
      ]
     },
     "execution_count": 62,
     "metadata": {},
     "output_type": "execute_result"
    }
   ],
   "source": [
    "test(50)"
   ]
  },
  {
   "cell_type": "code",
   "execution_count": 63,
   "id": "eb5a182c",
   "metadata": {},
   "outputs": [
    {
     "name": "stdout",
     "output_type": "stream",
     "text": [
      "30\n",
      "200\n"
     ]
    }
   ],
   "source": [
    "a = Test(10)(20) # 객체 생성하면서 바로 __call__() 호출\n",
    "print(a)"
   ]
  },
  {
   "cell_type": "code",
   "execution_count": 64,
   "id": "38e5c1b7",
   "metadata": {},
   "outputs": [
    {
     "data": {
      "text/plain": [
       "'num : 10'"
      ]
     },
     "execution_count": 64,
     "metadata": {},
     "output_type": "execute_result"
    }
   ],
   "source": [
    "str(test)"
   ]
  },
  {
   "cell_type": "code",
   "execution_count": 65,
   "id": "0dd96d94",
   "metadata": {},
   "outputs": [
    {
     "data": {
      "text/plain": [
       "('num : 10', 'num : 20')"
      ]
     },
     "execution_count": 65,
     "metadata": {},
     "output_type": "execute_result"
    }
   ],
   "source": [
    "test = Test(10)\n",
    "test2 = Test(20)\n",
    "str(test), str(test2)"
   ]
  },
  {
   "cell_type": "code",
   "execution_count": 66,
   "id": "e245ceca",
   "metadata": {},
   "outputs": [
    {
     "data": {
      "text/plain": [
       "Test"
      ]
     },
     "execution_count": 66,
     "metadata": {},
     "output_type": "execute_result"
    }
   ],
   "source": [
    "test # __repr__() : cell에서 객체를 그냥 출력하면 호출"
   ]
  },
  {
   "cell_type": "code",
   "execution_count": 67,
   "id": "6fee9d09",
   "metadata": {},
   "outputs": [
    {
     "name": "stdout",
     "output_type": "stream",
     "text": [
      "num : 10\n"
     ]
    }
   ],
   "source": [
    "print(test) # print()함수는 문자열로 변환한 후 출력 __str__()"
   ]
  },
  {
   "cell_type": "code",
   "execution_count": 68,
   "id": "4c46b3fa",
   "metadata": {},
   "outputs": [
    {
     "data": {
      "text/plain": [
       "'abc'"
      ]
     },
     "execution_count": 68,
     "metadata": {},
     "output_type": "execute_result"
    }
   ],
   "source": [
    "'abc' # str.__repr__()"
   ]
  },
  {
   "cell_type": "code",
   "execution_count": 69,
   "id": "aa65ce91",
   "metadata": {},
   "outputs": [
    {
     "data": {
      "text/plain": [
       "'num : 10'"
      ]
     },
     "execution_count": 69,
     "metadata": {},
     "output_type": "execute_result"
    }
   ],
   "source": [
    "str(test) # str.__str__()"
   ]
  },
  {
   "cell_type": "code",
   "execution_count": 70,
   "id": "4edcaed5",
   "metadata": {},
   "outputs": [],
   "source": [
    "class Person:\n",
    "    \n",
    "    # class 변수 - 클래스 자체의 변수(데이터) - 객체별 다른 값을 저장하는 변수(attribute)가 아니라 모든 객체에 공통적으로 정의되는 값, \n",
    "    #              클래스의 속성을 정의할 때 사용\n",
    "    #              class 블럭에 정의. 접근: class이름.변수\n",
    "    job_list = ['교사', '학생']    \n",
    "    \n",
    "    \n",
    "    # class 메소드 - class변수를 다루는 메소드. 첫번째 매개변수로 class를 받는 매개변수를 선언. @classmethod 데코레이터를 선언\n",
    "    # 클래스이름.메소드()   Person.append_data_job_list(\"교직원\")\n",
    "    @classmethod\n",
    "    def append_data_job_list(cls, job):\n",
    "        print('append', cls)\n",
    "        cls.job_list.append(job)\n",
    "    \n",
    "    # static method - class의 메소드. class 변수나 instance 변수와 관계없는 기능을 처리하는 메소드. @staticmethod 데코레이터를 선언.\n",
    "    # 호출: class이름.메소드()\n",
    "    @staticmethod\n",
    "    def print_class_info():\n",
    "        print('Person 클래스는 우리가 관리하는 Person데이터를 표현한다.')\n",
    "    \n",
    "    \n",
    "    # initializer\n",
    "    def __init__(self, name, age, job=None):\n",
    "        self.name, self.age = name, age\n",
    "        self.job = job\n",
    "    \n",
    "    def add_age(self, v):\n",
    "        self.age += v\n",
    "    \n",
    "    \n",
    "    # 객체를 문자열로 변경할 때 호출. str(), print()\n",
    "    def __str__(self):\n",
    "        return f\"이름: {self.name}, 나이: {self.age}, 직무: {self.job}\"\n",
    "    \n",
    "    # 연산자 재정의\n",
    "    # __ne__(): p1 != p2, __lt__(): p1 < p2 , __gt__() : p1 > p2\n",
    "    def __eq__(self, obj):  # p1 == p2  (p1과 p2의 속성값이 같으면 True, 다르면 False)\n",
    "#         print('__eq__', isinstance(obj, Person))\n",
    "        result = False\n",
    "        if isinstance(obj, Person):\n",
    "#             if self.name == obj.name and self.age == obj.age:\n",
    "            if self.name == obj.name:\n",
    "                result = True        \n",
    "        return result\n",
    "    \n",
    "    def __gt__(self, obj):\n",
    "        result = False\n",
    "        if isinstance(obj, Person):  # p1 > p2\n",
    "            if self.age > obj.age:\n",
    "                result = True\n",
    "        else:\n",
    "            result = self.age > obj  #p1 > 10\n",
    "        \n",
    "        return result\n",
    "        \n",
    "    \n",
    "    def __add__(self, value):\n",
    "        # 덧셈을 재정의 : self의 나이에 value를 더한 값을 반환\n",
    "        return self.age + value"
   ]
  },
  {
   "cell_type": "code",
   "execution_count": 71,
   "id": "b7343ca9",
   "metadata": {},
   "outputs": [],
   "source": [
    "p1 = Person(\"홍길동\", 20)\n",
    "p2 = Person(\"홍길동\", 20)\n",
    "p3 = Person(\"홍길동\", 13)"
   ]
  },
  {
   "cell_type": "code",
   "execution_count": 72,
   "id": "3e5a1961",
   "metadata": {},
   "outputs": [
    {
     "name": "stdout",
     "output_type": "stream",
     "text": [
      "이름: 홍길동, 나이: 20, 직무: None\n"
     ]
    }
   ],
   "source": [
    "print(p1)"
   ]
  },
  {
   "cell_type": "code",
   "execution_count": 73,
   "id": "bcc0264e",
   "metadata": {},
   "outputs": [
    {
     "data": {
      "text/plain": [
       "True"
      ]
     },
     "execution_count": 73,
     "metadata": {},
     "output_type": "execute_result"
    }
   ],
   "source": [
    "p1 > 10"
   ]
  },
  {
   "cell_type": "code",
   "execution_count": 74,
   "id": "c9cb26a7",
   "metadata": {},
   "outputs": [
    {
     "data": {
      "text/plain": [
       "True"
      ]
     },
     "execution_count": 74,
     "metadata": {},
     "output_type": "execute_result"
    }
   ],
   "source": [
    "p1 > p3"
   ]
  },
  {
   "cell_type": "code",
   "execution_count": 75,
   "id": "4d5d2684",
   "metadata": {},
   "outputs": [
    {
     "data": {
      "text/plain": [
       "True"
      ]
     },
     "execution_count": 75,
     "metadata": {},
     "output_type": "execute_result"
    }
   ],
   "source": [
    "p1 == p2   # p1.__eq__(p2)"
   ]
  },
  {
   "cell_type": "code",
   "execution_count": 76,
   "id": "b4e8c413",
   "metadata": {},
   "outputs": [
    {
     "data": {
      "text/plain": [
       "True"
      ]
     },
     "execution_count": 76,
     "metadata": {},
     "output_type": "execute_result"
    }
   ],
   "source": [
    "p1 == p3"
   ]
  },
  {
   "cell_type": "code",
   "execution_count": 77,
   "id": "a47267fd",
   "metadata": {},
   "outputs": [
    {
     "data": {
      "text/plain": [
       "40"
      ]
     },
     "execution_count": 77,
     "metadata": {},
     "output_type": "execute_result"
    }
   ],
   "source": [
    "p1 + 20  #p1.__add__(20)"
   ]
  },
  {
   "cell_type": "code",
   "execution_count": 78,
   "id": "c684380d",
   "metadata": {},
   "outputs": [],
   "source": [
    "p = Person('홍길동', 30)\n",
    "p2 =Person('이순신', 10)\n",
    "p3 =Person('강감찬', 40)"
   ]
  },
  {
   "cell_type": "code",
   "execution_count": 79,
   "id": "3b4d3908",
   "metadata": {},
   "outputs": [
    {
     "name": "stdout",
     "output_type": "stream",
     "text": [
      "Person 클래스는 우리가 관리하는 Person데이터를 표현한다.\n"
     ]
    }
   ],
   "source": [
    "# static 메소드 호출\n",
    "Person.print_class_info()"
   ]
  },
  {
   "cell_type": "code",
   "execution_count": 80,
   "id": "08c1e58b",
   "metadata": {},
   "outputs": [
    {
     "data": {
      "text/plain": [
       "['교사', '학생']"
      ]
     },
     "execution_count": 80,
     "metadata": {},
     "output_type": "execute_result"
    }
   ],
   "source": [
    "# 클래스 변수 호출: 클래스이름.변수명\n",
    "Person.job_list"
   ]
  },
  {
   "cell_type": "code",
   "execution_count": 81,
   "id": "84979994",
   "metadata": {},
   "outputs": [
    {
     "name": "stdout",
     "output_type": "stream",
     "text": [
      "append <class '__main__.Person'>\n"
     ]
    }
   ],
   "source": [
    "Person.append_data_job_list('교직원')"
   ]
  },
  {
   "cell_type": "code",
   "execution_count": 82,
   "id": "5c7bd99a",
   "metadata": {},
   "outputs": [
    {
     "data": {
      "text/plain": [
       "['교사', '학생', '교직원']"
      ]
     },
     "execution_count": 82,
     "metadata": {},
     "output_type": "execute_result"
    }
   ],
   "source": [
    "Person.job_list"
   ]
  },
  {
   "cell_type": "code",
   "execution_count": 83,
   "id": "a0b996f9",
   "metadata": {},
   "outputs": [
    {
     "name": "stdout",
     "output_type": "stream",
     "text": [
      "<class '__main__.Person'>\n"
     ]
    }
   ],
   "source": [
    "print(Person)"
   ]
  },
  {
   "cell_type": "code",
   "execution_count": 84,
   "id": "67a39a0c",
   "metadata": {},
   "outputs": [
    {
     "name": "stdout",
     "output_type": "stream",
     "text": [
      "이름: 홍길동, 나이: 20, 직무: 교사\n",
      "이름: 이순신, 나이: 10, 직무: 학생\n"
     ]
    }
   ],
   "source": [
    "p1 = Person('홍길동', 20, Person.job_list[0])\n",
    "p2 = Person('이순신', 10, Person.job_list[1])\n",
    "print(p1)\n",
    "print(p2)"
   ]
  }
 ],
 "metadata": {
  "kernelspec": {
   "display_name": "Python 3 (ipykernel)",
   "language": "python",
   "name": "python3"
  },
  "language_info": {
   "codemirror_mode": {
    "name": "ipython",
    "version": 3
   },
   "file_extension": ".py",
   "mimetype": "text/x-python",
   "name": "python",
   "nbconvert_exporter": "python",
   "pygments_lexer": "ipython3",
   "version": "3.9.7"
  }
 },
 "nbformat": 4,
 "nbformat_minor": 5
}
